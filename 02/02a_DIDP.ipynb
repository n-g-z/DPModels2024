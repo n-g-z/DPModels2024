{
 "cells": [
  {
   "cell_type": "markdown",
   "metadata": {
    "slideshow": {
     "slide_type": "slide"
    }
   },
   "source": [
    "<img src=\"img/bigsem.png\" width=\"40%\" align=\"right\">\n",
    "<img src=\"img/logo_wiwi.png\" width=\"20%\" align=\"left\">\n",
    "\n",
    "\n",
    "\n",
    "\n",
    "\n",
    "<br><br><br><br>\n",
    "\n",
    "# Dynamic Programming Models in Combinatorial Optimization\n",
    "**Winter Term 2024/25**\n",
    "\n",
    "\n",
    "# 2a: Domain-Independent Dynamic Programming\n",
    "\n",
    "<img src=\"img/decision_analytics_logo.png\" width=\"17%\" align=\"right\">\n",
    "\n",
    "\n",
    "<br>\n",
    "\n",
    "<br>\n",
    "<br>\n",
    "\n",
    "**J-Prof. Dr. Michael Römer |  Decision Analytics Group**\n",
    "                                                    \n"
   ]
  },
  {
   "cell_type": "code",
   "execution_count": 2,
   "metadata": {
    "slideshow": {
     "slide_type": "skip"
    }
   },
   "outputs": [],
   "source": [
    "import matplotlib.pyplot as plt\n",
    "import numpy as np\n",
    "import pandas as pd\n",
    "from numba import njit\n",
    "from typing import NamedTuple, Callable\n",
    "# import keyboard\n",
    "from IPython.display import SVG, display, clear_output\n",
    "import networkx as nx\n"
   ]
  },
  {
   "cell_type": "markdown",
   "metadata": {
    "slideshow": {
     "slide_type": "slide"
    }
   },
   "source": [
    "# Overview\n",
    "- Modelling Exercises\n",
    "- Domain-Independent Dynamic Programming"
   ]
  },
  {
   "cell_type": "markdown",
   "metadata": {
    "slideshow": {
     "slide_type": "slide"
    }
   },
   "source": [
    "## Example: the 0/1 knapsack problem\n",
    "\n",
    "Given \n",
    "- a knapsack with a capacity $W$ \n",
    "- and a set of items, each with a weight $w_i$ and a value $p_i$\n",
    "- determine the the subset of the items to put in the knapsack such that\n",
    "  - the total value of the items in the knapsack is maximal and\n",
    "  - the total weight of the items in the knapsack does not exceed $W$"
   ]
  },
  {
   "cell_type": "markdown",
   "metadata": {
    "slideshow": {
     "slide_type": "slide"
    }
   },
   "source": [
    "## The Travelling Salesperson Problem\n",
    "\n",
    "<img src=\"https://pup-assets.imgix.net/onix/images/9780691163529.jpg\" width=\"20%\" align=\"right\">\n",
    "\n",
    "\n",
    "**Informal problem statement:** Given a set of cities and the distances between the cities, find a minimum-cost round-trip that visits each city exactly once.\n",
    "\n",
    "**More formally:** Given a complete graph and distances between each pair of nodes in the graph, find a cost-minimal hamiltonian cycle in the graph\n",
    "\n",
    "\n",
    "- one of the best-known combinatorial opimization problem \n",
    "- **A nice book on the TSP:**  [In Pursuit of the Traveling Salesman](https://press.princeton.edu/books/paperback/9780691163529/in-pursuit-of-the-traveling-salesman)\n",
    " - die story of the TSP presented by one of its protagonists (William Cook)\n",
    "- TSP website: https://www.math.uwaterloo.ca/tsp/index.html\n",
    "- there are a lot of instances\n",
    "    - in particular, there is a full library of instances, the so-called [TSPLib](http://comopt.ifi.uni-heidelberg.de/software/TSPLIB95/)\n",
    "    - some of them are part of the git repository for the course material\n",
    "    - [here](http://comopt.ifi.uni-heidelberg.de/software/TSPLIB95/STSP.html) you find optimal objective values for many instances\n",
    "\n",
    "**..and there is even a Python library dedicated to solving the TSP: [`python-tsp`](https://github.com/fillipe-gsm/python-tsp)** "
   ]
  },
  {
   "cell_type": "markdown",
   "metadata": {
    "slideshow": {
     "slide_type": "slide"
    }
   },
   "source": [
    "## The Python library `python-tsp`\n",
    "\n",
    "see: https://github.com/fillipe-gsm/python-tsp\n",
    "\n",
    "### offers:\n",
    "- functions to read TSP instances in the tsplib-format\n",
    "  \n",
    "  \n",
    "  "
   ]
  },
  {
   "cell_type": "code",
   "execution_count": 4,
   "metadata": {
    "scrolled": true,
    "slideshow": {
     "slide_type": "-"
    }
   },
   "outputs": [
    {
     "name": "stdout",
     "output_type": "stream",
     "text": [
      "CPU times: user 83.4 ms, sys: 16.3 ms, total: 99.8 ms\n",
      "Wall time: 718 ms\n"
     ]
    }
   ],
   "source": [
    "%%time\n",
    "from python_tsp.distances import tsplib_distance_matrix\n",
    "\n",
    "#tsplib_file = \"./../problems/tsp/instances/a280.tsp\" # optimal solution 2579 (lt. http://comopt.ifi.uni-heidelberg.de/software/TSPLIB95/STSP.html)\n",
    "tsplib_file = \"./../problems/tsp/instances/brazil58.tsp\" # optimal solution 25395 (lt. http://comopt.ifi.uni-heidelberg.de/software/TSPLIB95/STSP.html)\n",
    "#tsplib_file = \"./../problems/tsp/instances/berlin52.tsp\" # optimal solution  7542 (lt. http://comopt.ifi.uni-heidelberg.de/software/TSPLIB95/STSP.html)\n",
    "\n",
    "distance_matrix = tsplib_distance_matrix(tsplib_file)\n",
    "\n"
   ]
  },
  {
   "cell_type": "markdown",
   "metadata": {
    "slideshow": {
     "slide_type": "fragment"
    }
   },
   "source": [
    "- and heuristic as well as exact TSP algorithms\n",
    "  - e.g. local search, simulated annealing and dynamic programming (exact: careful, may take very long)"
   ]
  },
  {
   "cell_type": "code",
   "execution_count": 5,
   "metadata": {
    "slideshow": {
     "slide_type": "-"
    }
   },
   "outputs": [
    {
     "name": "stdout",
     "output_type": "stream",
     "text": [
      "CPU times: user 1 s, sys: 14.5 ms, total: 1.02 s\n",
      "Wall time: 1.05 s\n"
     ]
    },
    {
     "data": {
      "text/plain": [
       "np.int64(26051)"
      ]
     },
     "execution_count": 5,
     "metadata": {},
     "output_type": "execute_result"
    }
   ],
   "source": [
    "%%time\n",
    "from python_tsp.heuristics import solve_tsp_local_search, solve_tsp_simulated_annealing\n",
    "\n",
    "#permutation, distance = solve_tsp_local_search(distance_matrix)\n",
    "\n",
    "permutation, distance = solve_tsp_simulated_annealing(distance_matrix)\n",
    "distance"
   ]
  },
  {
   "cell_type": "markdown",
   "metadata": {
    "slideshow": {
     "slide_type": "slide"
    }
   },
   "source": [
    "## Representing a DP model in Python\n",
    "\n",
    "- we can collect these three functions in a `NamedTuple` as follows:"
   ]
  },
  {
   "cell_type": "code",
   "execution_count": 6,
   "metadata": {},
   "outputs": [],
   "source": [
    "class DP(NamedTuple):\n",
    "    feasible_decisions : Callable\n",
    "    transition_function : Callable\n",
    "    cost_function : Callable\n",
    "    direction : str # 'max' or 'min'"
   ]
  },
  {
   "cell_type": "markdown",
   "metadata": {
    "slideshow": {
     "slide_type": "-"
    }
   },
   "source": [
    "#### States\n",
    "- we are free to define our state representation\n",
    "- for later purposes, it will be useful if the state variable is immutable, therefore tuples or namedtuple are useful data structures for states\n",
    "\n",
    "\n",
    "#### Decisions\n",
    "- in most cases in this part, we will assume that decisions are integers, but note that this is not required as long as the transition function works\n",
    "- however, for now, we assume that decisions only induce a change between stages -- we will relax that requirement later in the course\n",
    "\n",
    "\n",
    "#### Instance data\n",
    "- all functions named above take an instance as parameter. Instance data does not have to take a certain form, it just needs to \"match\" the (problem-specific) functions"
   ]
  },
  {
   "cell_type": "markdown",
   "metadata": {
    "slideshow": {
     "slide_type": "slide"
    }
   },
   "source": [
    "## Generic helper functions to deal with maximization and minimization"
   ]
  },
  {
   "cell_type": "code",
   "execution_count": 7,
   "metadata": {
    "slideshow": {
     "slide_type": "-"
    }
   },
   "outputs": [],
   "source": [
    "@njit \n",
    "def better(value1, value2, direction):\n",
    "    if direction == \"min\":\n",
    "        return value1 < value2\n",
    "    else:\n",
    "        return value1 > value2\n"
   ]
  },
  {
   "cell_type": "code",
   "execution_count": 11,
   "metadata": {
    "slideshow": {
     "slide_type": "-"
    }
   },
   "outputs": [
    {
     "data": {
      "text/plain": [
       "True"
      ]
     },
     "execution_count": 11,
     "metadata": {},
     "output_type": "execute_result"
    }
   ],
   "source": [
    "better(3,4,\"min\")"
   ]
  },
  {
   "cell_type": "code",
   "execution_count": 12,
   "metadata": {
    "slideshow": {
     "slide_type": "fragment"
    }
   },
   "outputs": [],
   "source": [
    "@njit\n",
    "def best(collection, direction):\n",
    "    if direction == \"min\":\n",
    "        return min(collection)\n",
    "    else:\n",
    "        return max(collection)"
   ]
  },
  {
   "cell_type": "code",
   "execution_count": 13,
   "metadata": {},
   "outputs": [
    {
     "name": "stdout",
     "output_type": "stream",
     "text": [
      "1\n",
      "8\n"
     ]
    }
   ],
   "source": [
    "example_values = [2,8,7,1,5]\n",
    "\n",
    "print(best(example_values,\"min\"))\n",
    "print(best(example_values,\"max\"))"
   ]
  },
  {
   "cell_type": "code",
   "execution_count": 14,
   "metadata": {
    "slideshow": {
     "slide_type": "fragment"
    }
   },
   "outputs": [],
   "source": [
    "from heapq import nsmallest\n",
    "from heapq import nlargest\n",
    "\n",
    "@njit \n",
    "def nbest(n,collection, direction):\n",
    "    if direction == \"min\":\n",
    "        return nsmallest(n,collection)\n",
    "    else:\n",
    "        return nlargest(n,collection)"
   ]
  },
  {
   "cell_type": "code",
   "execution_count": 15,
   "metadata": {},
   "outputs": [
    {
     "name": "stdout",
     "output_type": "stream",
     "text": [
      "[1, 2]\n",
      "[8, 7]\n"
     ]
    }
   ],
   "source": [
    "print(nbest(2,example_values,\"min\"))\n",
    "print(nbest(2,example_values,\"max\"))"
   ]
  },
  {
   "cell_type": "markdown",
   "metadata": {
    "slideshow": {
     "slide_type": "slide"
    }
   },
   "source": [
    "## Example: A DP model for the Knapsack Problem\n",
    "\n",
    "Given:\n",
    "- a knapsack instance with $N$ items with weights $w_k$ and profits $p_k$ (zero-indexed) and capacity $W$ \n",
    "\n",
    "- state $x_k$: accumulated weight after adding the first $k-1$ items, $x_0 = 0$\n",
    "- decision $u_k \\in \\{0, 1\\}$ (0: do not add item $k$ to the knapsack; 1: add item $k$)\n",
    "- $U_k(x_k) = \\begin{cases} \n",
    "                \\{0,1\\} \\quad \\mathrm{if} \\quad x_k + w_k \\leq W \\\\\n",
    "                \\{0 \\} \\quad \\mathrm{else}\n",
    "\\end{cases}$\n",
    "- $f(x_k, u_k) = x_k + w_k u_k $\n",
    "- $g(x_k, u_k) = p_k u_k$\n",
    "\n",
    "We have a maximization-objective:\n",
    "\n",
    "$$\\max_{u_0,..,u_k,..u_{N-1}} \\sum_{k=0}^{N-1} g_k(x_k,u_k)$$\n"
   ]
  },
  {
   "cell_type": "markdown",
   "metadata": {
    "slideshow": {
     "slide_type": "slide"
    }
   },
   "source": [
    "## The Knapsack DP Model in Python"
   ]
  },
  {
   "cell_type": "code",
   "execution_count": 16,
   "metadata": {
    "slideshow": {
     "slide_type": "fragment"
    }
   },
   "outputs": [],
   "source": [
    "class  KPInstance(NamedTuple):\n",
    "    values:np.array\n",
    "    weights:np.array\n",
    "    capacity:int\n",
    "    N:int   \n",
    "\n",
    "@njit\n",
    "def feasible_decisions_kp(instance, k, acc_weight):    \n",
    "    if acc_weight + instance.weights[k] <= instance.capacity: return [0,1]\n",
    "    else: return [0]\n",
    "\n",
    "@njit\n",
    "def transition_function_kp(instance, k, acc_weight, put):\n",
    "    return acc_weight + put*instance.weights[k]\n",
    "\n",
    "@njit\n",
    "def cost_function_kp(instance, k, acc_weight, put):\n",
    "      return put*instance.values[k]"
   ]
  },
  {
   "cell_type": "markdown",
   "metadata": {
    "slideshow": {
     "slide_type": "fragment"
    }
   },
   "source": [
    "Putting all together, and stating that we have a maximization objective"
   ]
  },
  {
   "cell_type": "code",
   "execution_count": 17,
   "metadata": {
    "slideshow": {
     "slide_type": "-"
    }
   },
   "outputs": [],
   "source": [
    "dp_kp = DP(feasible_decisions_kp, transition_function_kp,  cost_function_kp, \"max\")"
   ]
  },
  {
   "cell_type": "markdown",
   "metadata": {
    "slideshow": {
     "slide_type": "slide"
    }
   },
   "source": [
    "## An instance reader function for the Knapsack Problem"
   ]
  },
  {
   "cell_type": "code",
   "execution_count": 18,
   "metadata": {},
   "outputs": [],
   "source": [
    "\n",
    "def read_kp_instance(filename, sorted=True):\n",
    "    weights=[]\n",
    "    values=[]\n",
    "    with open(filename) as f: # open the file\n",
    "        line = f.readline().split()  # split first row\n",
    "        number_of_items = int(line[0]) # read number of items\n",
    "        capacity = int(line[1]) # read capacity\n",
    "        for i in range(number_of_items): # read rows for the items\n",
    "            line = f.readline().split() # split row\n",
    "            values.append(int(line[0])) # read value\n",
    "            weights.append(int(line[1])) # read weight\n",
    "            \n",
    "    values = np.array(values)\n",
    "    weights = np.array(weights)    \n",
    "    \n",
    "    \n",
    "    if sorted:\n",
    "        sorted_indexes = np.argsort(-1* values/weights)\n",
    "    values = values[sorted_indexes]\n",
    "    weights = weights[sorted_indexes]\n",
    "     \n",
    "        \n",
    "    return KPInstance(values, weights, capacity, number_of_items)"
   ]
  },
  {
   "cell_type": "code",
   "execution_count": 19,
   "metadata": {},
   "outputs": [],
   "source": [
    "filename = \"./../problems/knapsack/instances/knapPI_1_5000_1000_1\" # optimal value: 276457 \n",
    "#filename = \"./../problems/knapsack/instances/knapPI_1_100_1000_1\"\n",
    "kp_instance = read_kp_instance(filename)"
   ]
  },
  {
   "cell_type": "markdown",
   "metadata": {
    "slideshow": {
     "slide_type": "slide"
    }
   },
   "source": [
    "## Example: A DP model for the TSP\n",
    "\n",
    "Given:\n",
    "- a TSP instance with a $N$ cities and distances $d_{i,j}$ between cities $i,j$\n",
    "  - let us denote with $\\mathcal{N} = \\{1, \\ldots N \\}$ the set of cities \n",
    "  \n",
    "\n",
    "\n",
    "- state $x_k$: sequence / ordered set of cities visited so far, $x_0 = i^0$ where $i^0$ is the first city\n",
    "  - let us define $l(x_k)$ as the last element in the ordered set, that is, the \"current\" city\n",
    "\n",
    "- decision $u_k \\in \\mathcal{N}$ city to visit next \n",
    "- $U_k(x_k) = \\mathcal{N} \\setminus x_k$\n",
    "- $f(x_k, u_k) = x_k + u_k$  (here, with $+$ we mean to append $u_k$ to the sequence / ordered set $x_k$\n",
    "- $g(x_k, u_k) = \\begin{cases} \n",
    "                d_{l(x_k), u_k} \\quad \\mathrm{if} \\quad k < N-1 \\\\\n",
    "               d_{l(x_k), u_k} +  d_{u_k, i^0} \\quad  \\mathrm{if} \\quad k = N-1\n",
    "\\end{cases}$\n",
    "\n",
    "We have a minimization objective:\n",
    "\n",
    "$$\\min_{u_0,..,u_k,..u_{N-1}} \\sum_{k=0}^{N-1} g_k(x_k,u_k)$$\n",
    "\n"
   ]
  },
  {
   "cell_type": "markdown",
   "metadata": {
    "slideshow": {
     "slide_type": "slide"
    }
   },
   "source": [
    "## Example: DP model for the TSP in Python (slightly changed)"
   ]
  },
  {
   "cell_type": "code",
   "execution_count": 20,
   "metadata": {
    "slideshow": {
     "slide_type": "-"
    }
   },
   "outputs": [],
   "source": [
    "class TSPInstance(NamedTuple):\n",
    "    distance_matrix : np.array\n",
    "    N : int\n",
    "\n",
    "@njit\n",
    "def feasible_decisions_tsp(instance, k, sequence):\n",
    "    if (k < instance.N-1):\n",
    "        return np.array([i for i in range(instance.N+1) if i not in sequence])    \n",
    "    else:\n",
    "        return np.array([sequence[0]])  \n",
    "\n",
    "@njit\n",
    "def transition_function_tsp(instance, k, sequence, neighbor):\n",
    "    if (k < instance.N-1):\n",
    "        return sequence + [neighbor]\n",
    "    else: \n",
    "        return sequence\n",
    "\n",
    "@njit\n",
    "def cost_function_tsp(instance, k, sequence, neighbor):    \n",
    "    if k < instance.N-1:\n",
    "        return instance.distance_matrix[sequence[k]][neighbor]\n",
    "    else:\n",
    "        return instance.distance_matrix[neighbor][sequence[0]]\n",
    "\n",
    "dp_tsp = DP(feasible_decisions_tsp, transition_function_tsp,  cost_function_tsp, \"min\")"
   ]
  },
  {
   "cell_type": "markdown",
   "metadata": {
    "slideshow": {
     "slide_type": "slide"
    }
   },
   "source": [
    "## An instance reader function for the TSP"
   ]
  },
  {
   "cell_type": "code",
   "execution_count": 21,
   "metadata": {},
   "outputs": [],
   "source": [
    "def read_tsp_instance(filename):    \n",
    "    distance_matrix = tsplib_distance_matrix(filename)\n",
    "    return TSPInstance(distance_matrix, len(distance_matrix)-1)"
   ]
  },
  {
   "cell_type": "code",
   "execution_count": 23,
   "metadata": {},
   "outputs": [],
   "source": [
    "tsplib_file = \"./../problems/tsp/instances/brazil58.tsp\" # optimal solution 25395 (lt. http://comopt.ifi.uni-heidelberg.de/software/TSPLIB95/STSP.html)\n",
    "#tsplib_file = \"./../problems/tsp/instances/berlin52.tsp\" # optimal solution  7542 (lt. http://comopt.ifi.uni-heidelberg.de/software/TSPLIB95/STSP.html)\n",
    "\n",
    "tsp_instance = read_tsp_instance(tsplib_file)"
   ]
  },
  {
   "cell_type": "markdown",
   "metadata": {
    "slideshow": {
     "slide_type": "slide"
    }
   },
   "source": [
    "# Generic implementations of algorithms based on the generic DP model"
   ]
  },
  {
   "cell_type": "markdown",
   "metadata": {
    "slideshow": {
     "slide_type": "slide"
    }
   },
   "source": [
    "## Generic greedy for DP models\n",
    "\n",
    "- given a generic DP model, we can now start devising generic implementation of algorithms operating on DP models\n",
    "- as an example, we can generically implement greedy as follows:\n",
    "\n",
    "**Observe:**\n",
    "- below, we avoid some loops by directly working on arrays of decisions\n"
   ]
  },
  {
   "cell_type": "code",
   "execution_count": 24,
   "metadata": {},
   "outputs": [],
   "source": [
    "# @njit\n",
    "def dp_greedy(dp, instance, state_start):\n",
    "    \n",
    "    state = state_start    \n",
    "    solution_decisions = []    \n",
    "    total_cost = 0\n",
    "    \n",
    "    for k in range(instance.N):          \n",
    "        # get feasible decisions\n",
    "        decisions = dp.feasible_decisions(instance, k, state)\n",
    "        \n",
    "        if decisions is None or len(decisions) == 0: continue            \n",
    "        \n",
    "        # create a tuple (cost, decision) for each decision\n",
    "        costs_decisions =[(dp.cost_function(instance, k, state, d), d) for d in decisions]\n",
    "        \n",
    "        #get the best decision \n",
    "        best_cost, best_decision = best(costs_decisions, dp.direction) \n",
    "        \n",
    "        #get target state\n",
    "        state = dp.transition_function(instance, k, state, best_decision)\n",
    "\n",
    "        total_cost += best_cost\n",
    "        solution_decisions.append(best_decision)\n",
    "        \n",
    "    return total_cost, solution_decisions"
   ]
  },
  {
   "cell_type": "markdown",
   "metadata": {
    "slideshow": {
     "slide_type": "slide"
    }
   },
   "source": [
    "## Exercise: Using a different state-transition model for the TSP\n",
    "\n",
    "We can also model the TSP using the following state information:\n",
    "\n",
    "- the start node (depot)\n",
    "- the current node (location)\n",
    "- the set of unvisited nodes\n",
    "\n",
    "For the sake of simplicity, let us from now on assume that node 0 is the depot, that is, we do not have to store the depot in the state.\n",
    "\n",
    "Create a DP-Model for this.\n",
    "\n",
    "Hint: use either a tuple or a namedtuple\n",
    "\n",
    "\n"
   ]
  },
  {
   "cell_type": "code",
   "execution_count": 25,
   "metadata": {},
   "outputs": [],
   "source": [
    "# we assume that the start node is always zero (for the TSP it doesn't actually matter)\n",
    "class TSPState(NamedTuple):\n",
    "    idx: int\n",
    "    unvisited: set\n",
    "\n",
    "def feasible_decisions_tsp_new(instance: TSPInstance, k: int, tsp_state: TSPState):\n",
    "    if (k < instance.N-1):\n",
    "        return list(tsp_state.unvisited)\n",
    "    else:\n",
    "        return [0]\n",
    "    \n",
    "def transition_function_tsp_new(instance: TSPInstance, k:int, tsp_state: TSPState, neighbor_idx: int):\n",
    "    if k < instance.N-1:\n",
    "        return TSPState(neighbor_idx, tsp_state.unvisited - set([neighbor_idx]))\n",
    "    else:\n",
    "        assert not tsp_state.unvisited, \"Not all nodes have been visited\"\n",
    "        return TSPState(0, tsp_state.unvisited)\n",
    "    \n",
    "def cost_function_tsp_new(instance: TSPInstance, k: int, tsp_state: TSPState, neighbor_idx: int):\n",
    "    return instance.distance_matrix[tsp_state.idx][neighbor_idx]\n",
    "\n",
    "dp_tsp_new = DP(\n",
    "    feasible_decisions=feasible_decisions_tsp_new, \n",
    "    transition_function=transition_function_tsp_new, \n",
    "    cost_function=cost_function_tsp_new, \n",
    "    direction=\"min\"\n",
    ")"
   ]
  },
  {
   "cell_type": "code",
   "execution_count": 26,
   "metadata": {
    "scrolled": true
   },
   "outputs": [
    {
     "data": {
      "text/plain": [
       "30799"
      ]
     },
     "execution_count": 26,
     "metadata": {},
     "output_type": "execute_result"
    }
   ],
   "source": [
    "start_state = TSPState(0, set(range(1, tsp_instance.N)))\n",
    "dp_greedy(dp=dp_tsp_new, instance=tsp_instance, state_start=start_state)[0]"
   ]
  },
  {
   "cell_type": "markdown",
   "metadata": {
    "slideshow": {
     "slide_type": "slide"
    }
   },
   "source": [
    "## Exercise: TSP with Time Windows\n",
    "\n",
    "\n",
    "Let us now consider the TSP-TW in which\n",
    "- each customer $i$ (witha a node index > 0) is associated with a time window $[a_i, b_i]$ within which they have to be visited\n",
    "- if we arrive at $i$ before $a_i$, we have to wait at $a_i$\n",
    "- if we arrive later than $b_i$ at a node $i$, the solution is infeasible\n",
    "\n",
    "\n"
   ]
  },
  {
   "cell_type": "code",
   "execution_count": 27,
   "metadata": {},
   "outputs": [],
   "source": [
    "class TSPTW_Instance(NamedTuple):\n",
    "    distance_matrix : np.array\n",
    "    a : np.array\n",
    "    b : np.array\n",
    "    N : int\n",
    "\n",
    "\n",
    "def read_tsptw_instance(filename):\n",
    "    with open(filename) as f:\n",
    "        values = f.read().split()\n",
    "\n",
    "    position = 0\n",
    "    n = int(values[position])\n",
    "    position += 1\n",
    "    nodes = list(range(n))\n",
    "    edges = {}\n",
    "    for i in range(n):\n",
    "        for j in range(n):\n",
    "            if i != j:\n",
    "                try:\n",
    "                    edges[i, j] = int(values[position])\n",
    "                except ValueError:\n",
    "                    edges[i, j] = float(values[position])\n",
    "            position += 1\n",
    "    a = {}\n",
    "    b = {}\n",
    "    for i in range(n):\n",
    "        try:\n",
    "            a[i] = int(values[position])\n",
    "        except ValueError:\n",
    "            a[i] = float(values[position])\n",
    "        position += 1\n",
    "        try:\n",
    "            b[i] = int(values[position])\n",
    "        except ValueError:\n",
    "            b[i] = float(values[position])\n",
    "        position += 1\n",
    "        \n",
    "    distance_matrix = [\n",
    "        [edges[i, j] if (i, j) in edges else 0 for j in nodes] for i in nodes\n",
    "    ]\n",
    "\n",
    "    return TSPTW_Instance(distance_matrix, list(a.values()), list(b.values()), n)"
   ]
  },
  {
   "cell_type": "code",
   "execution_count": 28,
   "metadata": {},
   "outputs": [],
   "source": [
    "# Number of locations\n",
    "n = 4\n",
    "# Ready time\n",
    "a = [0, 5, 0, 8]\n",
    "# Due time\n",
    "b = [100, 16, 10, 14]\n",
    "# Travel time\n",
    "c = [\n",
    "    [0, 3, 4, 5],\n",
    "    [3, 0, 5, 4],\n",
    "    [4, 5, 0, 3],\n",
    "    [5, 4, 3, 0],\n",
    "]\n",
    "\n",
    "tsptw_instance_tiny = TSPTW_Instance(c,a,b,n)\n",
    "\n",
    "filename = \"./../problems/tsptw/Dumas/n80w60.001.txt\"\n",
    "tsptw_instance = read_tsptw_instance(filename)"
   ]
  },
  {
   "cell_type": "markdown",
   "metadata": {
    "slideshow": {
     "slide_type": "slide"
    }
   },
   "source": [
    "## Create a DP Model for the TSP-TW\n",
    "\n",
    "- use our new model as the basis for a DP model for the TSP-TW\n",
    "- how should we modify the state variable?\n",
    "- how do we extend the other parts of the DP model?\n",
    "\n",
    "\n",
    "\n",
    "\n"
   ]
  },
  {
   "cell_type": "code",
   "execution_count": 29,
   "metadata": {},
   "outputs": [],
   "source": [
    "class TSPTWState(NamedTuple):\n",
    "    idx: int\n",
    "    unvisited: set\n",
    "    curr_time: float\n",
    "\n",
    "def feasible_decisions_tsptw(instance: TSPTW_Instance, k: int, tsptw_state: TSPTWState):\n",
    "    if k < instance.N-1:\n",
    "        feasible_next_nodes = []\n",
    "        for node in tsptw_state.unvisited:\n",
    "            if tsptw_state.curr_time + instance.distance_matrix[tsptw_state.idx][node] <= instance.b[node]:\n",
    "                feasible_next_nodes.append(node)\n",
    "        return feasible_next_nodes\n",
    "    else:\n",
    "        return [0]\n",
    "    \n",
    "def transition_function_tsptw(instance: TSPTW_Instance, k:int, tsptw_state: TSPTWState, neighbor_idx: int):\n",
    "    if k < instance.N-1:\n",
    "        travel_time = instance.distance_matrix[tsptw_state.idx][neighbor_idx]\n",
    "        return TSPTWState(\n",
    "            idx=neighbor_idx, \n",
    "            unvisited=tsptw_state.unvisited - {neighbor_idx}, \n",
    "            curr_time=max(tsptw_state.curr_time + travel_time, instance.a[neighbor_idx])\n",
    "        )\n",
    "    else:\n",
    "        assert not tsptw_state.unvisited, f\"Some nodes have not been visited: {list(tsptw_state.unvisited)}\"\n",
    "        return TSPTWState(idx=0, unvisited=tsptw_state.unvisited, curr_time=tsptw_state.curr_time + instance.distance_matrix[tsptw_state.idx][0])\n",
    "    \n",
    "dp_tsptw = DP(\n",
    "    feasible_decisions=feasible_decisions_tsptw, \n",
    "    transition_function=transition_function_tsptw, \n",
    "    cost_function=cost_function_tsp_new, \n",
    "    direction=\"min\"\n",
    ")"
   ]
  },
  {
   "cell_type": "code",
   "execution_count": 30,
   "metadata": {},
   "outputs": [
    {
     "ename": "AssertionError",
     "evalue": "Some nodes have not been visited: [2]",
     "output_type": "error",
     "traceback": [
      "\u001b[0;31m---------------------------------------------------------------------------\u001b[0m",
      "\u001b[0;31mAssertionError\u001b[0m                            Traceback (most recent call last)",
      "Cell \u001b[0;32mIn[30], line 3\u001b[0m\n\u001b[1;32m      1\u001b[0m \u001b[38;5;66;03m# tiny instance\u001b[39;00m\n\u001b[1;32m      2\u001b[0m start_state_tiny \u001b[38;5;241m=\u001b[39m TSPTWState(idx\u001b[38;5;241m=\u001b[39m\u001b[38;5;241m0\u001b[39m, unvisited\u001b[38;5;241m=\u001b[39m\u001b[38;5;28mset\u001b[39m(\u001b[38;5;28mrange\u001b[39m(\u001b[38;5;241m1\u001b[39m, tsptw_instance_tiny\u001b[38;5;241m.\u001b[39mN)), curr_time\u001b[38;5;241m=\u001b[39m\u001b[38;5;241m0\u001b[39m)\n\u001b[0;32m----> 3\u001b[0m \u001b[43mdp_greedy\u001b[49m\u001b[43m(\u001b[49m\u001b[43mdp\u001b[49m\u001b[38;5;241;43m=\u001b[39;49m\u001b[43mdp_tsptw\u001b[49m\u001b[43m,\u001b[49m\u001b[43m \u001b[49m\u001b[43minstance\u001b[49m\u001b[38;5;241;43m=\u001b[39;49m\u001b[43mtsptw_instance_tiny\u001b[49m\u001b[43m,\u001b[49m\u001b[43m \u001b[49m\u001b[43mstate_start\u001b[49m\u001b[38;5;241;43m=\u001b[39;49m\u001b[43mstart_state_tiny\u001b[49m\u001b[43m)\u001b[49m\n",
      "Cell \u001b[0;32mIn[24], line 21\u001b[0m, in \u001b[0;36mdp_greedy\u001b[0;34m(dp, instance, state_start)\u001b[0m\n\u001b[1;32m     18\u001b[0m best_cost, best_decision \u001b[38;5;241m=\u001b[39m best(costs_decisions, dp\u001b[38;5;241m.\u001b[39mdirection) \n\u001b[1;32m     20\u001b[0m \u001b[38;5;66;03m#get target state\u001b[39;00m\n\u001b[0;32m---> 21\u001b[0m state \u001b[38;5;241m=\u001b[39m \u001b[43mdp\u001b[49m\u001b[38;5;241;43m.\u001b[39;49m\u001b[43mtransition_function\u001b[49m\u001b[43m(\u001b[49m\u001b[43minstance\u001b[49m\u001b[43m,\u001b[49m\u001b[43m \u001b[49m\u001b[43mk\u001b[49m\u001b[43m,\u001b[49m\u001b[43m \u001b[49m\u001b[43mstate\u001b[49m\u001b[43m,\u001b[49m\u001b[43m \u001b[49m\u001b[43mbest_decision\u001b[49m\u001b[43m)\u001b[49m\n\u001b[1;32m     23\u001b[0m total_cost \u001b[38;5;241m+\u001b[39m\u001b[38;5;241m=\u001b[39m best_cost\n\u001b[1;32m     24\u001b[0m solution_decisions\u001b[38;5;241m.\u001b[39mappend(best_decision)\n",
      "Cell \u001b[0;32mIn[29], line 25\u001b[0m, in \u001b[0;36mtransition_function_tsptw\u001b[0;34m(instance, k, tsptw_state, neighbor_idx)\u001b[0m\n\u001b[1;32m     19\u001b[0m     \u001b[38;5;28;01mreturn\u001b[39;00m TSPTWState(\n\u001b[1;32m     20\u001b[0m         idx\u001b[38;5;241m=\u001b[39mneighbor_idx, \n\u001b[1;32m     21\u001b[0m         unvisited\u001b[38;5;241m=\u001b[39mtsptw_state\u001b[38;5;241m.\u001b[39munvisited \u001b[38;5;241m-\u001b[39m {neighbor_idx}, \n\u001b[1;32m     22\u001b[0m         curr_time\u001b[38;5;241m=\u001b[39m\u001b[38;5;28mmax\u001b[39m(tsptw_state\u001b[38;5;241m.\u001b[39mcurr_time \u001b[38;5;241m+\u001b[39m travel_time, instance\u001b[38;5;241m.\u001b[39ma[neighbor_idx])\n\u001b[1;32m     23\u001b[0m     )\n\u001b[1;32m     24\u001b[0m \u001b[38;5;28;01melse\u001b[39;00m:\n\u001b[0;32m---> 25\u001b[0m     \u001b[38;5;28;01massert\u001b[39;00m \u001b[38;5;129;01mnot\u001b[39;00m tsptw_state\u001b[38;5;241m.\u001b[39munvisited, \u001b[38;5;124mf\u001b[39m\u001b[38;5;124m\"\u001b[39m\u001b[38;5;124mSome nodes have not been visited: \u001b[39m\u001b[38;5;132;01m{\u001b[39;00m\u001b[38;5;28mlist\u001b[39m(tsptw_state\u001b[38;5;241m.\u001b[39munvisited)\u001b[38;5;132;01m}\u001b[39;00m\u001b[38;5;124m\"\u001b[39m\n\u001b[1;32m     26\u001b[0m     \u001b[38;5;28;01mreturn\u001b[39;00m TSPTWState(idx\u001b[38;5;241m=\u001b[39m\u001b[38;5;241m0\u001b[39m, unvisited\u001b[38;5;241m=\u001b[39mtsptw_state\u001b[38;5;241m.\u001b[39munvisited, curr_time\u001b[38;5;241m=\u001b[39mtsptw_state\u001b[38;5;241m.\u001b[39mcurr_time \u001b[38;5;241m+\u001b[39m instance\u001b[38;5;241m.\u001b[39mdistance_matrix[tsptw_state\u001b[38;5;241m.\u001b[39midx][\u001b[38;5;241m0\u001b[39m])\n",
      "\u001b[0;31mAssertionError\u001b[0m: Some nodes have not been visited: [2]"
     ]
    }
   ],
   "source": [
    "# tiny instance\n",
    "start_state_tiny = TSPTWState(idx=0, unvisited=set(range(1, tsptw_instance_tiny.N)), curr_time=0)\n",
    "dp_greedy(dp=dp_tsptw, instance=tsptw_instance_tiny, state_start=start_state_tiny)"
   ]
  },
  {
   "cell_type": "code",
   "execution_count": 31,
   "metadata": {},
   "outputs": [
    {
     "ename": "AssertionError",
     "evalue": "Some nodes have not been visited: [1, 3, 4, 7, 9, 10, 11, 12, 15, 16, 17, 18, 20, 21, 22, 24, 25, 26, 28, 29, 31, 32, 33, 34, 35, 36, 37, 38, 39, 40, 41, 42, 43, 44, 45, 47, 48, 49, 51, 52, 53, 54, 55, 56, 57, 58, 60, 61, 62, 64, 65, 66, 67, 68, 69, 70, 71, 72, 73, 74, 75, 77, 78, 79]",
     "output_type": "error",
     "traceback": [
      "\u001b[0;31m---------------------------------------------------------------------------\u001b[0m",
      "\u001b[0;31mAssertionError\u001b[0m                            Traceback (most recent call last)",
      "Cell \u001b[0;32mIn[31], line 3\u001b[0m\n\u001b[1;32m      1\u001b[0m \u001b[38;5;66;03m# other instance\u001b[39;00m\n\u001b[1;32m      2\u001b[0m start_state \u001b[38;5;241m=\u001b[39m TSPTWState(idx\u001b[38;5;241m=\u001b[39m\u001b[38;5;241m0\u001b[39m, unvisited\u001b[38;5;241m=\u001b[39m\u001b[38;5;28mset\u001b[39m(\u001b[38;5;28mrange\u001b[39m(\u001b[38;5;241m1\u001b[39m, tsptw_instance\u001b[38;5;241m.\u001b[39mN)), curr_time\u001b[38;5;241m=\u001b[39m\u001b[38;5;241m0\u001b[39m)\n\u001b[0;32m----> 3\u001b[0m \u001b[43mdp_greedy\u001b[49m\u001b[43m(\u001b[49m\u001b[43mdp\u001b[49m\u001b[38;5;241;43m=\u001b[39;49m\u001b[43mdp_tsptw\u001b[49m\u001b[43m,\u001b[49m\u001b[43m \u001b[49m\u001b[43minstance\u001b[49m\u001b[38;5;241;43m=\u001b[39;49m\u001b[43mtsptw_instance\u001b[49m\u001b[43m,\u001b[49m\u001b[43m \u001b[49m\u001b[43mstate_start\u001b[49m\u001b[38;5;241;43m=\u001b[39;49m\u001b[43mstart_state\u001b[49m\u001b[43m)\u001b[49m[\u001b[38;5;241m0\u001b[39m]\n",
      "Cell \u001b[0;32mIn[24], line 21\u001b[0m, in \u001b[0;36mdp_greedy\u001b[0;34m(dp, instance, state_start)\u001b[0m\n\u001b[1;32m     18\u001b[0m best_cost, best_decision \u001b[38;5;241m=\u001b[39m best(costs_decisions, dp\u001b[38;5;241m.\u001b[39mdirection) \n\u001b[1;32m     20\u001b[0m \u001b[38;5;66;03m#get target state\u001b[39;00m\n\u001b[0;32m---> 21\u001b[0m state \u001b[38;5;241m=\u001b[39m \u001b[43mdp\u001b[49m\u001b[38;5;241;43m.\u001b[39;49m\u001b[43mtransition_function\u001b[49m\u001b[43m(\u001b[49m\u001b[43minstance\u001b[49m\u001b[43m,\u001b[49m\u001b[43m \u001b[49m\u001b[43mk\u001b[49m\u001b[43m,\u001b[49m\u001b[43m \u001b[49m\u001b[43mstate\u001b[49m\u001b[43m,\u001b[49m\u001b[43m \u001b[49m\u001b[43mbest_decision\u001b[49m\u001b[43m)\u001b[49m\n\u001b[1;32m     23\u001b[0m total_cost \u001b[38;5;241m+\u001b[39m\u001b[38;5;241m=\u001b[39m best_cost\n\u001b[1;32m     24\u001b[0m solution_decisions\u001b[38;5;241m.\u001b[39mappend(best_decision)\n",
      "Cell \u001b[0;32mIn[29], line 25\u001b[0m, in \u001b[0;36mtransition_function_tsptw\u001b[0;34m(instance, k, tsptw_state, neighbor_idx)\u001b[0m\n\u001b[1;32m     19\u001b[0m     \u001b[38;5;28;01mreturn\u001b[39;00m TSPTWState(\n\u001b[1;32m     20\u001b[0m         idx\u001b[38;5;241m=\u001b[39mneighbor_idx, \n\u001b[1;32m     21\u001b[0m         unvisited\u001b[38;5;241m=\u001b[39mtsptw_state\u001b[38;5;241m.\u001b[39munvisited \u001b[38;5;241m-\u001b[39m {neighbor_idx}, \n\u001b[1;32m     22\u001b[0m         curr_time\u001b[38;5;241m=\u001b[39m\u001b[38;5;28mmax\u001b[39m(tsptw_state\u001b[38;5;241m.\u001b[39mcurr_time \u001b[38;5;241m+\u001b[39m travel_time, instance\u001b[38;5;241m.\u001b[39ma[neighbor_idx])\n\u001b[1;32m     23\u001b[0m     )\n\u001b[1;32m     24\u001b[0m \u001b[38;5;28;01melse\u001b[39;00m:\n\u001b[0;32m---> 25\u001b[0m     \u001b[38;5;28;01massert\u001b[39;00m \u001b[38;5;129;01mnot\u001b[39;00m tsptw_state\u001b[38;5;241m.\u001b[39munvisited, \u001b[38;5;124mf\u001b[39m\u001b[38;5;124m\"\u001b[39m\u001b[38;5;124mSome nodes have not been visited: \u001b[39m\u001b[38;5;132;01m{\u001b[39;00m\u001b[38;5;28mlist\u001b[39m(tsptw_state\u001b[38;5;241m.\u001b[39munvisited)\u001b[38;5;132;01m}\u001b[39;00m\u001b[38;5;124m\"\u001b[39m\n\u001b[1;32m     26\u001b[0m     \u001b[38;5;28;01mreturn\u001b[39;00m TSPTWState(idx\u001b[38;5;241m=\u001b[39m\u001b[38;5;241m0\u001b[39m, unvisited\u001b[38;5;241m=\u001b[39mtsptw_state\u001b[38;5;241m.\u001b[39munvisited, curr_time\u001b[38;5;241m=\u001b[39mtsptw_state\u001b[38;5;241m.\u001b[39mcurr_time \u001b[38;5;241m+\u001b[39m instance\u001b[38;5;241m.\u001b[39mdistance_matrix[tsptw_state\u001b[38;5;241m.\u001b[39midx][\u001b[38;5;241m0\u001b[39m])\n",
      "\u001b[0;31mAssertionError\u001b[0m: Some nodes have not been visited: [1, 3, 4, 7, 9, 10, 11, 12, 15, 16, 17, 18, 20, 21, 22, 24, 25, 26, 28, 29, 31, 32, 33, 34, 35, 36, 37, 38, 39, 40, 41, 42, 43, 44, 45, 47, 48, 49, 51, 52, 53, 54, 55, 56, 57, 58, 60, 61, 62, 64, 65, 66, 67, 68, 69, 70, 71, 72, 73, 74, 75, 77, 78, 79]"
     ]
    }
   ],
   "source": [
    "# other instance\n",
    "start_state = TSPTWState(idx=0, unvisited=set(range(1, tsptw_instance.N)), curr_time=0)\n",
    "dp_greedy(dp=dp_tsptw, instance=tsptw_instance, state_start=start_state)[0]"
   ]
  },
  {
   "cell_type": "markdown",
   "metadata": {
    "slideshow": {
     "slide_type": "slide"
    }
   },
   "source": [
    "## Domain-Independent Dynamic Programming (DIDP)"
   ]
  },
  {
   "cell_type": "markdown",
   "metadata": {
    "slideshow": {
     "slide_type": "slide"
    }
   },
   "source": [
    "### Domain-Independent Dynamic Programming (DIDP)\n",
    "\n",
    "- in our simple implementation, we aimed at a generic DP modeling framework that can be used in a model-and-solve fashion\n",
    "  - generic alorithms that can solve COs formulated as DP models\n",
    "  \n",
    "- this idea is also followed (in a much more sophisticated way) by the framework **Domain-Independent Dynamic Programming (DIDP)** recently introduced by Ryo Kuroiwa and J. C Beck: https://arxiv.org/abs/2401.13883\n",
    "\n",
    "- the software is implemented in Rust and has a Python interface called **[DIDPPy](https://didppy.readthedocs.io/en/stable/index.html)**\n",
    "\n"
   ]
  },
  {
   "cell_type": "markdown",
   "metadata": {
    "slideshow": {
     "slide_type": "slide"
    }
   },
   "source": [
    "### Example: A DIDP model for the 0/1 Knapsack Problem\n",
    "(we our instance data to feed the model)"
   ]
  },
  {
   "cell_type": "code",
   "execution_count": 32,
   "metadata": {
    "slideshow": {
     "slide_type": "-"
    }
   },
   "outputs": [],
   "source": [
    "filename = \"./../problems/knapsack/instances/knapPI_1_5000_1000_1\" # optimal value: 276457 \n",
    "filename = \"./../problems/knapsack/instances/knapPI_1_2000_1000_1\" # optimal value: 110625\n",
    "\n",
    "kp_instance = read_kp_instance(filename)"
   ]
  },
  {
   "cell_type": "code",
   "execution_count": 37,
   "metadata": {},
   "outputs": [],
   "source": [
    "import didppy as dp\n",
    "\n",
    "#the model\n",
    "model = dp.Model(maximize=True, float_cost=False)\n",
    "\n",
    "## adding the data\n",
    "w = model.add_int_table(kp_instance.weights)\n",
    "p = model.add_int_table(kp_instance.values)\n",
    "\n",
    "# adding the \"objects\"\n",
    "item = model.add_object_type(number=kp_instance.N)\n",
    "\n",
    "## adding the state variables\n",
    "i = model.add_element_var(object_type=item, target=0) # index / stage variable\n",
    "\n",
    "r = model.add_int_var(target=kp_instance.capacity) # \"remaining\" capacity, and equivalent model\n",
    "\n",
    "\n",
    "###### the transitions are explicitly introduced\n",
    "pack = dp.Transition(\n",
    "    name=\"pack\",\n",
    "    cost=p[i] + dp.IntExpr.state_cost(),\n",
    "    effects=[(r, r - w[i]), (i, i + 1)],\n",
    "    preconditions=[i < kp_instance.N, r >= w[i]],)\n",
    "\n",
    "model.add_transition(pack)\n",
    "\n",
    "ignore = dp.Transition(\n",
    "    name=\"ignore\",\n",
    "    cost=dp.IntExpr.state_cost(),\n",
    "    effects=[(i, i + 1)],\n",
    "    preconditions=[i < kp_instance.N], )\n",
    "\n",
    "model.add_transition(ignore)\n",
    "\n",
    "model.add_base_case([i == kp_instance.N]) # end"
   ]
  },
  {
   "cell_type": "markdown",
   "metadata": {
    "slideshow": {
     "slide_type": "slide"
    }
   },
   "source": [
    "### Example: A DIDP model for the 0/1 Knapsack Problem\n",
    "(we our instance data to feed the model)"
   ]
  },
  {
   "cell_type": "code",
   "execution_count": 38,
   "metadata": {
    "slideshow": {
     "slide_type": "slide"
    }
   },
   "outputs": [
    {
     "name": "stdout",
     "output_type": "stream",
     "text": [
      "Solver: ForwardRecursion from DIDPPy v0.8.0\n",
      "CPU times: user 41.6 s, sys: 30.1 s, total: 1min 11s\n",
      "Wall time: 1min 18s\n"
     ]
    },
    {
     "data": {
      "text/plain": [
       "110625"
      ]
     },
     "execution_count": 38,
     "metadata": {},
     "output_type": "execute_result"
    }
   ],
   "source": [
    "%%time\n",
    "solver = dp.ForwardRecursion(model)\n",
    "#solver = dp.CABS(model, time_limit=60)\n",
    "solution = solver.search()\n",
    "solution.cost"
   ]
  },
  {
   "cell_type": "markdown",
   "metadata": {
    "slideshow": {
     "slide_type": "slide"
    }
   },
   "source": [
    "### The model in detail"
   ]
  },
  {
   "cell_type": "markdown",
   "metadata": {},
   "source": [
    "##### Objects and element variables\n",
    "\n",
    "- objects are sort of the relevant entities in the model (items, cities, customers, etc.)\n",
    "- in many cases they give rise to the number of states"
   ]
  },
  {
   "cell_type": "code",
   "execution_count": 39,
   "metadata": {},
   "outputs": [],
   "source": [
    "item = model.add_object_type(number=kp_instance.N)"
   ]
  },
  {
   "cell_type": "markdown",
   "metadata": {},
   "source": [
    "- objects are indexed by element variables\n",
    "- these elements are the ids of the objects (typically integers), and they are usually part of the state variable\n",
    "- in many models, they have more or less the same function as the \"stage index\" $k$ in our models above\n",
    "- `target` is the inital value (the name target comes from the fact that DP is seen as a backward alorithm here)"
   ]
  },
  {
   "cell_type": "code",
   "execution_count": 40,
   "metadata": {},
   "outputs": [],
   "source": [
    "i = model.add_element_var(object_type=item, target=0) # index / stage variable\n"
   ]
  },
  {
   "cell_type": "markdown",
   "metadata": {
    "slideshow": {
     "slide_type": "slide"
    }
   },
   "source": [
    "### The model in detail"
   ]
  },
  {
   "cell_type": "markdown",
   "metadata": {},
   "source": [
    "##### State variables\n",
    "- there are several other variable types (int, continuous, set-valued) that can serve as state attributes / members of the compound state variable\n",
    "- in the knapsack model, we have:"
   ]
  },
  {
   "cell_type": "code",
   "execution_count": 41,
   "metadata": {},
   "outputs": [],
   "source": [
    "r = model.add_int_var(target=kp_instance.capacity) # \"remaining\" capacity,\n"
   ]
  },
  {
   "cell_type": "markdown",
   "metadata": {},
   "source": [
    "- thus, here, we have both i and r as parts of the state variable"
   ]
  },
  {
   "cell_type": "markdown",
   "metadata": {
    "slideshow": {
     "slide_type": "slide"
    }
   },
   "source": [
    "## State Transitions\n",
    "\n",
    "State transition are handled completely differently than in our formalism above:\n",
    "- there is one `Transition` object for each possible decision (type) which is added to the model\n",
    "- the set of feasible decisions / the question if a transition can be applied is handled by so-called `preconditions`\n",
    "- the `Transition` object handles both the change in cost and the state transition which is called `effect` in DIDP"
   ]
  },
  {
   "cell_type": "code",
   "execution_count": 42,
   "metadata": {},
   "outputs": [],
   "source": [
    "pack = dp.Transition(\n",
    "    name=\"pack\",\n",
    "    cost=p[i] + dp.IntExpr.state_cost(),\n",
    "    effects=[(r, r - w[i]), (i, i + 1)],\n",
    "    preconditions=[i < kp_instance.N, r >= w[i]],)\n",
    "\n",
    "model.add_transition(pack)\n",
    "\n",
    "ignore = dp.Transition(\n",
    "    name=\"ignore\",\n",
    "    cost=dp.IntExpr.state_cost(),\n",
    "    effects=[(i, i + 1)],\n",
    "    preconditions=[i < kp_instance.N], )\n",
    "\n",
    "model.add_transition(ignore)"
   ]
  },
  {
   "cell_type": "markdown",
   "metadata": {
    "slideshow": {
     "slide_type": "slide"
    }
   },
   "source": [
    "### Base Case and Solving the Problem\n",
    "\n",
    "Finally, one adds the so-called base case(s), that is, final states:"
   ]
  },
  {
   "cell_type": "code",
   "execution_count": 43,
   "metadata": {},
   "outputs": [],
   "source": [
    "model.add_base_case([i == kp_instance.N]) # end"
   ]
  },
  {
   "cell_type": "markdown",
   "metadata": {
    "slideshow": {
     "slide_type": "slide"
    }
   },
   "source": [
    "### Once again the full model\n"
   ]
  },
  {
   "cell_type": "code",
   "execution_count": 44,
   "metadata": {},
   "outputs": [],
   "source": [
    "\n",
    "filename = \"./../problems/knapsack/instances/knapPI_1_5000_1000_1\" # optimal value: 276457 \n",
    "filename = \"./../problems/knapsack/instances/knapPI_1_2000_1000_1\" # optimal value: 110625\n",
    "filename = \"./../problems/knapsack/instances/knapPI_1_100_1000_1\"\n",
    "\n",
    "kp_instance = read_kp_instance(filename)\n",
    "#the model\n",
    "model = dp.Model(maximize=True, float_cost=False)\n",
    "\n",
    "## adding the data\n",
    "w = model.add_int_table(kp_instance.weights)\n",
    "p = model.add_int_table(kp_instance.values)\n",
    "\n",
    "# adding the \"objects\"\n",
    "item = model.add_object_type(number=kp_instance.N)\n",
    "\n",
    "## adding the state variables\n",
    "i = model.add_element_var(object_type=item, target=0) # index / stage variable\n",
    "\n",
    "r = model.add_int_resource_var(target=kp_instance.capacity, less_is_better=False) # \"remaining\" capacity, and equivalent model \n",
    "\n",
    "\n",
    "###### the transitions are explicitly introduced\n",
    "pack = dp.Transition(\n",
    "    name=\"pack\",\n",
    "    cost=p[i] + dp.IntExpr.state_cost(),\n",
    "    effects=[(r, r - w[i]), (i, i + 1)],\n",
    "    preconditions=[i < kp_instance.N, r >= w[i]],)\n",
    "\n",
    "model.add_transition(pack)\n",
    "\n",
    "ignore = dp.Transition(\n",
    "    name=\"ignore\",\n",
    "    cost=dp.IntExpr.state_cost(),\n",
    "    effects=[(i, i + 1)],\n",
    "    preconditions=[i < kp_instance.N], )\n",
    "\n",
    "model.add_transition(ignore)\n",
    "\n",
    "model.add_base_case([i == kp_instance.N]) # end"
   ]
  },
  {
   "cell_type": "markdown",
   "metadata": {
    "slideshow": {
     "slide_type": "slide"
    }
   },
   "source": [
    "### Solving the model"
   ]
  },
  {
   "cell_type": "markdown",
   "metadata": {
    "slideshow": {
     "slide_type": "fragment"
    }
   },
   "source": [
    "DIDP has several solvers implemented, e.g.:\n",
    "- a forward DP approach akin to the DP by reaching algorithm\n",
    "- Complete Anytime Beam Search (CABS)\n",
    "- a variant of Anytime Column Search (ACPS)\n",
    "- an AI planning algorithm (CAASDy)\n",
    "\n",
    ".. for a nice presentation dealing with some of these search algorithms, see these [slides](https://drive.google.com/file/d/1qaE4jlz8XkKCQL7QdZ-VrTQi21cYvGco/view) from Christine Solnon (INSA Lyon)"
   ]
  },
  {
   "cell_type": "code",
   "execution_count": 45,
   "metadata": {},
   "outputs": [
    {
     "name": "stdout",
     "output_type": "stream",
     "text": [
      "Solver: ForwardRecursion from DIDPPy v0.8.0\n",
      "CPU times: user 88.6 ms, sys: 43.9 ms, total: 132 ms\n",
      "Wall time: 175 ms\n"
     ]
    },
    {
     "data": {
      "text/plain": [
       "9147"
      ]
     },
     "execution_count": 45,
     "metadata": {},
     "output_type": "execute_result"
    }
   ],
   "source": [
    "%%time\n",
    "solver = dp.ForwardRecursion(model)\n",
    "#solver = dp.CABS(model, time_limit=60)\n",
    "solution = solver.search()\n",
    "solution.cost"
   ]
  },
  {
   "cell_type": "markdown",
   "metadata": {
    "slideshow": {
     "slide_type": "slide"
    }
   },
   "source": [
    "## Dominance\n",
    "\n",
    "Often, we can detect states dominated by others:\n",
    "\n",
    "State $S_1$ dominates $S_2$\n",
    "\n",
    "- their set of partial completions (solutions starting from that state) of $S_1$ is a superset of that of $S_2$: $Sol(S_1) \\supseteq Sol(S_2)$\n",
    "- the objective value of $S_1$ is at least as good as that of $S_2$\n",
    "\n",
    "\n",
    "For the knapsack problem, a state $S_1$  dominates $S_2$ other if both states are in the same layer and:\n",
    "- its accumulated weight is smaller, that is,  $w_{S_1} \\leq w_{S_2}$\n",
    "- and its objective is at least as good, that is, $f_{S_1} \\geq f_{S_2}$\n",
    "\n",
    "--> Dominated states can be ignored during the search!!\n",
    "\n"
   ]
  },
  {
   "cell_type": "markdown",
   "metadata": {
    "slideshow": {
     "slide_type": "slide"
    }
   },
   "source": [
    "## Dominance: Illustration\n",
    "\n",
    "\n",
    "<img src=\"./img/dp/dominance_1.png\" width=80%>\n",
    "\n"
   ]
  },
  {
   "cell_type": "markdown",
   "metadata": {
    "slideshow": {
     "slide_type": "slide"
    }
   },
   "source": [
    "## Dominance: Illustration\n",
    "\n",
    "\n",
    "<img src=\"./img/dp/dominance_2.png\" width=80%>\n",
    "\n"
   ]
  },
  {
   "cell_type": "markdown",
   "metadata": {
    "slideshow": {
     "slide_type": "slide"
    }
   },
   "source": [
    "## Dominance: Illustration\n",
    "\n",
    "\n",
    "<img src=\"./img/dp/dominance_3.png\" width=80%>\n",
    "\n"
   ]
  },
  {
   "cell_type": "markdown",
   "metadata": {
    "slideshow": {
     "slide_type": "slide"
    }
   },
   "source": [
    "## Dominance Handling in DIDP\n",
    "\n",
    "DIDP provides a simple way for handling and exploiting (simple) dominance relations:\n",
    "\n",
    "- instead of using standard state variables, one can use so-called **resource variables**\n",
    "- for a resource variable, one indicates wether less is better or not\n",
    "- then, if for two states, if all state attributes (e.g. the element variables) but the values of the resource variables are identical, only the state with the better value in the resource variables is kept.\n",
    "\n",
    "\n"
   ]
  },
  {
   "cell_type": "markdown",
   "metadata": {
    "slideshow": {
     "slide_type": "fragment"
    }
   },
   "source": [
    "For the KP, we can simply replace the (standard) state variable definition:\n"
   ]
  },
  {
   "cell_type": "code",
   "execution_count": 46,
   "metadata": {},
   "outputs": [],
   "source": [
    "r = model.add_int_var(target=kp_instance.capacity)"
   ]
  },
  {
   "cell_type": "markdown",
   "metadata": {},
   "source": [
    "with a resource variable as follows"
   ]
  },
  {
   "cell_type": "code",
   "execution_count": 47,
   "metadata": {},
   "outputs": [
    {
     "data": {
      "text/plain": [
       "<IntResourceVar at 0x113a946f0>"
      ]
     },
     "execution_count": 47,
     "metadata": {},
     "output_type": "execute_result"
    }
   ],
   "source": [
    "model.add_int_resource_var(target=kp_instance.capacity, less_is_better=False)"
   ]
  },
  {
   "cell_type": "markdown",
   "metadata": {
    "slideshow": {
     "slide_type": "slide"
    }
   },
   "source": [
    "## Dominance for the DIDP KP Model: Full model\n",
    "\n"
   ]
  },
  {
   "cell_type": "code",
   "execution_count": 48,
   "metadata": {},
   "outputs": [],
   "source": [
    "model = dp.Model(maximize=True, float_cost=False)\n",
    "w = model.add_int_table(kp_instance.weights)\n",
    "p = model.add_int_table(kp_instance.values)\n",
    "\n",
    "item = model.add_object_type(number=kp_instance.N)\n",
    "r = model.add_int_resource_var(target=kp_instance.capacity, less_is_better=False)\n",
    "i = model.add_element_var(object_type=item, target=0)\n",
    "pack = dp.Transition(\n",
    "    name=\"pack\",\n",
    "    cost=p[i] + dp.IntExpr.state_cost(),\n",
    "    effects=[(r, r - w[i]), (i, i + 1)],\n",
    "    preconditions=[i < kp_instance.N, r >= w[i]],\n",
    ")\n",
    "model.add_transition(pack)\n",
    "\n",
    "ignore = dp.Transition(\n",
    "    name=\"ignore\",\n",
    "    cost=dp.IntExpr.state_cost(),\n",
    "    effects=[(i, i + 1)],\n",
    "    preconditions=[i < kp_instance.N],\n",
    ")\n",
    "\n",
    "model.add_transition(ignore)\n",
    "\n",
    "model.add_base_case([i == kp_instance.N])"
   ]
  },
  {
   "cell_type": "code",
   "execution_count": 49,
   "metadata": {
    "slideshow": {
     "slide_type": "-"
    }
   },
   "outputs": [
    {
     "name": "stdout",
     "output_type": "stream",
     "text": [
      "Solver: CABS from DIDPPy v0.8.0\n",
      "CPU times: user 14.5 ms, sys: 1.46 ms, total: 15.9 ms\n",
      "Wall time: 19.4 ms\n",
      "Searched with beam size: 1, expanded: 100, elapsed time: 0.001682125\n",
      "New primal bound: 8817, expanded: 100, elapsed time: 0.001871417\n",
      "Searched with beam size: 2, expanded: 299, elapsed time: 0.002505126\n",
      "New primal bound: 8929, expanded: 299, elapsed time: 0.002585709\n",
      "Searched with beam size: 4, expanded: 692, elapsed time: 0.002976751\n",
      "Searched with beam size: 8, expanded: 1469, elapsed time: 0.003824709\n",
      "New primal bound: 9147, expanded: 1469, elapsed time: 0.003876042\n",
      "Searched with beam size: 16, expanded: 3000, elapsed time: 0.005237834\n",
      "Searched with beam size: 32, expanded: 6004, elapsed time: 0.010926876\n",
      "Searched with beam size: 64, expanded: 11303, elapsed time: 0.017498418\n"
     ]
    },
    {
     "data": {
      "text/plain": [
       "9147"
      ]
     },
     "execution_count": 49,
     "metadata": {},
     "output_type": "execute_result"
    }
   ],
   "source": [
    "%%time\n",
    "#solver = dp.ForwardRecursion(model)\n",
    "solver = dp.CABS(model)\n",
    "solution = solver.search()\n",
    "\n",
    "\n",
    "solution.cost"
   ]
  },
  {
   "cell_type": "markdown",
   "metadata": {
    "slideshow": {
     "slide_type": "slide"
    }
   },
   "source": [
    "## DIDP Model for the TSPTW (Part 1)\n",
    "- we first use a 20-city instance, then a 60-city instance"
   ]
  },
  {
   "cell_type": "code",
   "execution_count": 50,
   "metadata": {},
   "outputs": [],
   "source": [
    "filename = \"./../problems/tsptw/Dumas/n20w60.001.txt\" #(optimal solution 400)\n",
    "#filename = \"./../problems/tsptw/Dumas/n80w60.001.txt\" #(optimal solution 554)\n",
    "tsptw_instance = read_tsptw_instance(filename)"
   ]
  },
  {
   "cell_type": "code",
   "execution_count": 51,
   "metadata": {
    "slideshow": {
     "slide_type": "-"
    }
   },
   "outputs": [],
   "source": [
    "model = dp.Model(maximize=False, float_cost=False)\n",
    "\n",
    "### the data\n",
    "ready_time = model.add_int_table(tsptw_instance.a)\n",
    "due_time = model.add_int_table(tsptw_instance.b)\n",
    "travel_time = model.add_int_table(tsptw_instance.distance_matrix)\n",
    "\n",
    "# customers (nodes) are the main object in this problem\n",
    "customer = model.add_object_type(number=tsptw_instance.N)\n",
    "\n",
    "## now the state variable components:\n",
    "# location is an element variable (index for the set of customers / nodes)\n",
    "idx = model.add_element_var(object_type=customer, target=0)\n",
    "\n",
    "# unvisited (nodes) is a so-called set variable!\n",
    "unvisited = model.add_set_var(object_type=customer, target=list(range(1, tsptw_instance.N)))\n",
    "\n",
    "# state component for time\n",
    "curr_time = model.add_int_var(target=0)"
   ]
  },
  {
   "cell_type": "markdown",
   "metadata": {
    "slideshow": {
     "slide_type": "slide"
    }
   },
   "source": [
    "## DIDP Model for the TSPTW (Part II)"
   ]
  },
  {
   "cell_type": "code",
   "execution_count": 52,
   "metadata": {
    "slideshow": {
     "slide_type": "-"
    }
   },
   "outputs": [],
   "source": [
    "# now, we add one transition per location\n",
    "for j in range(1, tsptw_instance.N):\n",
    "    visit = dp.Transition(\n",
    "        name=\"visit {}\".format(j),\n",
    "        cost=travel_time[idx, j] + dp.IntExpr.state_cost(),\n",
    "        preconditions=[unvisited.contains(j),\n",
    "                      curr_time + travel_time[idx, j] <= due_time[j]],\n",
    "        effects=[\n",
    "            (unvisited, unvisited.remove(j)),\n",
    "            (idx, j),\n",
    "            (curr_time, dp.max(curr_time + travel_time[idx, j], ready_time[j])),\n",
    "        ],\n",
    "    )\n",
    "    model.add_transition(visit)\n",
    "\n",
    "# and finally, one for returning to the depot\n",
    "return_to_depot = dp.Transition(\n",
    "    name=\"return\",\n",
    "    cost=travel_time[idx, 0] + dp.IntExpr.state_cost(),\n",
    "    effects=[\n",
    "        (idx, 0),\n",
    "        (curr_time, curr_time + travel_time[idx, 0]),\n",
    "    ],\n",
    "    preconditions=[unvisited.is_empty(), idx != 0],\n",
    ")\n",
    "\n",
    "model.add_transition(return_to_depot)\n",
    "\n",
    "## and the  base case\n",
    "model.add_base_case([unvisited.is_empty(), idx == 0])"
   ]
  },
  {
   "cell_type": "markdown",
   "metadata": {
    "slideshow": {
     "slide_type": "slide"
    }
   },
   "source": [
    "### Solving the Model\n",
    "- we impose a 60-second time limit \n",
    "- the optimal solution for the instance `n20w60.001.txt` is   335\n",
    "- the optimal solution for the instance `n80w60.001.txt` is   554 \n"
   ]
  },
  {
   "cell_type": "code",
   "execution_count": 53,
   "metadata": {},
   "outputs": [
    {
     "name": "stdout",
     "output_type": "stream",
     "text": [
      "Solver: CABS from DIDPPy v0.8.0\n",
      "Cost: 335\n",
      "CPU times: user 28.2 s, sys: 336 ms, total: 28.6 s\n",
      "Wall time: 28.5 s\n",
      "Searched with beam size: 1, expanded: 6, elapsed time: 0.001068458\n",
      "Searched with beam size: 2, expanded: 23, elapsed time: 0.001213333\n",
      "Searched with beam size: 4, expanded: 84, elapsed time: 0.001714208\n",
      "Searched with beam size: 8, expanded: 210, elapsed time: 0.002741916\n",
      "Searched with beam size: 16, expanded: 504, elapsed time: 0.004992708\n",
      "New primal bound: 344, expanded: 504, elapsed time: 0.004995\n",
      "Searched with beam size: 32, expanded: 1070, elapsed time: 0.010574916\n",
      "Searched with beam size: 64, expanded: 2164, elapsed time: 0.017551541\n",
      "New primal bound: 335, expanded: 2164, elapsed time: 0.017578458\n",
      "Searched with beam size: 128, expanded: 4312, elapsed time: 0.029377791\n",
      "Searched with beam size: 256, expanded: 8492, elapsed time: 0.051703541\n",
      "Searched with beam size: 512, expanded: 16453, elapsed time: 0.094166125\n",
      "Searched with beam size: 1024, expanded: 31818, elapsed time: 0.176892333\n",
      "Searched with beam size: 2048, expanded: 61149, elapsed time: 0.336802375\n",
      "Searched with beam size: 4096, expanded: 116369, elapsed time: 0.632757958\n",
      "Searched with beam size: 8192, expanded: 220781, elapsed time: 1.176528708\n",
      "Searched with beam size: 16384, expanded: 412993, elapsed time: 2.153772666\n",
      "Searched with beam size: 32768, expanded: 763694, elapsed time: 3.897094208\n",
      "Searched with beam size: 65536, expanded: 1393070, elapsed time: 6.97180475\n",
      "Searched with beam size: 131072, expanded: 2468688, elapsed time: 12.289660583\n",
      "Searched with beam size: 262144, expanded: 4173177, elapsed time: 20.105759833\n",
      "Searched with beam size: 524288, expanded: 6008353, elapsed time: 28.49408225\n"
     ]
    }
   ],
   "source": [
    "%%time\n",
    "solver = dp.CABS(model, time_limit=60)\n",
    "solution = solver.search()\n",
    "\n",
    "\n",
    "\n",
    "print(\"Cost: {}\".format(solution.cost))"
   ]
  },
  {
   "cell_type": "markdown",
   "metadata": {
    "slideshow": {
     "slide_type": "slide"
    }
   },
   "source": [
    "## A Dominance Relation for the TSP-TW"
   ]
  },
  {
   "cell_type": "markdown",
   "metadata": {},
   "source": [
    "For the TSP-TW, there is a very simple dominance relation: \n",
    "- if all other state components are identical, the state with a smaller time is better\n",
    "- thus, we turn the state variable time into a resource variable:"
   ]
  },
  {
   "cell_type": "code",
   "execution_count": null,
   "metadata": {},
   "outputs": [],
   "source": [
    "curr_time = model.add_int_resource_var(target=0, less_is_better=True)"
   ]
  },
  {
   "cell_type": "markdown",
   "metadata": {
    "slideshow": {
     "slide_type": "slide"
    }
   },
   "source": [
    "## The TSP-TW Model including the Dominance Relation"
   ]
  },
  {
   "cell_type": "code",
   "execution_count": null,
   "metadata": {
    "slideshow": {
     "slide_type": "-"
    }
   },
   "outputs": [],
   "source": [
    "model = dp.Model(maximize=False, float_cost=False)\n",
    "\n",
    "### the data\n",
    "ready_time = model.add_int_table(tsptw_instance.a)\n",
    "due_time = model.add_int_table(tsptw_instance.b)\n",
    "travel_time = model.add_int_table(tsptw_instance.distance_matrix)\n",
    "\n",
    "# customers (nodes) are the main object in this problem\n",
    "customer = model.add_object_type(number=tsptw_instance.N)\n",
    "\n",
    "## now the state variable components:\n",
    "# location is an element variable (index for the set of customers / nodes)\n",
    "idx = model.add_element_var(object_type=customer, target=0)\n",
    "\n",
    "# unvisited (nodes) is a so-called set variable!\n",
    "unvisited = model.add_set_var(object_type=customer, target=list(range(1, tsptw_instance.N)))\n",
    "\n",
    "# NEW: state component for time becomes a resource variable\n",
    "curr_time = model.add_int_resource_var(target=0, less_is_better=True)\n",
    "\n",
    "# now, we add one transition per location\n",
    "for j in range(1, tsptw_instance.N):\n",
    "    visit = dp.Transition(\n",
    "        name=\"visit {}\".format(j),\n",
    "        cost=travel_time[idx, j] + dp.IntExpr.state_cost(),\n",
    "        preconditions=[unvisited.contains(j), \n",
    "                       curr_time + travel_time[idx, j] <= due_time[j]],\n",
    "        effects=[\n",
    "            (unvisited, unvisited.remove(j)),\n",
    "            (idx, j),\n",
    "            (curr_time, dp.max(curr_time + travel_time[idx, j], ready_time[j])),\n",
    "        ],\n",
    "    )\n",
    "    model.add_transition(visit)\n",
    "\n",
    "# and finally, one for returning to the depot\n",
    "return_to_depot = dp.Transition(\n",
    "    name=\"return\",\n",
    "    cost=travel_time[idx, 0] + dp.IntExpr.state_cost(),\n",
    "    effects=[\n",
    "        (idx, 0),\n",
    "        (curr_time, curr_time + travel_time[idx, 0]),\n",
    "    ],\n",
    "    preconditions=[unvisited.is_empty(), idx != 0],\n",
    ")\n",
    "\n",
    "model.add_transition(return_to_depot)\n",
    "\n",
    "## and the  base case\n",
    "model.add_base_case([unvisited.is_empty(), idx == 0])"
   ]
  },
  {
   "cell_type": "markdown",
   "metadata": {
    "slideshow": {
     "slide_type": "slide"
    }
   },
   "source": [
    "## The TSP-TW Model including the Dominance Relation: Let us solve it"
   ]
  },
  {
   "cell_type": "code",
   "execution_count": null,
   "metadata": {},
   "outputs": [],
   "source": [
    "%%time\n",
    "solver = dp.CABS(model, time_limit=30)\n",
    "solution = solver.search()\n",
    "\n",
    "\n",
    "\n",
    "print(\"Cost: {}\".format(solution.cost))"
   ]
  },
  {
   "cell_type": "markdown",
   "metadata": {
    "slideshow": {
     "slide_type": "slide"
    }
   },
   "source": [
    "## State Constraints\n",
    "\n",
    "**Observation:**\n",
    "\n",
    "- a state is a deadend if there is a single unvisited neighbor cannot be reached before its deadline\n",
    "- this is discovered sooner or later, but that may take considerable time, so better check each state for that condition\n",
    "- in DIDP, we can impose so-called *state constraints*"
   ]
  },
  {
   "cell_type": "code",
   "execution_count": null,
   "metadata": {},
   "outputs": [],
   "source": [
    "## add a state constraint for each customer:\n",
    "## each customer that has not been visited must be reachable from the current location before its due time\n",
    "for j in range(1, tsptw_instance.N):\n",
    "    model.add_state_constr(\n",
    "        ~unvisited.contains(j) | (curr_time + travel_time[idx, j] <= due_time[j])\n",
    "    )"
   ]
  },
  {
   "cell_type": "markdown",
   "metadata": {
    "slideshow": {
     "slide_type": "slide"
    }
   },
   "source": [
    "## The full model with state constraints"
   ]
  },
  {
   "cell_type": "code",
   "execution_count": null,
   "metadata": {},
   "outputs": [],
   "source": [
    "filename = \"./../problems/tsptw/Dumas/n20w60.001.txt\" #(optimal solution 400)\n",
    "#filename = \"./../problems/tsptw/Dumas/n80w60.001.txt\" #(optimal solution 554)\n",
    "tsptw_instance = read_tsptw_instance(filename)\n",
    "\n",
    "model = dp.Model(maximize=False, float_cost=False)\n",
    "\n",
    "### the data\n",
    "ready_time = model.add_int_table(tsptw_instance.a)\n",
    "due_time = model.add_int_table(tsptw_instance.b)\n",
    "travel_time = model.add_int_table(tsptw_instance.distance_matrix)\n",
    "\n",
    "# customers (nodes) are the main object in this problem\n",
    "customer = model.add_object_type(number=tsptw_instance.N)\n",
    "\n",
    "## now the state variable components:\n",
    "# location is an element variable (index for the set of customers / nodes)\n",
    "idx = model.add_element_var(object_type=customer, target=0)\n",
    "\n",
    "# unvisited (nodes) is a so-called set variable!\n",
    "unvisited = model.add_set_var(object_type=customer, target=list(range(1, tsptw_instance.N)))\n",
    "\n",
    "# NEW: state component for time becomes a resource variable\n",
    "curr_time = model.add_int_resource_var(target=0, less_is_better=True)\n",
    "\n",
    "# now, we add one transition per location\n",
    "for j in range(1, tsptw_instance.N):\n",
    "    visit = dp.Transition(\n",
    "        name=\"visit {}\".format(j),\n",
    "        cost=travel_time[idx, j] + dp.IntExpr.state_cost(),\n",
    "        preconditions=[unvisited.contains(j), \n",
    "                       curr_time + travel_time[idx, j] <= due_time[j]],\n",
    "        effects=[\n",
    "            (unvisited, unvisited.remove(j)),\n",
    "            (idx, j),\n",
    "            (curr_time, dp.max(curr_time + travel_time[idx, j], ready_time[j])),\n",
    "        ],\n",
    "    )\n",
    "    model.add_transition(visit)\n",
    "\n",
    "# and finally, one for returning to the depot\n",
    "return_to_depot = dp.Transition(\n",
    "    name=\"return\",\n",
    "    cost=travel_time[idx, 0] + dp.IntExpr.state_cost(),\n",
    "    effects=[\n",
    "        (idx, 0),\n",
    "        (curr_time, curr_time + travel_time[idx, 0]),\n",
    "    ],\n",
    "    preconditions=[unvisited.is_empty(), idx != 0],\n",
    ")\n",
    "\n",
    "model.add_transition(return_to_depot)\n",
    "\n",
    "## the state constraint\n",
    "for j in range(1, tsptw_instance.N):\n",
    "    model.add_state_constr(\n",
    "        ~unvisited.contains(j) | (curr_time + travel_time[idx, j] <= due_time[j])\n",
    "    )\n",
    "\n",
    "## and the  base case\n",
    "model.add_base_case([unvisited.is_empty(), idx == 0])"
   ]
  },
  {
   "cell_type": "markdown",
   "metadata": {
    "slideshow": {
     "slide_type": "slide"
    }
   },
   "source": [
    "## Conclusions: DIDP\n",
    "- a great free framework for exactly solving CO problems that have a good DP formulation\n",
    "- the efficiency highly depends on the quality of the formulation\n",
    "    - just as in MIP, for the same problem there are often formulations that are easier to solve than others\n",
    "- one aspect we did not mention at all so far are **state-based dual bounds**\n",
    "  - if we can provide a dual bound for the objective of the tail subproblem of a given state, many of the algorithms can perfrom state pruning\n",
    "   - what could be state-based dual bounds for the KP and the TSP-TW?"
   ]
  }
 ],
 "metadata": {
  "celltoolbar": "Slideshow",
  "kernelspec": {
   "display_name": ".venv",
   "language": "python",
   "name": "python3"
  },
  "language_info": {
   "codemirror_mode": {
    "name": "ipython",
    "version": 3
   },
   "file_extension": ".py",
   "mimetype": "text/x-python",
   "name": "python",
   "nbconvert_exporter": "python",
   "pygments_lexer": "ipython3",
   "version": "3.12.1"
  },
  "toc": {
   "base_numbering": 1,
   "nav_menu": {},
   "number_sections": false,
   "sideBar": true,
   "skip_h1_title": false,
   "title_cell": "Table of Contents",
   "title_sidebar": "Contents",
   "toc_cell": false,
   "toc_position": {},
   "toc_section_display": true,
   "toc_window_display": false
  },
  "varInspector": {
   "cols": {
    "lenName": 16,
    "lenType": 16,
    "lenVar": 40
   },
   "kernels_config": {
    "python": {
     "delete_cmd_postfix": "",
     "delete_cmd_prefix": "del ",
     "library": "var_list.py",
     "varRefreshCmd": "print(var_dic_list())"
    },
    "r": {
     "delete_cmd_postfix": ") ",
     "delete_cmd_prefix": "rm(",
     "library": "var_list.r",
     "varRefreshCmd": "cat(var_dic_list()) "
    }
   },
   "types_to_exclude": [
    "module",
    "function",
    "builtin_function_or_method",
    "instance",
    "_Feature"
   ],
   "window_display": false
  }
 },
 "nbformat": 4,
 "nbformat_minor": 4
}
