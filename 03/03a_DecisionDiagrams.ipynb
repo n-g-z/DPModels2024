{
 "cells": [
  {
   "cell_type": "markdown",
   "metadata": {
    "slideshow": {
     "slide_type": "slide"
    }
   },
   "source": [
    "<img src=\"img/bigsem.png\" width=\"40%\" align=\"right\">\n",
    "<img src=\"img/logo_wiwi.png\" width=\"20%\" align=\"left\">\n",
    "\n",
    "\n",
    "\n",
    "\n",
    "\n",
    "<br><br><br><br>\n",
    "\n",
    "# Dynamic Programming Models in Combinatorial Optimization\n",
    "**Winter Term 2024/25**\n",
    "\n",
    "\n",
    "# 3a. Decision Diagrams\n",
    "\n",
    "<img src=\"img/decision_analytics_logo.png\" width=\"17%\" align=\"right\">\n",
    "\n",
    "\n",
    "<br>\n",
    "\n",
    "<br>\n",
    "<br>\n",
    "\n",
    "**J-Prof. Dr. Michael Römer |  Decision Analytics Group**\n",
    "                                                    \n"
   ]
  },
  {
   "cell_type": "code",
   "execution_count": 1,
   "metadata": {
    "slideshow": {
     "slide_type": "skip"
    }
   },
   "outputs": [],
   "source": [
    "import matplotlib.pyplot as plt\n",
    "import numpy as np\n",
    "import pandas as pd\n",
    "from numba import njit, typeof\n",
    "from typing import NamedTuple, Callable\n",
    "from dataclasses import dataclass, field\n",
    "from numba.experimental import jitclass\n",
    "from IPython.display import SVG, display, clear_output"
   ]
  },
  {
   "cell_type": "markdown",
   "metadata": {
    "slideshow": {
     "slide_type": "slide"
    }
   },
   "source": [
    "# Overview\n",
    "- Decision Diagrams\n",
    "- Exact Decision Diagrams\n",
    "- Reducing Exact Decision Diagrams\n",
    "- Restricted Decision Diagrams\n",
    "- Branch and Bound based on Decision Diagrams"
   ]
  },
  {
   "cell_type": "code",
   "execution_count": 2,
   "metadata": {
    "slideshow": {
     "slide_type": "slide"
    }
   },
   "outputs": [],
   "source": [
    "class DP(NamedTuple):\n",
    "    feasible_decisions : Callable\n",
    "    transition_function : Callable\n",
    "    cost_function : Callable\n",
    "    direction : str # 'max' or 'min'"
   ]
  },
  {
   "cell_type": "markdown",
   "metadata": {
    "slideshow": {
     "slide_type": "-"
    }
   },
   "source": [
    "#### States\n",
    "- we are free to define our state representation\n",
    "- for later purposes, it will be useful if the state variable is immutable, therefore tuples or namedtuple are useful data structures for states\n",
    "\n",
    "\n",
    "#### Decisions\n",
    "- in most cases in this part, we will assume that decisions are integers, but note that this is not required as long as the transition function works\n",
    "- however, for now, we assume that decisions only induce a change between stages -- we will relax that requirement later in the course\n",
    "\n",
    "\n",
    "#### Instance data\n",
    "- all functions named above take an instance as parameter. Instance data does not have to take a certain form, it just needs to \"match\" the (problem-specific) functions"
   ]
  },
  {
   "cell_type": "markdown",
   "metadata": {
    "slideshow": {
     "slide_type": "slide"
    }
   },
   "source": [
    "## Generic helper functions to deal with maximization and minimization"
   ]
  },
  {
   "cell_type": "code",
   "execution_count": 3,
   "metadata": {
    "slideshow": {
     "slide_type": "-"
    }
   },
   "outputs": [],
   "source": [
    "@njit \n",
    "def better(value1, value2, direction):\n",
    "    if direction == \"min\":\n",
    "        \n",
    "        return value1 < value2\n",
    "    else:\n",
    "        return value1 > value2"
   ]
  },
  {
   "cell_type": "code",
   "execution_count": 4,
   "metadata": {
    "slideshow": {
     "slide_type": "fragment"
    }
   },
   "outputs": [],
   "source": [
    "@njit\n",
    "def best_element_and_value(elements, values, direction):\n",
    "    if direction == \"min\":\n",
    "        best_index = np.argmin(values)\n",
    "    else:\n",
    "        best_index = np.argmax(values)\n",
    "    return elements[best_index], values[best_index]"
   ]
  },
  {
   "cell_type": "code",
   "execution_count": 5,
   "metadata": {
    "slideshow": {
     "slide_type": "fragment"
    }
   },
   "outputs": [],
   "source": [
    "@njit\n",
    "def get_n_best_elements_and_values(n, elements, values, direction):\n",
    "    \n",
    "    if direction == \"min\":\n",
    "        sorted_indexes = np.argsort(values)\n",
    "    else:\n",
    "        sorted_indexes = np.argsort(-values)\n",
    "    return elements[sorted_indexes[:n]], values[sorted_indexes[:n]]\n"
   ]
  },
  {
   "cell_type": "code",
   "execution_count": 6,
   "metadata": {
    "slideshow": {
     "slide_type": "fragment"
    }
   },
   "outputs": [
    {
     "data": {
      "text/plain": [
       "(array([1, 2]), array([2, 3]))"
      ]
     },
     "execution_count": 6,
     "metadata": {},
     "output_type": "execute_result"
    }
   ],
   "source": [
    "get_n_best_elements_and_values(2, np.array([1,2,3]), np.array([2,3,5]), 'min')"
   ]
  },
  {
   "cell_type": "markdown",
   "metadata": {
    "slideshow": {
     "slide_type": "slide"
    }
   },
   "source": [
    "## Example: A DP model for the Knapsack Problem\n",
    "- given a  knapsack instance with $N$ items with weights $w_k$ and profits $p_k$ (zero-indexed) and capacity $W$ \n",
    "\n",
    "- state $x_k$: accumulated weight after adding the first $k-1$ items, $x_0 = 0$\n",
    "- decision $u_k \\in \\{0, 1\\}$ (0: do not add item $k$ to the knapsack; 1: add item $k$)\n",
    "- $U_k(x_k) = \\begin{cases} \n",
    "                \\{0,1\\} \\quad \\mathrm{if} \\quad x_k + w_k \\leq W \\\\\n",
    "                \\{0 \\} \\quad \\mathrm{else}\n",
    "\\end{cases}$\n",
    "\n",
    "- $f(x_k, u_k) = x_k + w_k u_k $\n",
    "\n",
    "- $g(x_k, u_k) = p_k u_k$\n",
    "\n",
    "We have a maximization-objective:\n",
    "\n",
    "$$\\max_{u_0,..,u_k,..u_{N-1}} \\sum_{k=0}^{N-1} g_k(x_k,u_k)$$"
   ]
  },
  {
   "cell_type": "markdown",
   "metadata": {
    "slideshow": {
     "slide_type": "slide"
    }
   },
   "source": [
    "## The Knapsack DP Model in Python"
   ]
  },
  {
   "cell_type": "code",
   "execution_count": 7,
   "metadata": {
    "slideshow": {
     "slide_type": "fragment"
    }
   },
   "outputs": [],
   "source": [
    "class  KPInstance(NamedTuple):\n",
    "    values:np.array\n",
    "    weights:np.array\n",
    "    capacity:int\n",
    "    N:int   \n",
    "\n",
    "@njit\n",
    "def feasible_decisions_kp(instance, k, acc_weight):    \n",
    "    if acc_weight + instance.weights[k] <= instance.capacity: return np.array([0,1])\n",
    "    else: return np.array([0])\n",
    "\n",
    "@njit\n",
    "def transition_function_kp(instance, k, acc_weight, put):\n",
    "    return acc_weight + put*instance.weights[k]\n",
    "\n",
    "@njit\n",
    "def cost_function_kp(instance, k, acc_weight, put):\n",
    "      return put*instance.values[k]"
   ]
  },
  {
   "cell_type": "markdown",
   "metadata": {
    "slideshow": {
     "slide_type": "fragment"
    }
   },
   "source": [
    "Putting all together, and stating that we have a maximization objective"
   ]
  },
  {
   "cell_type": "code",
   "execution_count": 8,
   "metadata": {
    "slideshow": {
     "slide_type": "-"
    }
   },
   "outputs": [],
   "source": [
    "dp_kp = DP(feasible_decisions_kp, transition_function_kp,  cost_function_kp, \"max\")"
   ]
  },
  {
   "cell_type": "markdown",
   "metadata": {
    "slideshow": {
     "slide_type": "slide"
    }
   },
   "source": [
    "## An instance reader function for the Knapsack Problem"
   ]
  },
  {
   "cell_type": "code",
   "execution_count": 9,
   "metadata": {},
   "outputs": [],
   "source": [
    "\n",
    "def read_kp_instance(filename, sorted=True):\n",
    "    weights=[]\n",
    "    values=[]\n",
    "    with open(filename) as f: # open the file\n",
    "        line = f.readline().split()  # split first row\n",
    "        number_of_items = int(line[0]) # read number of items\n",
    "        capacity = int(line[1]) # read capacity\n",
    "        for i in range(number_of_items): # read rows for the items\n",
    "            line = f.readline().split() # split row\n",
    "            values.append(int(line[0])) # read value\n",
    "            weights.append(int(line[1])) # read weight\n",
    "            \n",
    "    values = np.array(values)\n",
    "    weights = np.array(weights)    \n",
    "    \n",
    "    \n",
    "    if sorted:\n",
    "        sorted_indexes = np.argsort(-1* values/weights)\n",
    "    values = values[sorted_indexes]\n",
    "    weights = weights[sorted_indexes]\n",
    "     \n",
    "        \n",
    "    return KPInstance(values, weights, capacity, number_of_items)\n",
    "\n"
   ]
  },
  {
   "cell_type": "code",
   "execution_count": 10,
   "metadata": {},
   "outputs": [],
   "source": [
    "#filename = \"./../problems/knapsack/instances/knapPI_1_000_1000_1\"\n",
    "filename = \"./../problems/knapsack/instances/knapPI_1_100_1000_1\"\n",
    "kp_instance = read_kp_instance(filename)\n",
    "\n",
    "kp_instance_tiny = KPInstance([4,5,3, 2],[4,3,4,2],8,4)"
   ]
  },
  {
   "cell_type": "markdown",
   "metadata": {
    "slideshow": {
     "slide_type": "slide"
    }
   },
   "source": [
    "## Decision Diagrams for Optimization: An Overview\n",
    "\n",
    "An **exact** Decision Diagram is (almost) the same as the state space graph of a DP for a maximization problem\n",
    "\n",
    "However, the field of DDs for optimization involve a set of interesting and generic concepts:\n",
    "- an exact reduction scheme that allows reducing the size of an exact DD\n",
    "- restricted DDs for compactly representing a subset of all feasible solutions and for obtaining lower bounds\n",
    "- relaxed DDs compactly representing a superset of all feasible solutions and for obtaining upper bounds\n",
    "- a generic branch-and-bound scheme only relying on restricted and relaxed DDs\n",
    "\n",
    "\n",
    "\n"
   ]
  },
  {
   "cell_type": "markdown",
   "metadata": {
    "slideshow": {
     "slide_type": "slide"
    }
   },
   "source": [
    "## Exact Decision Diagrams"
   ]
  },
  {
   "cell_type": "markdown",
   "metadata": {
    "slideshow": {
     "slide_type": "-"
    }
   },
   "source": [
    "- given a DP model, we can view an exact DD as a state-transition-graph, with one exception:\n",
    "  - we introduce a terminal node that forms the target of all arcs emanating from layer $N-1$\n",
    "- just as in the DP by reaching algorithm, we can construct the exact DD by a layer-by-layer algorithm\n"
   ]
  },
  {
   "cell_type": "markdown",
   "metadata": {
    "slideshow": {
     "slide_type": "slide"
    }
   },
   "source": [
    "## A Decision Diagram data structure\n",
    "\n",
    "We will introduce a class `DecisionDiagram` that represents a DD\n",
    "- consisting of $N$ + 1 layers indexed from 0 to $N$\n",
    "    - each layer is a dictionary where the key is a state and the value is a `NodeInfo` object\n",
    "  - (problem-specific) state values representing the start (source) state and the sink state\n",
    "  "
   ]
  },
  {
   "cell_type": "code",
   "execution_count": 11,
   "metadata": {
    "slideshow": {
     "slide_type": "-"
    }
   },
   "outputs": [],
   "source": [
    "import networkx as nx\n",
    "\n",
    "class DecisionDiagram:        \n",
    "    def __init__(self, number_of_layers, source_layer, source_state, sink_state, direction = 'max'):\n",
    "        self.g = nx.MultiDiGraph()\n",
    "        self.number_of_layers = number_of_layers\n",
    "        self.layers = [set() for l in range(0, number_of_layers)]\n",
    "        self.source_state = source_state\n",
    "        self.sink_state = sink_state\n",
    "        self.layers[source_layer].add(source_state)\n",
    "        self.g.add_node((source_layer, source_state), best_dist = 0, best_in_edge = None)\n",
    "        self.direction = direction\n",
    "        self.last_exact_layer = source_layer"
   ]
  },
  {
   "cell_type": "markdown",
   "metadata": {
    "slideshow": {
     "slide_type": "slide"
    }
   },
   "source": [
    "## Building an exact DD by top-down-compilation\n",
    "- building an exact DD is basically the same as building the DP by reaching: states are \"discovered\" layer per layer\n",
    "- by applying the transition function to each feasible decision in each state in the layer under consideration\n",
    "- in the following algorithm, we store the best distance from the source / root node as well as the preceding node in each node\n",
    "- this means that the best path in the DD is computed \"in passing\""
   ]
  },
  {
   "cell_type": "markdown",
   "metadata": {
    "slideshow": {
     "slide_type": "slide"
    }
   },
   "source": [
    "## Building an exact DD by top-down-compilation in Python\n",
    "- observe: here, we introduce a sink state as a \"dummy\" state (that is otherwise not reachable)"
   ]
  },
  {
   "cell_type": "code",
   "execution_count": 16,
   "metadata": {},
   "outputs": [],
   "source": [
    "def build_exact_dd(dp, instance, start_layer, start_state, sink_state):\n",
    "    \n",
    "    dd = DecisionDiagram(instance.N+1, start_layer, start_state, sink_state, dp.direction)\n",
    "    \n",
    "    state = start_state\n",
    "    total_cost = 0\n",
    "    \n",
    "    for k in range(0,instance.N):\n",
    "        \n",
    "        for state in dd.layers[k]:\n",
    "            decisions = dp.feasible_decisions(instance, k, state)\n",
    "            \n",
    "            for decision in decisions:\n",
    "                if k < instance.N -1: # if we are the final layer, point to the \"sink state\"\n",
    "                    next_state = dp.transition_function(instance,k,state, decision)\n",
    "                else:\n",
    "                    next_state = sink_state\n",
    "                \n",
    "                add_transition_dd(dd, k, state, decision, next_state, dp.cost_function(instance, k, state, decision))\n",
    "   \n",
    "    #k = instance.N-1\n",
    "    \n",
    "    return dd"
   ]
  },
  {
   "cell_type": "markdown",
   "metadata": {
    "slideshow": {
     "slide_type": "slide"
    }
   },
   "source": [
    "## Creating new nodes: adding the result of a transition"
   ]
  },
  {
   "cell_type": "code",
   "execution_count": 14,
   "metadata": {},
   "outputs": [],
   "source": [
    "def add_transition_dd(dd, layer_index, state, decision, result_state, cost):\n",
    "    \n",
    "    layer = dd.layers[layer_index]\n",
    "    result_layer = dd.layers[layer_index+1] \n",
    "    \n",
    "    node = (layer_index, state)\n",
    "    \n",
    "    result_node = (layer_index+1, result_state)\n",
    " \n",
    "    result_dist = dd.g.nodes[node][\"best_dist\"] + cost  \n",
    "\n",
    "    if result_state not in result_layer:\n",
    "        result_layer.add(result_state)\n",
    "        dd.g.add_node(result_node, best_dist=result_dist, best_in_edge=(node,result_node,decision))\n",
    "        \n",
    "    elif better(result_dist, dd.g.nodes[result_node][\"best_dist\"], dd.direction): \n",
    "        dd.g.nodes[result_node][\"best_dist\"] = result_dist\n",
    "        dd.g.nodes[result_node][\"best_in_edge\"]=(node,result_node,decision)\n",
    "    \n",
    "    dd.g.add_edge(node, result_node, decision, cost=cost)\n"
   ]
  },
  {
   "cell_type": "code",
   "execution_count": null,
   "metadata": {},
   "outputs": [],
   "source": []
  },
  {
   "cell_type": "markdown",
   "metadata": {
    "slideshow": {
     "slide_type": "slide"
    }
   },
   "source": [
    "## Trying it out, and some utility functions:"
   ]
  },
  {
   "cell_type": "code",
   "execution_count": 17,
   "metadata": {
    "slideshow": {
     "slide_type": "-"
    }
   },
   "outputs": [],
   "source": [
    "dd = build_exact_dd(dp_kp, kp_instance_tiny, 0, 0,-1)\n"
   ]
  },
  {
   "cell_type": "markdown",
   "metadata": {
    "slideshow": {
     "slide_type": "fragment"
    }
   },
   "source": [
    "..getting the best objective"
   ]
  },
  {
   "cell_type": "code",
   "execution_count": 18,
   "metadata": {
    "slideshow": {
     "slide_type": "-"
    }
   },
   "outputs": [],
   "source": [
    "def get_best_objective (dd):\n",
    "    return dd.g.nodes[(dd.number_of_layers-1,dd.sink_state)][\"best_dist\"]"
   ]
  },
  {
   "cell_type": "code",
   "execution_count": 19,
   "metadata": {
    "slideshow": {
     "slide_type": "-"
    }
   },
   "outputs": [
    {
     "data": {
      "text/plain": [
       "9"
      ]
     },
     "execution_count": 19,
     "metadata": {},
     "output_type": "execute_result"
    }
   ],
   "source": [
    "get_best_objective (dd)"
   ]
  },
  {
   "cell_type": "markdown",
   "metadata": {
    "slideshow": {
     "slide_type": "-"
    }
   },
   "source": [
    "..getting the best path"
   ]
  },
  {
   "cell_type": "code",
   "execution_count": 20,
   "metadata": {
    "slideshow": {
     "slide_type": "-"
    }
   },
   "outputs": [],
   "source": [
    "\n",
    "def get_best_path(dd):\n",
    "    \n",
    "    decisions = []\n",
    "    \n",
    "    state =  dd.sink_state\n",
    "    k = dd.number_of_layers - 1\n",
    "        \n",
    "    while k > 0:\n",
    "       # print(k)\n",
    "        node,  next_node, decision = dd.g.nodes[(k,state)][\"best_in_edge\"]\n",
    "        #print (dd.layers[k+1])\n",
    "        decisions.append(decision)\n",
    "        k, state = node        \n",
    "\n",
    "    return  dd.g.nodes[(dd.number_of_layers-1,dd.sink_state)][\"best_dist\"], list(reversed(decisions))\n"
   ]
  },
  {
   "cell_type": "code",
   "execution_count": 21,
   "metadata": {
    "scrolled": true,
    "slideshow": {
     "slide_type": "-"
    }
   },
   "outputs": [
    {
     "data": {
      "text/plain": [
       "[np.int64(1), np.int64(1), np.int64(0), np.int64(0)]"
      ]
     },
     "execution_count": 21,
     "metadata": {},
     "output_type": "execute_result"
    }
   ],
   "source": [
    "get_best_path(dd)[1][:20] ## first 10 nodes"
   ]
  },
  {
   "cell_type": "markdown",
   "metadata": {
    "slideshow": {
     "slide_type": "slide"
    }
   },
   "source": [
    "..getting the number of nodes"
   ]
  },
  {
   "cell_type": "code",
   "execution_count": 22,
   "metadata": {
    "slideshow": {
     "slide_type": "-"
    }
   },
   "outputs": [],
   "source": [
    "def get_number_of_nodes(dd):\n",
    "    return dd.g.number_of_nodes()\n"
   ]
  },
  {
   "cell_type": "code",
   "execution_count": 23,
   "metadata": {},
   "outputs": [
    {
     "data": {
      "text/plain": [
       "13"
      ]
     },
     "execution_count": 23,
     "metadata": {},
     "output_type": "execute_result"
    }
   ],
   "source": [
    "get_number_of_nodes(dd)"
   ]
  },
  {
   "cell_type": "code",
   "execution_count": 24,
   "metadata": {},
   "outputs": [],
   "source": [
    "def display_dd(dd):\n",
    "    \n",
    "    \n",
    "    for node in dd.g:\n",
    "        dd.g.nodes()[node][\"label\"]=node[1]\n",
    "        dd.g.nodes()[node][\"xlabel\"]=dd.g.nodes()[node][\"best_dist\"]\n",
    "        \n",
    "    clear_output()\n",
    "    ag = nx.nx_agraph.to_agraph(dd.g)\n",
    "    \n",
    "    ag.graph_attr[\"nodesep\"] = 0.5\n",
    "    svg = ag.draw(prog='dot',format='svg')\n",
    "    display(SVG(svg))\n",
    "    \n",
    "    return\n"
   ]
  },
  {
   "cell_type": "code",
   "execution_count": 25,
   "metadata": {},
   "outputs": [
    {
     "data": {
      "image/svg+xml": [
       "<svg xmlns=\"http://www.w3.org/2000/svg\" xmlns:xlink=\"http://www.w3.org/1999/xlink\" width=\"429pt\" height=\"349pt\" viewBox=\"0.00 0.00 428.75 348.50\">\n",
       "<g id=\"graph0\" class=\"graph\" transform=\"scale(1 1) rotate(0) translate(4 344.5)\">\n",
       "<polygon fill=\"white\" stroke=\"none\" points=\"-4,4 -4,-344.5 424.75,-344.5 424.75,4 -4,4\"/>\n",
       "<!-- (0, 0) -->\n",
       "<g id=\"node1\" class=\"node\">\n",
       "<title>(0, 0)</title>\n",
       "<ellipse fill=\"none\" stroke=\"black\" cx=\"258.75\" cy=\"-306\" rx=\"27\" ry=\"18\"/>\n",
       "<text text-anchor=\"middle\" x=\"258.75\" y=\"-300.95\" font-family=\"Times New Roman,serif\" font-size=\"14.00\">0</text>\n",
       "<text text-anchor=\"middle\" x=\"228.38\" y=\"-327.2\" font-family=\"Times New Roman,serif\" font-size=\"14.00\">0</text>\n",
       "</g>\n",
       "<!-- (1, 0) -->\n",
       "<g id=\"node2\" class=\"node\">\n",
       "<title>(1, 0)</title>\n",
       "<ellipse fill=\"none\" stroke=\"black\" cx=\"213.75\" cy=\"-234\" rx=\"27\" ry=\"18\"/>\n",
       "<text text-anchor=\"middle\" x=\"213.75\" y=\"-228.95\" font-family=\"Times New Roman,serif\" font-size=\"14.00\">0</text>\n",
       "<text text-anchor=\"middle\" x=\"183.38\" y=\"-255.2\" font-family=\"Times New Roman,serif\" font-size=\"14.00\">0</text>\n",
       "</g>\n",
       "<!-- (0, 0)&#45;&gt;(1, 0) -->\n",
       "<g id=\"edge1\" class=\"edge\">\n",
       "<title>(0, 0)-&gt;(1, 0)</title>\n",
       "<path fill=\"none\" stroke=\"black\" d=\"M248.54,-289.12C243.07,-280.61 236.21,-269.94 230.03,-260.32\"/>\n",
       "<polygon fill=\"black\" stroke=\"black\" points=\"233.09,-258.61 224.74,-252.09 227.2,-262.4 233.09,-258.61\"/>\n",
       "</g>\n",
       "<!-- (1, 4) -->\n",
       "<g id=\"node3\" class=\"node\">\n",
       "<title>(1, 4)</title>\n",
       "<ellipse fill=\"none\" stroke=\"black\" cx=\"303.75\" cy=\"-234\" rx=\"27\" ry=\"18\"/>\n",
       "<text text-anchor=\"middle\" x=\"303.75\" y=\"-228.95\" font-family=\"Times New Roman,serif\" font-size=\"14.00\">4</text>\n",
       "<text text-anchor=\"middle\" x=\"273.38\" y=\"-255.2\" font-family=\"Times New Roman,serif\" font-size=\"14.00\">4</text>\n",
       "</g>\n",
       "<!-- (0, 0)&#45;&gt;(1, 4) -->\n",
       "<g id=\"edge2\" class=\"edge\">\n",
       "<title>(0, 0)-&gt;(1, 4)</title>\n",
       "<path fill=\"none\" stroke=\"black\" d=\"M268.96,-289.12C274.43,-280.61 281.29,-269.94 287.47,-260.32\"/>\n",
       "<polygon fill=\"black\" stroke=\"black\" points=\"290.3,-262.4 292.76,-252.09 284.41,-258.61 290.3,-262.4\"/>\n",
       "</g>\n",
       "<!-- (2, 0) -->\n",
       "<g id=\"node4\" class=\"node\">\n",
       "<title>(2, 0)</title>\n",
       "<ellipse fill=\"none\" stroke=\"black\" cx=\"123.75\" cy=\"-162\" rx=\"27\" ry=\"18\"/>\n",
       "<text text-anchor=\"middle\" x=\"123.75\" y=\"-156.95\" font-family=\"Times New Roman,serif\" font-size=\"14.00\">0</text>\n",
       "<text text-anchor=\"middle\" x=\"93.38\" y=\"-183.2\" font-family=\"Times New Roman,serif\" font-size=\"14.00\">0</text>\n",
       "</g>\n",
       "<!-- (1, 0)&#45;&gt;(2, 0) -->\n",
       "<g id=\"edge3\" class=\"edge\">\n",
       "<title>(1, 0)-&gt;(2, 0)</title>\n",
       "<path fill=\"none\" stroke=\"black\" d=\"M196.82,-219.83C183.58,-209.54 164.94,-195.04 149.8,-183.26\"/>\n",
       "<polygon fill=\"black\" stroke=\"black\" points=\"152.15,-180.65 142.1,-177.27 147.85,-186.18 152.15,-180.65\"/>\n",
       "</g>\n",
       "<!-- (2, 3) -->\n",
       "<g id=\"node5\" class=\"node\">\n",
       "<title>(2, 3)</title>\n",
       "<ellipse fill=\"none\" stroke=\"black\" cx=\"303.75\" cy=\"-162\" rx=\"27\" ry=\"18\"/>\n",
       "<text text-anchor=\"middle\" x=\"303.75\" y=\"-156.95\" font-family=\"Times New Roman,serif\" font-size=\"14.00\">3</text>\n",
       "<text text-anchor=\"middle\" x=\"273.38\" y=\"-183.2\" font-family=\"Times New Roman,serif\" font-size=\"14.00\">5</text>\n",
       "</g>\n",
       "<!-- (1, 0)&#45;&gt;(2, 3) -->\n",
       "<g id=\"edge4\" class=\"edge\">\n",
       "<title>(1, 0)-&gt;(2, 3)</title>\n",
       "<path fill=\"none\" stroke=\"black\" d=\"M230.68,-219.83C243.92,-209.54 262.56,-195.04 277.7,-183.26\"/>\n",
       "<polygon fill=\"black\" stroke=\"black\" points=\"279.65,-186.18 285.4,-177.27 275.35,-180.65 279.65,-186.18\"/>\n",
       "</g>\n",
       "<!-- (2, 4) -->\n",
       "<g id=\"node6\" class=\"node\">\n",
       "<title>(2, 4)</title>\n",
       "<ellipse fill=\"none\" stroke=\"black\" cx=\"213.75\" cy=\"-162\" rx=\"27\" ry=\"18\"/>\n",
       "<text text-anchor=\"middle\" x=\"213.75\" y=\"-156.95\" font-family=\"Times New Roman,serif\" font-size=\"14.00\">4</text>\n",
       "<text text-anchor=\"middle\" x=\"183.38\" y=\"-183.2\" font-family=\"Times New Roman,serif\" font-size=\"14.00\">4</text>\n",
       "</g>\n",
       "<!-- (1, 4)&#45;&gt;(2, 4) -->\n",
       "<g id=\"edge5\" class=\"edge\">\n",
       "<title>(1, 4)-&gt;(2, 4)</title>\n",
       "<path fill=\"none\" stroke=\"black\" d=\"M286.82,-219.83C273.58,-209.54 254.94,-195.04 239.8,-183.26\"/>\n",
       "<polygon fill=\"black\" stroke=\"black\" points=\"242.15,-180.65 232.1,-177.27 237.85,-186.18 242.15,-180.65\"/>\n",
       "</g>\n",
       "<!-- (2, 7) -->\n",
       "<g id=\"node7\" class=\"node\">\n",
       "<title>(2, 7)</title>\n",
       "<ellipse fill=\"none\" stroke=\"black\" cx=\"393.75\" cy=\"-162\" rx=\"27\" ry=\"18\"/>\n",
       "<text text-anchor=\"middle\" x=\"393.75\" y=\"-156.95\" font-family=\"Times New Roman,serif\" font-size=\"14.00\">7</text>\n",
       "<text text-anchor=\"middle\" x=\"363.38\" y=\"-183.2\" font-family=\"Times New Roman,serif\" font-size=\"14.00\">9</text>\n",
       "</g>\n",
       "<!-- (1, 4)&#45;&gt;(2, 7) -->\n",
       "<g id=\"edge6\" class=\"edge\">\n",
       "<title>(1, 4)-&gt;(2, 7)</title>\n",
       "<path fill=\"none\" stroke=\"black\" d=\"M320.68,-219.83C333.92,-209.54 352.56,-195.04 367.7,-183.26\"/>\n",
       "<polygon fill=\"black\" stroke=\"black\" points=\"369.65,-186.18 375.4,-177.27 365.35,-180.65 369.65,-186.18\"/>\n",
       "</g>\n",
       "<!-- (3, 0) -->\n",
       "<g id=\"node8\" class=\"node\">\n",
       "<title>(3, 0)</title>\n",
       "<ellipse fill=\"none\" stroke=\"black\" cx=\"33.75\" cy=\"-90\" rx=\"27\" ry=\"18\"/>\n",
       "<text text-anchor=\"middle\" x=\"33.75\" y=\"-84.95\" font-family=\"Times New Roman,serif\" font-size=\"14.00\">0</text>\n",
       "<text text-anchor=\"middle\" x=\"3.38\" y=\"-111.2\" font-family=\"Times New Roman,serif\" font-size=\"14.00\">0</text>\n",
       "</g>\n",
       "<!-- (2, 0)&#45;&gt;(3, 0) -->\n",
       "<g id=\"edge7\" class=\"edge\">\n",
       "<title>(2, 0)-&gt;(3, 0)</title>\n",
       "<path fill=\"none\" stroke=\"black\" d=\"M106.82,-147.83C93.58,-137.54 74.94,-123.04 59.8,-111.26\"/>\n",
       "<polygon fill=\"black\" stroke=\"black\" points=\"62.15,-108.65 52.1,-105.27 57.85,-114.18 62.15,-108.65\"/>\n",
       "</g>\n",
       "<!-- (3, 4) -->\n",
       "<g id=\"node9\" class=\"node\">\n",
       "<title>(3, 4)</title>\n",
       "<ellipse fill=\"none\" stroke=\"black\" cx=\"123.75\" cy=\"-90\" rx=\"27\" ry=\"18\"/>\n",
       "<text text-anchor=\"middle\" x=\"123.75\" y=\"-84.95\" font-family=\"Times New Roman,serif\" font-size=\"14.00\">4</text>\n",
       "<text text-anchor=\"middle\" x=\"93.38\" y=\"-111.2\" font-family=\"Times New Roman,serif\" font-size=\"14.00\">4</text>\n",
       "</g>\n",
       "<!-- (2, 0)&#45;&gt;(3, 4) -->\n",
       "<g id=\"edge8\" class=\"edge\">\n",
       "<title>(2, 0)-&gt;(3, 4)</title>\n",
       "<path fill=\"none\" stroke=\"black\" d=\"M123.75,-143.7C123.75,-136.41 123.75,-127.73 123.75,-119.54\"/>\n",
       "<polygon fill=\"black\" stroke=\"black\" points=\"127.25,-119.62 123.75,-109.62 120.25,-119.62 127.25,-119.62\"/>\n",
       "</g>\n",
       "<!-- (3, 3) -->\n",
       "<g id=\"node10\" class=\"node\">\n",
       "<title>(3, 3)</title>\n",
       "<ellipse fill=\"none\" stroke=\"black\" cx=\"303.75\" cy=\"-90\" rx=\"27\" ry=\"18\"/>\n",
       "<text text-anchor=\"middle\" x=\"303.75\" y=\"-84.95\" font-family=\"Times New Roman,serif\" font-size=\"14.00\">3</text>\n",
       "<text text-anchor=\"middle\" x=\"273.38\" y=\"-111.2\" font-family=\"Times New Roman,serif\" font-size=\"14.00\">5</text>\n",
       "</g>\n",
       "<!-- (2, 3)&#45;&gt;(3, 3) -->\n",
       "<g id=\"edge9\" class=\"edge\">\n",
       "<title>(2, 3)-&gt;(3, 3)</title>\n",
       "<path fill=\"none\" stroke=\"black\" d=\"M303.75,-143.7C303.75,-136.41 303.75,-127.73 303.75,-119.54\"/>\n",
       "<polygon fill=\"black\" stroke=\"black\" points=\"307.25,-119.62 303.75,-109.62 300.25,-119.62 307.25,-119.62\"/>\n",
       "</g>\n",
       "<!-- (3, 7) -->\n",
       "<g id=\"node11\" class=\"node\">\n",
       "<title>(3, 7)</title>\n",
       "<ellipse fill=\"none\" stroke=\"black\" cx=\"393.75\" cy=\"-90\" rx=\"27\" ry=\"18\"/>\n",
       "<text text-anchor=\"middle\" x=\"393.75\" y=\"-84.95\" font-family=\"Times New Roman,serif\" font-size=\"14.00\">7</text>\n",
       "<text text-anchor=\"middle\" x=\"363.38\" y=\"-111.2\" font-family=\"Times New Roman,serif\" font-size=\"14.00\">9</text>\n",
       "</g>\n",
       "<!-- (2, 3)&#45;&gt;(3, 7) -->\n",
       "<g id=\"edge10\" class=\"edge\">\n",
       "<title>(2, 3)-&gt;(3, 7)</title>\n",
       "<path fill=\"none\" stroke=\"black\" d=\"M320.68,-147.83C333.92,-137.54 352.56,-123.04 367.7,-111.26\"/>\n",
       "<polygon fill=\"black\" stroke=\"black\" points=\"369.65,-114.18 375.4,-105.27 365.35,-108.65 369.65,-114.18\"/>\n",
       "</g>\n",
       "<!-- (2, 4)&#45;&gt;(3, 4) -->\n",
       "<g id=\"edge11\" class=\"edge\">\n",
       "<title>(2, 4)-&gt;(3, 4)</title>\n",
       "<path fill=\"none\" stroke=\"black\" d=\"M196.82,-147.83C183.58,-137.54 164.94,-123.04 149.8,-111.26\"/>\n",
       "<polygon fill=\"black\" stroke=\"black\" points=\"152.15,-108.65 142.1,-105.27 147.85,-114.18 152.15,-108.65\"/>\n",
       "</g>\n",
       "<!-- (3, 8) -->\n",
       "<g id=\"node12\" class=\"node\">\n",
       "<title>(3, 8)</title>\n",
       "<ellipse fill=\"none\" stroke=\"black\" cx=\"213.75\" cy=\"-90\" rx=\"27\" ry=\"18\"/>\n",
       "<text text-anchor=\"middle\" x=\"213.75\" y=\"-84.95\" font-family=\"Times New Roman,serif\" font-size=\"14.00\">8</text>\n",
       "<text text-anchor=\"middle\" x=\"183.38\" y=\"-111.2\" font-family=\"Times New Roman,serif\" font-size=\"14.00\">7</text>\n",
       "</g>\n",
       "<!-- (2, 4)&#45;&gt;(3, 8) -->\n",
       "<g id=\"edge12\" class=\"edge\">\n",
       "<title>(2, 4)-&gt;(3, 8)</title>\n",
       "<path fill=\"none\" stroke=\"black\" d=\"M213.75,-143.7C213.75,-136.41 213.75,-127.73 213.75,-119.54\"/>\n",
       "<polygon fill=\"black\" stroke=\"black\" points=\"217.25,-119.62 213.75,-109.62 210.25,-119.62 217.25,-119.62\"/>\n",
       "</g>\n",
       "<!-- (2, 7)&#45;&gt;(3, 7) -->\n",
       "<g id=\"edge13\" class=\"edge\">\n",
       "<title>(2, 7)-&gt;(3, 7)</title>\n",
       "<path fill=\"none\" stroke=\"black\" d=\"M393.75,-143.7C393.75,-136.41 393.75,-127.73 393.75,-119.54\"/>\n",
       "<polygon fill=\"black\" stroke=\"black\" points=\"397.25,-119.62 393.75,-109.62 390.25,-119.62 397.25,-119.62\"/>\n",
       "</g>\n",
       "<!-- (4, &#45;1) -->\n",
       "<g id=\"node13\" class=\"node\">\n",
       "<title>(4, -1)</title>\n",
       "<ellipse fill=\"none\" stroke=\"black\" cx=\"168.75\" cy=\"-18\" rx=\"27\" ry=\"18\"/>\n",
       "<text text-anchor=\"middle\" x=\"168.75\" y=\"-12.95\" font-family=\"Times New Roman,serif\" font-size=\"14.00\">-1</text>\n",
       "<text text-anchor=\"middle\" x=\"138.38\" y=\"-39.2\" font-family=\"Times New Roman,serif\" font-size=\"14.00\">9</text>\n",
       "</g>\n",
       "<!-- (3, 0)&#45;&gt;(4, &#45;1) -->\n",
       "<g id=\"edge14\" class=\"edge\">\n",
       "<title>(3, 0)-&gt;(4, -1)</title>\n",
       "<path fill=\"none\" stroke=\"black\" d=\"M49.69,-75C70.99,-62.18 107.4,-43.39 134.73,-31.18\"/>\n",
       "<polygon fill=\"black\" stroke=\"black\" points=\"135.91,-34.48 143.69,-27.29 133.12,-28.06 135.91,-34.48\"/>\n",
       "</g>\n",
       "<!-- (3, 0)&#45;&gt;(4, &#45;1) -->\n",
       "<g id=\"edge15\" class=\"edge\">\n",
       "<title>(3, 0)-&gt;(4, -1)</title>\n",
       "<path fill=\"none\" stroke=\"black\" d=\"M57.58,-81.24C81.97,-71.03 118.43,-52.71 143.26,-38.58\"/>\n",
       "<polygon fill=\"black\" stroke=\"black\" points=\"144.94,-41.65 151.81,-33.58 141.41,-35.6 144.94,-41.65\"/>\n",
       "</g>\n",
       "<!-- (3, 4)&#45;&gt;(4, &#45;1) -->\n",
       "<g id=\"edge16\" class=\"edge\">\n",
       "<title>(3, 4)-&gt;(4, -1)</title>\n",
       "<path fill=\"none\" stroke=\"black\" d=\"M123.04,-71.7C127.21,-62.15 134.65,-50.22 142.66,-40.12\"/>\n",
       "<polygon fill=\"black\" stroke=\"black\" points=\"145.23,-42.5 149.11,-32.64 139.93,-37.93 145.23,-42.5\"/>\n",
       "</g>\n",
       "<!-- (3, 4)&#45;&gt;(4, &#45;1) -->\n",
       "<g id=\"edge17\" class=\"edge\">\n",
       "<title>(3, 4)-&gt;(4, -1)</title>\n",
       "<path fill=\"none\" stroke=\"black\" d=\"M142.43,-76.49C150.33,-68.11 158.49,-56.75 164.38,-46.35\"/>\n",
       "<polygon fill=\"black\" stroke=\"black\" points=\"167.34,-48.25 168.73,-37.75 161.09,-45.09 167.34,-48.25\"/>\n",
       "</g>\n",
       "<!-- (3, 3)&#45;&gt;(4, &#45;1) -->\n",
       "<g id=\"edge18\" class=\"edge\">\n",
       "<title>(3, 3)-&gt;(4, -1)</title>\n",
       "<path fill=\"none\" stroke=\"black\" d=\"M279.92,-81.24C255.53,-71.03 219.07,-52.71 194.24,-38.58\"/>\n",
       "<polygon fill=\"black\" stroke=\"black\" points=\"196.09,-35.6 185.69,-33.58 192.56,-41.65 196.09,-35.6\"/>\n",
       "</g>\n",
       "<!-- (3, 3)&#45;&gt;(4, &#45;1) -->\n",
       "<g id=\"edge19\" class=\"edge\">\n",
       "<title>(3, 3)-&gt;(4, -1)</title>\n",
       "<path fill=\"none\" stroke=\"black\" d=\"M287.81,-75C266.51,-62.18 230.1,-43.39 202.77,-31.18\"/>\n",
       "<polygon fill=\"black\" stroke=\"black\" points=\"204.38,-28.06 193.81,-27.29 201.59,-34.48 204.38,-28.06\"/>\n",
       "</g>\n",
       "<!-- (3, 7)&#45;&gt;(4, &#45;1) -->\n",
       "<g id=\"edge20\" class=\"edge\">\n",
       "<title>(3, 7)-&gt;(4, -1)</title>\n",
       "<path fill=\"none\" stroke=\"black\" d=\"M370.98,-80.02C363.89,-77.33 356.03,-74.44 348.75,-72 299.28,-55.4 241.26,-38.83 204.74,-28.74\"/>\n",
       "<polygon fill=\"black\" stroke=\"black\" points=\"205.71,-25.38 195.14,-26.11 203.86,-32.13 205.71,-25.38\"/>\n",
       "</g>\n",
       "<!-- (3, 8)&#45;&gt;(4, &#45;1) -->\n",
       "<g id=\"edge21\" class=\"edge\">\n",
       "<title>(3, 8)-&gt;(4, -1)</title>\n",
       "<path fill=\"none\" stroke=\"black\" d=\"M203.54,-73.12C198.07,-64.61 191.21,-53.94 185.03,-44.32\"/>\n",
       "<polygon fill=\"black\" stroke=\"black\" points=\"188.09,-42.61 179.74,-36.09 182.2,-46.4 188.09,-42.61\"/>\n",
       "</g>\n",
       "</g>\n",
       "</svg>"
      ],
      "text/plain": [
       "<IPython.core.display.SVG object>"
      ]
     },
     "metadata": {},
     "output_type": "display_data"
    }
   ],
   "source": [
    "display_dd(dd)"
   ]
  },
  {
   "cell_type": "code",
   "execution_count": null,
   "metadata": {},
   "outputs": [],
   "source": []
  },
  {
   "cell_type": "markdown",
   "metadata": {
    "slideshow": {
     "slide_type": "slide"
    }
   },
   "source": [
    "## Reducing an exact DD\n",
    "\n",
    "One of the key ideas from DDs is that very often, a DD can be compressed / reduced by merging nodes \n",
    "that \n",
    "- do not have identical (top-down) states\n",
    "- but are nonetheless **equivalent** in the sense that they have the same *completions*, that is, the same set of partial solutions until the end (the solution sets of their tail subproblems are identical)"
   ]
  },
  {
   "cell_type": "markdown",
   "metadata": {
    "slideshow": {
     "slide_type": "slide"
    }
   },
   "source": [
    "This type of equivalence can be identified by an upward-pass starting from the bottom layer $N$ to layer $0$\n",
    "\n",
    "- in each layer $k$, two nodes are equivalent (are in the same equivalence class) if \n",
    "  - they have the same set of feasible decisions \n",
    "  - these decisions have the same costs\n",
    "  - the corresponding arcs point to the same set of nodes in the subsequent layer $k+1$\n",
    "- for each equivalence class, merge all nodes in that class into a single node\n",
    "\n",
    "**Attention:** The following implementation assumes that the decision costs are state-independent. If the decision costs (the arc costs) are state-dependent, then we need to add a check for identical costs, too"
   ]
  },
  {
   "cell_type": "markdown",
   "metadata": {
    "slideshow": {
     "slide_type": "slide"
    }
   },
   "source": [
    "## Implementing the DD reduction"
   ]
  },
  {
   "cell_type": "code",
   "execution_count": 28,
   "metadata": {},
   "outputs": [],
   "source": [
    "import keyboard\n",
    "def reduce_exact_dd(dd, step_by_step_visualization=False):\n",
    "    \n",
    "    #proceed from the bottom (last layer) to the top\n",
    "    k = len(dd.layers)-1\n",
    "    while k > 0:\n",
    "        \n",
    "        # a dict with key: decisions and resulting nodes (forming an equivalence class)\n",
    "        #       and value: list of states falling into that class\n",
    "        eq_classes = {}\n",
    "    \n",
    "        #1. collect equivalence classes and states/nodes in each class\n",
    "        for state in dd.layers[k]:\n",
    "            \n",
    "            out_arc_info = []\n",
    "            \n",
    "            for u,v,decision,data in dd.g.out_edges((k,state),keys=True, data=True):\n",
    "                out_arc_info.append((decision,v,data[\"cost\"]))\n",
    "                \n",
    "            eq_class = tuple(sorted(out_arc_info))\n",
    "            \n",
    "            if eq_class not in eq_classes:\n",
    "                eq_classes[eq_class] = [state]                \n",
    "            else:\n",
    "                eq_classes[eq_class].append(state)\n",
    "        \n",
    "        # 2. merge all states in each class into a single node\n",
    "        for eq_class, states in eq_classes.items():            \n",
    "            while len(states) > 1:\n",
    "                state_remove = states.pop()\n",
    "                merge_nodes(dd, k, states[0], state_remove)\n",
    "        \n",
    "        if step_by_step_visualization:\n",
    "            display_dd(dd)\n",
    "            keyboard.read_key()\n",
    "            \n",
    "                    \n",
    "        k=k-1"
   ]
  },
  {
   "cell_type": "markdown",
   "metadata": {
    "slideshow": {
     "slide_type": "slide"
    }
   },
   "source": [
    "## Merging two nodes"
   ]
  },
  {
   "cell_type": "code",
   "execution_count": 27,
   "metadata": {
    "slideshow": {
     "slide_type": "-"
    }
   },
   "outputs": [],
   "source": [
    "def merge_nodes(dd, layer_index, state_orig, state_remove):\n",
    "    \n",
    "    node_orig = (layer_index, state_orig)\n",
    "    node_remove = (layer_index, state_remove)\n",
    "    \n",
    "    layer = dd.layers[layer_index]\n",
    "\n",
    "    \n",
    "\n",
    "    # 1. Keep the best distance to from the source\n",
    "    if better(dd.g.nodes[node_remove][\"best_dist\"], dd.g.nodes[node_orig][\"best_dist\"], dd.direction):        \n",
    "        (u,v,d) = dd.g.nodes[node_remove][\"best_in_edge\"]\n",
    "        dd.g.nodes[node_orig][\"best_in_edge\"] = (u,node_orig,d)\n",
    "        dd.g.nodes[node_orig][\"best_dist\"] = dd.g.nodes[node_remove][\"best_dist\"]\n",
    "\n",
    "    \n",
    "    # update best stuff\n",
    "    \n",
    "    for u, v, decision,data in dd.g.out_edges(node_remove, keys=True, data=True):\n",
    "        if dd.g.nodes[v][\"best_in_edge\"] == (u,v,decision):\n",
    "            dd.g.nodes[v][\"best_in_edge\"] = (node_orig, decision, v)\n",
    "            \n",
    "\n",
    "    # 3. redirect the in-arcs from the removed node to the node to be kept\n",
    "    \n",
    "    arcs_to_add = []\n",
    "    for u,v,decision,data in dd.g.in_edges(node_remove, keys = True, data=True):\n",
    "        arcs_to_add.append((u,node_orig, decision, data))\n",
    "                           \n",
    "    dd.g.remove_node(node_remove)\n",
    "    layer.remove(state_remove)\n",
    "    \n",
    "    dd.g.add_edges_from(arcs_to_add)\n"
   ]
  },
  {
   "cell_type": "markdown",
   "metadata": {
    "slideshow": {
     "slide_type": "slide"
    }
   },
   "source": [
    "## Trying it  out"
   ]
  },
  {
   "cell_type": "code",
   "execution_count": 29,
   "metadata": {
    "slideshow": {
     "slide_type": "-"
    }
   },
   "outputs": [
    {
     "data": {
      "image/svg+xml": [
       "<svg xmlns=\"http://www.w3.org/2000/svg\" xmlns:xlink=\"http://www.w3.org/1999/xlink\" width=\"249pt\" height=\"349pt\" viewBox=\"0.00 0.00 248.75 348.50\">\n",
       "<g id=\"graph0\" class=\"graph\" transform=\"scale(1 1) rotate(0) translate(4 344.5)\">\n",
       "<polygon fill=\"white\" stroke=\"none\" points=\"-4,4 -4,-344.5 244.75,-344.5 244.75,4 -4,4\"/>\n",
       "<!-- (0, 0) -->\n",
       "<g id=\"node1\" class=\"node\">\n",
       "<title>(0, 0)</title>\n",
       "<ellipse fill=\"none\" stroke=\"black\" cx=\"123.75\" cy=\"-306\" rx=\"27\" ry=\"18\"/>\n",
       "<text text-anchor=\"middle\" x=\"123.75\" y=\"-300.95\" font-family=\"Times New Roman,serif\" font-size=\"14.00\">0</text>\n",
       "<text text-anchor=\"middle\" x=\"93.38\" y=\"-327.2\" font-family=\"Times New Roman,serif\" font-size=\"14.00\">0</text>\n",
       "</g>\n",
       "<!-- (1, 0) -->\n",
       "<g id=\"node2\" class=\"node\">\n",
       "<title>(1, 0)</title>\n",
       "<ellipse fill=\"none\" stroke=\"black\" cx=\"78.75\" cy=\"-234\" rx=\"27\" ry=\"18\"/>\n",
       "<text text-anchor=\"middle\" x=\"78.75\" y=\"-228.95\" font-family=\"Times New Roman,serif\" font-size=\"14.00\">0</text>\n",
       "<text text-anchor=\"middle\" x=\"48.38\" y=\"-255.2\" font-family=\"Times New Roman,serif\" font-size=\"14.00\">0</text>\n",
       "</g>\n",
       "<!-- (0, 0)&#45;&gt;(1, 0) -->\n",
       "<g id=\"edge1\" class=\"edge\">\n",
       "<title>(0, 0)-&gt;(1, 0)</title>\n",
       "<path fill=\"none\" stroke=\"black\" d=\"M113.54,-289.12C108.07,-280.61 101.21,-269.94 95.03,-260.32\"/>\n",
       "<polygon fill=\"black\" stroke=\"black\" points=\"98.09,-258.61 89.74,-252.09 92.2,-262.4 98.09,-258.61\"/>\n",
       "</g>\n",
       "<!-- (1, 4) -->\n",
       "<g id=\"node3\" class=\"node\">\n",
       "<title>(1, 4)</title>\n",
       "<ellipse fill=\"none\" stroke=\"black\" cx=\"168.75\" cy=\"-234\" rx=\"27\" ry=\"18\"/>\n",
       "<text text-anchor=\"middle\" x=\"168.75\" y=\"-228.95\" font-family=\"Times New Roman,serif\" font-size=\"14.00\">4</text>\n",
       "<text text-anchor=\"middle\" x=\"138.38\" y=\"-255.2\" font-family=\"Times New Roman,serif\" font-size=\"14.00\">4</text>\n",
       "</g>\n",
       "<!-- (0, 0)&#45;&gt;(1, 4) -->\n",
       "<g id=\"edge2\" class=\"edge\">\n",
       "<title>(0, 0)-&gt;(1, 4)</title>\n",
       "<path fill=\"none\" stroke=\"black\" d=\"M133.96,-289.12C139.43,-280.61 146.29,-269.94 152.47,-260.32\"/>\n",
       "<polygon fill=\"black\" stroke=\"black\" points=\"155.3,-262.4 157.76,-252.09 149.41,-258.61 155.3,-262.4\"/>\n",
       "</g>\n",
       "<!-- (2, 0) -->\n",
       "<g id=\"node4\" class=\"node\">\n",
       "<title>(2, 0)</title>\n",
       "<ellipse fill=\"none\" stroke=\"black\" cx=\"33.75\" cy=\"-162\" rx=\"27\" ry=\"18\"/>\n",
       "<text text-anchor=\"middle\" x=\"33.75\" y=\"-156.95\" font-family=\"Times New Roman,serif\" font-size=\"14.00\">0</text>\n",
       "<text text-anchor=\"middle\" x=\"3.38\" y=\"-183.2\" font-family=\"Times New Roman,serif\" font-size=\"14.00\">0</text>\n",
       "</g>\n",
       "<!-- (1, 0)&#45;&gt;(2, 0) -->\n",
       "<g id=\"edge3\" class=\"edge\">\n",
       "<title>(1, 0)-&gt;(2, 0)</title>\n",
       "<path fill=\"none\" stroke=\"black\" d=\"M68.54,-217.12C63.07,-208.61 56.21,-197.94 50.03,-188.32\"/>\n",
       "<polygon fill=\"black\" stroke=\"black\" points=\"53.09,-186.61 44.74,-180.09 47.2,-190.4 53.09,-186.61\"/>\n",
       "</g>\n",
       "<!-- (2, 3) -->\n",
       "<g id=\"node5\" class=\"node\">\n",
       "<title>(2, 3)</title>\n",
       "<ellipse fill=\"none\" stroke=\"black\" cx=\"123.75\" cy=\"-162\" rx=\"27\" ry=\"18\"/>\n",
       "<text text-anchor=\"middle\" x=\"123.75\" y=\"-156.95\" font-family=\"Times New Roman,serif\" font-size=\"14.00\">3</text>\n",
       "<text text-anchor=\"middle\" x=\"93.38\" y=\"-183.2\" font-family=\"Times New Roman,serif\" font-size=\"14.00\">5</text>\n",
       "</g>\n",
       "<!-- (1, 0)&#45;&gt;(2, 3) -->\n",
       "<g id=\"edge4\" class=\"edge\">\n",
       "<title>(1, 0)-&gt;(2, 3)</title>\n",
       "<path fill=\"none\" stroke=\"black\" d=\"M88.96,-217.12C94.43,-208.61 101.29,-197.94 107.47,-188.32\"/>\n",
       "<polygon fill=\"black\" stroke=\"black\" points=\"110.3,-190.4 112.76,-180.09 104.41,-186.61 110.3,-190.4\"/>\n",
       "</g>\n",
       "<!-- (1, 4)&#45;&gt;(2, 3) -->\n",
       "<g id=\"edge5\" class=\"edge\">\n",
       "<title>(1, 4)-&gt;(2, 3)</title>\n",
       "<path fill=\"none\" stroke=\"black\" d=\"M158.54,-217.12C153.07,-208.61 146.21,-197.94 140.03,-188.32\"/>\n",
       "<polygon fill=\"black\" stroke=\"black\" points=\"143.09,-186.61 134.74,-180.09 137.2,-190.4 143.09,-186.61\"/>\n",
       "</g>\n",
       "<!-- (2, 7) -->\n",
       "<g id=\"node6\" class=\"node\">\n",
       "<title>(2, 7)</title>\n",
       "<ellipse fill=\"none\" stroke=\"black\" cx=\"213.75\" cy=\"-162\" rx=\"27\" ry=\"18\"/>\n",
       "<text text-anchor=\"middle\" x=\"213.75\" y=\"-156.95\" font-family=\"Times New Roman,serif\" font-size=\"14.00\">7</text>\n",
       "<text text-anchor=\"middle\" x=\"183.38\" y=\"-183.2\" font-family=\"Times New Roman,serif\" font-size=\"14.00\">9</text>\n",
       "</g>\n",
       "<!-- (1, 4)&#45;&gt;(2, 7) -->\n",
       "<g id=\"edge6\" class=\"edge\">\n",
       "<title>(1, 4)-&gt;(2, 7)</title>\n",
       "<path fill=\"none\" stroke=\"black\" d=\"M178.96,-217.12C184.43,-208.61 191.29,-197.94 197.47,-188.32\"/>\n",
       "<polygon fill=\"black\" stroke=\"black\" points=\"200.3,-190.4 202.76,-180.09 194.41,-186.61 200.3,-190.4\"/>\n",
       "</g>\n",
       "<!-- (3, 0) -->\n",
       "<g id=\"node7\" class=\"node\">\n",
       "<title>(3, 0)</title>\n",
       "<ellipse fill=\"none\" stroke=\"black\" cx=\"33.75\" cy=\"-90\" rx=\"27\" ry=\"18\"/>\n",
       "<text text-anchor=\"middle\" x=\"33.75\" y=\"-84.95\" font-family=\"Times New Roman,serif\" font-size=\"14.00\">0</text>\n",
       "<text text-anchor=\"middle\" x=\"3.38\" y=\"-111.2\" font-family=\"Times New Roman,serif\" font-size=\"14.00\">5</text>\n",
       "</g>\n",
       "<!-- (2, 0)&#45;&gt;(3, 0) -->\n",
       "<g id=\"edge7\" class=\"edge\">\n",
       "<title>(2, 0)-&gt;(3, 0)</title>\n",
       "<path fill=\"none\" stroke=\"black\" d=\"M22.31,-145.46C20.38,-137.31 19.8,-127.08 20.59,-117.7\"/>\n",
       "<polygon fill=\"black\" stroke=\"black\" points=\"24.03,-118.4 22.09,-107.99 17.11,-117.34 24.03,-118.4\"/>\n",
       "</g>\n",
       "<!-- (2, 0)&#45;&gt;(3, 0) -->\n",
       "<g id=\"edge8\" class=\"edge\">\n",
       "<title>(2, 0)-&gt;(3, 0)</title>\n",
       "<path fill=\"none\" stroke=\"black\" d=\"M45.19,-145.46C47.12,-137.31 47.7,-127.08 46.91,-117.7\"/>\n",
       "<polygon fill=\"black\" stroke=\"black\" points=\"50.39,-117.34 45.41,-107.99 43.47,-118.4 50.39,-117.34\"/>\n",
       "</g>\n",
       "<!-- (2, 3)&#45;&gt;(3, 0) -->\n",
       "<g id=\"edge9\" class=\"edge\">\n",
       "<title>(2, 3)-&gt;(3, 0)</title>\n",
       "<path fill=\"none\" stroke=\"black\" d=\"M106.82,-147.83C93.58,-137.54 74.94,-123.04 59.8,-111.26\"/>\n",
       "<polygon fill=\"black\" stroke=\"black\" points=\"62.15,-108.65 52.1,-105.27 57.85,-114.18 62.15,-108.65\"/>\n",
       "</g>\n",
       "<!-- (3, 7) -->\n",
       "<g id=\"node8\" class=\"node\">\n",
       "<title>(3, 7)</title>\n",
       "<ellipse fill=\"none\" stroke=\"black\" cx=\"123.75\" cy=\"-90\" rx=\"27\" ry=\"18\"/>\n",
       "<text text-anchor=\"middle\" x=\"123.75\" y=\"-84.95\" font-family=\"Times New Roman,serif\" font-size=\"14.00\">7</text>\n",
       "<text text-anchor=\"middle\" x=\"93.38\" y=\"-111.2\" font-family=\"Times New Roman,serif\" font-size=\"14.00\">9</text>\n",
       "</g>\n",
       "<!-- (2, 3)&#45;&gt;(3, 7) -->\n",
       "<g id=\"edge10\" class=\"edge\">\n",
       "<title>(2, 3)-&gt;(3, 7)</title>\n",
       "<path fill=\"none\" stroke=\"black\" d=\"M123.75,-143.7C123.75,-136.41 123.75,-127.73 123.75,-119.54\"/>\n",
       "<polygon fill=\"black\" stroke=\"black\" points=\"127.25,-119.62 123.75,-109.62 120.25,-119.62 127.25,-119.62\"/>\n",
       "</g>\n",
       "<!-- (2, 7)&#45;&gt;(3, 7) -->\n",
       "<g id=\"edge11\" class=\"edge\">\n",
       "<title>(2, 7)-&gt;(3, 7)</title>\n",
       "<path fill=\"none\" stroke=\"black\" d=\"M196.82,-147.83C183.58,-137.54 164.94,-123.04 149.8,-111.26\"/>\n",
       "<polygon fill=\"black\" stroke=\"black\" points=\"152.15,-108.65 142.1,-105.27 147.85,-114.18 152.15,-108.65\"/>\n",
       "</g>\n",
       "<!-- (4, &#45;1) -->\n",
       "<g id=\"node9\" class=\"node\">\n",
       "<title>(4, -1)</title>\n",
       "<ellipse fill=\"none\" stroke=\"black\" cx=\"33.75\" cy=\"-18\" rx=\"27\" ry=\"18\"/>\n",
       "<text text-anchor=\"middle\" x=\"33.75\" y=\"-12.95\" font-family=\"Times New Roman,serif\" font-size=\"14.00\">-1</text>\n",
       "<text text-anchor=\"middle\" x=\"3.38\" y=\"-39.2\" font-family=\"Times New Roman,serif\" font-size=\"14.00\">9</text>\n",
       "</g>\n",
       "<!-- (3, 0)&#45;&gt;(4, &#45;1) -->\n",
       "<g id=\"edge12\" class=\"edge\">\n",
       "<title>(3, 0)-&gt;(4, -1)</title>\n",
       "<path fill=\"none\" stroke=\"black\" d=\"M22.31,-73.46C20.38,-65.31 19.8,-55.08 20.59,-45.7\"/>\n",
       "<polygon fill=\"black\" stroke=\"black\" points=\"24.03,-46.4 22.09,-35.99 17.11,-45.34 24.03,-46.4\"/>\n",
       "</g>\n",
       "<!-- (3, 0)&#45;&gt;(4, &#45;1) -->\n",
       "<g id=\"edge13\" class=\"edge\">\n",
       "<title>(3, 0)-&gt;(4, -1)</title>\n",
       "<path fill=\"none\" stroke=\"black\" d=\"M45.19,-73.46C47.12,-65.31 47.7,-55.08 46.91,-45.7\"/>\n",
       "<polygon fill=\"black\" stroke=\"black\" points=\"50.39,-45.34 45.41,-35.99 43.47,-46.4 50.39,-45.34\"/>\n",
       "</g>\n",
       "<!-- (3, 7)&#45;&gt;(4, &#45;1) -->\n",
       "<g id=\"edge14\" class=\"edge\">\n",
       "<title>(3, 7)-&gt;(4, -1)</title>\n",
       "<path fill=\"none\" stroke=\"black\" d=\"M106.82,-75.83C93.58,-65.54 74.94,-51.04 59.8,-39.26\"/>\n",
       "<polygon fill=\"black\" stroke=\"black\" points=\"62.15,-36.65 52.1,-33.27 57.85,-42.18 62.15,-36.65\"/>\n",
       "</g>\n",
       "</g>\n",
       "</svg>"
      ],
      "text/plain": [
       "<IPython.core.display.SVG object>"
      ]
     },
     "metadata": {},
     "output_type": "display_data"
    },
    {
     "name": "stdout",
     "output_type": "stream",
     "text": [
      "reduced nodes 9\n"
     ]
    }
   ],
   "source": [
    "reduce_exact_dd(dd, True)\n",
    "\n",
    "print (\"reduced nodes\", get_number_of_nodes(dd))\n",
    "\n"
   ]
  },
  {
   "cell_type": "markdown",
   "metadata": {},
   "source": [
    "..some sanity checks"
   ]
  },
  {
   "cell_type": "code",
   "execution_count": 30,
   "metadata": {},
   "outputs": [
    {
     "data": {
      "text/plain": [
       "9"
      ]
     },
     "execution_count": 30,
     "metadata": {},
     "output_type": "execute_result"
    }
   ],
   "source": [
    "get_best_objective (dd)"
   ]
  },
  {
   "cell_type": "code",
   "execution_count": 31,
   "metadata": {},
   "outputs": [
    {
     "data": {
      "text/plain": [
       "[np.int64(1), np.int64(1), np.int64(0), np.int64(0)]"
      ]
     },
     "execution_count": 31,
     "metadata": {},
     "output_type": "execute_result"
    }
   ],
   "source": [
    "get_best_path(dd)[1][:10]"
   ]
  },
  {
   "cell_type": "markdown",
   "metadata": {
    "slideshow": {
     "slide_type": "slide"
    }
   },
   "source": [
    "### A Larger KP instance"
   ]
  },
  {
   "cell_type": "code",
   "execution_count": 32,
   "metadata": {
    "slideshow": {
     "slide_type": "-"
    }
   },
   "outputs": [
    {
     "name": "stdout",
     "output_type": "stream",
     "text": [
      "80725\n",
      "19957\n"
     ]
    }
   ],
   "source": [
    "dd = build_exact_dd(dp_kp, kp_instance, 0, 0,-1)\n",
    "\n",
    "print(get_number_of_nodes(dd))\n",
    "\n",
    "reduce_exact_dd(dd)\n",
    "\n",
    "print(get_number_of_nodes(dd))"
   ]
  },
  {
   "cell_type": "markdown",
   "metadata": {
    "slideshow": {
     "slide_type": "slide"
    }
   },
   "source": [
    "## Restricted Decision Diagrams\n",
    "\n",
    "- building an exact decision diagram is often not practical since it may have an exponential size\n",
    "- also, the reduction requires building the exact DD beforehand\n",
    "- the idea of restricted DDs is to limit the size of the DD (more precisely, the width `maxWidth` of its layers) by removing states from each layer until the maximum width is respected\n",
    "- of course, this introduces an approximation, that is, the solution is no longer guaranteed to be optimal\n"
   ]
  },
  {
   "cell_type": "markdown",
   "metadata": {
    "slideshow": {
     "slide_type": "slide"
    }
   },
   "source": [
    "## Building a restricted DD top-down in Python"
   ]
  },
  {
   "cell_type": "code",
   "execution_count": 87,
   "metadata": {},
   "outputs": [],
   "source": [
    "def build_restricted_dd(dp, instance, start_layer, start_state, sink_state, max_width,  sort_key_function=None):\n",
    "    \n",
    "    dd = DecisionDiagram(instance.N+1, start_layer, start_state, sink_state, dp.direction)  \n",
    "    \n",
    "    sort_key_function = get_sort_key_function_best_distance(dp)\n",
    "    \n",
    "    state = start_state\n",
    "    total_cost = 0    \n",
    "    \n",
    "    for k in range(start_layer,instance.N):\n",
    "\n",
    "        for state in dd.layers[k]:\n",
    "            decisions = dp.feasible_decisions(instance, k, state)\n",
    "            \n",
    "            for decision in decisions:\n",
    "                if k < instance.N -1:\n",
    "                    next_state = dp.transition_function(instance,k,state, decision)\n",
    "                else:\n",
    "                    next_state = -1\n",
    "                \n",
    "                add_transition_dd(dd, k, state, decision, next_state, dp.cost_function(instance, k, state, decision)) \n",
    "                \n",
    "         # remove_nodes until max_width is reached\n",
    "        remove_until_max_width(dd, k+1,max_width, sort_key_function)       \n",
    "\n",
    "    return dd"
   ]
  },
  {
   "cell_type": "markdown",
   "metadata": {
    "slideshow": {
     "slide_type": "slide"
    }
   },
   "source": [
    "## Removing all nodes in a layer until maximum width"
   ]
  },
  {
   "cell_type": "code",
   "execution_count": 65,
   "metadata": {
    "slideshow": {
     "slide_type": "-"
    }
   },
   "outputs": [],
   "source": [
    "def remove_until_max_width(dd, layer_index, max_width, sort_key_function):\n",
    "\n",
    "    if len(dd.layers[layer_index]) <= max_width:\n",
    "        if dd.last_exact_layer == layer_index -1: \n",
    "            dd.last_exact_layer = layer_index\n",
    "        return\n",
    "\n",
    "    states_data = [(state, dd.g.nodes[(layer_index, state)]) for state in dd.layers[layer_index]]\n",
    "    sorted_states = sorted(states_data, key=sort_key_function)\n",
    "    \n",
    "  \n",
    "    for state, data in sorted_states[max_width:]:\n",
    "        dd.layers[layer_index].remove(state) \n",
    "        dd.g.remove_node((layer_index,state))"
   ]
  },
  {
   "cell_type": "markdown",
   "metadata": {
    "slideshow": {
     "slide_type": "slide"
    }
   },
   "source": [
    "## Some standard sort function"
   ]
  },
  {
   "cell_type": "code",
   "execution_count": 47,
   "metadata": {},
   "outputs": [],
   "source": [
    "def sort_key_max_distance(state_data):\n",
    "    return state_data[1][\"best_dist\"] * -1"
   ]
  },
  {
   "cell_type": "code",
   "execution_count": 46,
   "metadata": {},
   "outputs": [],
   "source": [
    "def sort_key_min_distance(state_data):\n",
    "    return state_data[1][\"best_dist\"] "
   ]
  },
  {
   "cell_type": "code",
   "execution_count": 45,
   "metadata": {},
   "outputs": [],
   "source": [
    "def get_sort_key_function_best_distance(dp):\n",
    "    \n",
    "    if dp.direction == 'max':\n",
    "        return sort_key_max_distance\n",
    "    else:\n",
    "        return sort_key_min_distance"
   ]
  },
  {
   "cell_type": "code",
   "execution_count": 81,
   "metadata": {},
   "outputs": [],
   "source": [
    "dd = build_restricted_dd(dp_kp, kp_instance, 0, 0,-1, 25)"
   ]
  },
  {
   "cell_type": "code",
   "execution_count": 51,
   "metadata": {},
   "outputs": [
    {
     "data": {
      "text/plain": [
       "DP(feasible_decisions=CPUDispatcher(<function feasible_decisions_kp at 0x00000204567A2A20>), transition_function=CPUDispatcher(<function transition_function_kp at 0x000002045BE3E7A0>), cost_function=CPUDispatcher(<function cost_function_kp at 0x000002045C14DF80>), direction='max')"
      ]
     },
     "execution_count": 51,
     "metadata": {},
     "output_type": "execute_result"
    }
   ],
   "source": []
  },
  {
   "cell_type": "code",
   "execution_count": 82,
   "metadata": {},
   "outputs": [
    {
     "data": {
      "text/plain": [
       "9147"
      ]
     },
     "execution_count": 82,
     "metadata": {},
     "output_type": "execute_result"
    }
   ],
   "source": [
    "get_best_objective (dd)"
   ]
  },
  {
   "cell_type": "markdown",
   "metadata": {
    "slideshow": {
     "slide_type": "slide"
    }
   },
   "source": [
    "## Task: Other sort functions\n",
    "\n",
    "**Try out other sort functions!**\n",
    "- using min distance instead of max distance for the KP#\n",
    "- write your own function!"
   ]
  },
  {
   "cell_type": "code",
   "execution_count": null,
   "metadata": {},
   "outputs": [],
   "source": []
  },
  {
   "cell_type": "markdown",
   "metadata": {
    "slideshow": {
     "slide_type": "slide"
    }
   },
   "source": [
    "## Relaxed Decision Diagrams"
   ]
  },
  {
   "cell_type": "markdown",
   "metadata": {
    "slideshow": {
     "slide_type": "-"
    }
   },
   "source": [
    "- restricted DDs have a **limited size**, represent a **subset** of all feasible solutions of a DP, and thus give us an approximate feasible solution"
   ]
  },
  {
   "cell_type": "markdown",
   "metadata": {
    "slideshow": {
     "slide_type": "fragment"
    }
   },
   "source": [
    "- relaxed DDs have a **limited size**, represent a **superset** of all feasible solutions of a DP, and thus give us an upper (lower) bound in case of a maximization (minimization) problem\n",
    "    - how can that work?"
   ]
  },
  {
   "cell_type": "markdown",
   "metadata": {
    "slideshow": {
     "slide_type": "fragment"
    }
   },
   "source": [
    "    \n",
    "**Key idea:** By merging nodes that are not equivalent!\n",
    "- to obtain a proper relaxation (to make sure that we have a superset of all feasible solutions, we apply a so-called **merge operation** $\\oplus$ that makes sure that \n",
    "    - the solutions (paths to the terminal) starting from the merged state $s' = s_1 \\oplus s_2$  form a superset of the union of the solutions (paths to the terminal) starting from $s_1$ and $s_2$\n",
    "    - and that the best objective value starting from $s_1 \\oplus s_2$ is at least as good as the \n",
    "- in simplified terms, $\\oplus$ is chosen in a way that $s_1 \\oplus s_2$ is less restrictive that both $s_1$ and $s_2$"
   ]
  },
  {
   "cell_type": "markdown",
   "metadata": {
    "slideshow": {
     "slide_type": "slide"
    }
   },
   "source": [
    "## Top-down compilation of relaxed DDs: Python implementation"
   ]
  },
  {
   "cell_type": "code",
   "execution_count": 88,
   "metadata": {},
   "outputs": [],
   "source": [
    "def build_relaxed_dd(dp, merge_function, instance, start_layer, start_state, sink_state, max_width, sort_key_function=get_sort_key_function_best_distance):\n",
    "    \n",
    "    dd = DecisionDiagram(instance.N+1, start_layer, start_state, sink_state)\n",
    "    \n",
    "    sort_key_function = get_sort_key_function_best_distance(dp)\n",
    "    \n",
    "    state = start_state\n",
    "    total_cost = 0\n",
    "    \n",
    "    \n",
    "    for k in range(start_layer,instance.N):\n",
    "       \n",
    "        for state in dd.layers[k]:\n",
    "            decisions = dp.feasible_decisions(instance, k, state)\n",
    "            \n",
    "            for decision in decisions:\n",
    "                if k < instance.N -1:\n",
    "                    next_state = dp.transition_function(instance,k,state, decision)\n",
    "                else:\n",
    "                    next_state = -1\n",
    "                \n",
    "                add_transition_dd(dd, k, state, decision, next_state, dp.cost_function(instance, k, state, decision))\n",
    "        \n",
    "\n",
    "        merge_until_max_width(dd, merge_function, k+1, max_width, sort_key_function)\n",
    "        \n",
    "\n",
    "    return dd\n",
    "\n"
   ]
  },
  {
   "cell_type": "markdown",
   "metadata": {
    "slideshow": {
     "slide_type": "slide"
    }
   },
   "source": [
    "## Merge until the maximum is reached"
   ]
  },
  {
   "cell_type": "code",
   "execution_count": 84,
   "metadata": {},
   "outputs": [],
   "source": [
    " def merge_until_max_width(dd, merge_function, layer_index, max_width, sort_key_function):\n",
    "        \n",
    "        layer = dd.layers[layer_index]\n",
    "        prev_layer = dd.layers[layer_index-1]\n",
    "        \n",
    "        if len(layer) <= max_width:\n",
    "            if dd.last_exact_layer == layer_index -1: \n",
    "                dd.last_exact_layer = layer_index\n",
    "            return\n",
    "        \n",
    "        # 1. sort the nodes, return  a list of tuples  \n",
    "        \n",
    "        states_data = [(state, dd.g.nodes[(layer_index, state)]) for state in dd.layers[layer_index]]\n",
    "        sorted_states = sorted(states_data, key=sort_key_function)\n",
    "    \n",
    "  \n",
    "        \n",
    "        # 2. update the set\n",
    "        dd.layers[layer_index] = set(state for state, data in sorted_states[0:max_width-1])\n",
    "        \n",
    "        \n",
    "        # 3. merge the remaining states into a single (relaxed) node\n",
    "        \n",
    "        # begin with the first state\n",
    "        state, data = sorted_states[max_width-1]\n",
    "        in_edges = [e for e in dd.g.in_edges((layer_index, state), keys=True)] \n",
    "        best_dist = data[\"best_dist\"]\n",
    "        best_pred_dec = (data[\"best_in_edge\"][0], data[\"best_in_edge\"][2])\n",
    "                                     \n",
    "        \n",
    "        # 3a: compute the merged and collect in-edges\n",
    "        for state_next, data_next in sorted_states[max_width:]:    \n",
    "            \n",
    "            state = merge_function(state, state_next) # compute the merged state\n",
    "            in_edges += [e for e in dd.g.in_edges((layer_index, state_next), keys=True)]\n",
    "            \n",
    "            if better(data_next[\"best_dist\"], best_dist, dd.direction):\n",
    "                best_dist = data_next[\"best_dist\"]\n",
    "                best_pred_dec = (data_next[\"best_in_edge\"][0], data_next[\"best_in_edge\"][2])\n",
    "        \n",
    "\n",
    "        # remove the old nodes\n",
    "        for state_remove, data in sorted_states[max_width -1:]:\n",
    "            dd.g.remove_node((layer_index, state_remove))\n",
    "            \n",
    "            \n",
    "        # add the new node\n",
    "        dd.layers[layer_index].add(state)\n",
    "        best_in_edge = (best_pred_dec[0], state, best_pred_dec[1])\n",
    "        dd.g.add_node((layer_index, state), best_dist=best_dist, best_in_edge = best_in_edge)\n",
    "        \n",
    "        for u, v, decision in in_edges:\n",
    "            dd.g.add_edge(u,state, decision)\n",
    "                                     \n",
    "                                    "
   ]
  },
  {
   "cell_type": "markdown",
   "metadata": {
    "slideshow": {
     "slide_type": "slide"
    }
   },
   "source": [
    "## Trying the whole procedure"
   ]
  },
  {
   "cell_type": "code",
   "execution_count": 93,
   "metadata": {},
   "outputs": [
    {
     "name": "stdout",
     "output_type": "stream",
     "text": [
      "dist 10 nodes 9\n"
     ]
    }
   ],
   "source": [
    "dd = build_relaxed_dd(dp_kp, min, kp_instance_tiny, 0, 0, -1, 2)\n",
    "\n",
    "\n",
    "print (\"dist\", get_best_objective(dd), \"nodes\", get_number_of_nodes(dd))\n",
    "\n"
   ]
  },
  {
   "cell_type": "markdown",
   "metadata": {
    "slideshow": {
     "slide_type": "slide"
    }
   },
   "source": [
    "## Task: Other sort functions\n",
    "\n",
    "**Try out other sort functions!**\n",
    "- using min distance instead of max distance for the KP#\n",
    "- write your own function!"
   ]
  },
  {
   "cell_type": "code",
   "execution_count": null,
   "metadata": {},
   "outputs": [],
   "source": []
  },
  {
   "cell_type": "markdown",
   "metadata": {
    "slideshow": {
     "slide_type": "slide"
    }
   },
   "source": [
    "## DD-based Branch-and-Bound"
   ]
  },
  {
   "cell_type": "markdown",
   "metadata": {
    "slideshow": {
     "slide_type": "-"
    }
   },
   "source": [
    "- for many problems, building the full exact DD is not feasible within an acceptable amount of time\n",
    "- limited-size restricted and relaxed DDs (only) provide bounds\n",
    "- however, they can be used in a DD-specific branch-and-bound scheme!\n",
    "- that scheme was used to successfully solve a number of combinatorial optimization problems, in some cases achieving state-of-the-art performance\n",
    "- the scheme is highly parallelizable"
   ]
  },
  {
   "cell_type": "markdown",
   "metadata": {
    "slideshow": {
     "slide_type": "slide"
    }
   },
   "source": [
    "## DD-based Branch-and-Bound: Key ideas"
   ]
  },
  {
   "cell_type": "markdown",
   "metadata": {
    "slideshow": {
     "slide_type": "fragment"
    }
   },
   "source": [
    "**Key idea I: Branching on nodes in exact cutsets**\n",
    "\n",
    "- in every relaxed (and restricted) DD, there are some nodes that are exact\n",
    "- then, in a relaxed DD, we can identify so-called **exact cutsets:**\n",
    "  - a **cutset** is a subset of nodes such that all source-terminal paths pass through at least one node in that subset\n",
    "  - a cutset is called **exact** if all nodes represent exact states (not \"relaxed\" by the merge operation)\n",
    "  \n",
    "- now, instead of of increasing the width in layers after the exact cutset, the branch-and-bound starts building a \"new\" relaxed DD for the subproblem starting from each node in the cutset\n",
    "- the nodes from the cutset are considered as \"open nodes\" which are processed one after the other\n",
    "- when creating a \"new\" relaxed DD, we once again obtain an exact cutset that is then added to the set of open nodes\n",
    "\n",
    "..one of the simplest ways to obtain an exact cutset is to use the \"last exact layer\", that is, the last layer in which no nodes needed to be removed / merged"
   ]
  },
  {
   "cell_type": "markdown",
   "metadata": {
    "slideshow": {
     "slide_type": "fragment"
    }
   },
   "source": [
    "**Key idea II: Bounding** \n",
    "- before building the relaxed DD for the current node, we build a restricted DD for the subproblem to (hopefully) obtain a new best feasible solution\n",
    "- if the relaxed DD starting from the subproblem yields a solution that is worse than that \"primal\" solution, its exact cutset is not added to the set of open nodes"
   ]
  },
  {
   "cell_type": "markdown",
   "metadata": {
    "slideshow": {
     "slide_type": "slide"
    }
   },
   "source": [
    "## DD-based Branch-and-Bound: Algorithm"
   ]
  },
  {
   "cell_type": "code",
   "execution_count": 65,
   "metadata": {},
   "outputs": [],
   "source": [
    "from queue import PriorityQueue\n",
    "\n",
    "\n",
    "def branch_and_bound_dd(dp, merge_function, instance, start_layer, start_state, sink_state, max_width):    \n",
    "    \n",
    "    best_feasible_obj = 0    \n",
    "      \n",
    "    factor_p_queue = 1\n",
    "    if dp.direction == 'min':\n",
    "        factor_p_queue = -1\n",
    "    \n",
    "    # initialise the set of open states (we use a priority queue here)\n",
    "    # we store obj-function * factor as key for determining the priority, state and layer in the queue\n",
    "    open_states = PriorityQueue()\n",
    "    open_states.put((0, start_state, 0))\n",
    "    \n",
    "    number_of_open_states_considered = 1\n",
    "    \n",
    "    while open_states.qsize() > 0:\n",
    "        number_of_open_states_considered += 1\n",
    "        dist_to_state, state, layer = open_states.get() # get node from pqueue (and remove from queue)        \n",
    "        dist_to_state = dist_to_state * factor_p_queue # \"re-transform\" if needed\n",
    "\n",
    "        #solve restriction for the subproblem\n",
    "        dd_restricted = build_restricted_dd(dp, instance, layer, state, sink_state, max_width)        \n",
    "        restriction_obj = get_best_objective(dd_restricted)\n",
    "\n",
    "        # see if we improved the best-known feasible solution\n",
    "        if dist_to_state + restriction_obj > best_feasible_obj:            \n",
    "            best_feasible_obj = dist_to_state + restriction_obj\n",
    "           # print (\"new best incumbent\", best_feasible_obj )\n",
    "            \n",
    "        # if the subproblem is exact, no need to continue\n",
    "        if dd_restricted.last_exact_layer == instance.N:\n",
    "            continue\n",
    "        \n",
    "        #solve relaxation for the subproblem       \n",
    "        dd_relaxed = build_relaxed_dd(dp, merge_function, instance, layer, state, sink_state, max_width)        \n",
    "        relaxation_obj = get_best_objective(dd_relaxed) \n",
    "        \n",
    "        # bounding: if cannot improve the best feasible solution, continue\n",
    "        if dist_to_state + relaxation_obj <= best_feasible_obj:\n",
    "            continue\n",
    "    \n",
    "        ## get last_exact_layer cutset and add to open nodes\n",
    "        cutset = dd_relaxed.layers[dd_relaxed.last_exact_layer]    \n",
    "        for state in  cutset:\n",
    "            best_dist = dd_relaxed.g.nodes[(dd_relaxed.last_exact_layer, state)][\"best_dist\"]\n",
    "            open_states.put((factor_p_queue * (dist_to_state + best_dist), state, dd_relaxed.last_exact_layer))\n",
    "\n",
    "    print (\"open states considered\", number_of_open_states_considered)\n",
    "    return best_feasible_obj\n",
    "        \n",
    "        "
   ]
  },
  {
   "cell_type": "markdown",
   "metadata": {
    "slideshow": {
     "slide_type": "slide"
    }
   },
   "source": [
    "## Trying it out"
   ]
  },
  {
   "cell_type": "code",
   "execution_count": 66,
   "metadata": {
    "slideshow": {
     "slide_type": "-"
    }
   },
   "outputs": [],
   "source": [
    "\n",
    "\n",
    "#filename = \"./../problems/knapsack/instances/knapPI_1_100_1000_1\" # optimal value: 276457 \n",
    "#values, weights, capacity  = read_knapsack_instance(filename)\n",
    "\n",
    "kp_instance = KPInstance(values, weights,capacity,len(values))\n",
    "filename = \"./../problems/knapsack/instances/knapPI_1_100_1000_1\"\n",
    "kp_instance = read_kp_instance(filename)\n",
    "\n",
    "N = 20\n",
    "kp_instance_small = KPInstance(kp_instance.values[:N], kp_instance.weights[:N],kp_instance.capacity,  N)"
   ]
  },
  {
   "cell_type": "code",
   "execution_count": 67,
   "metadata": {},
   "outputs": [
    {
     "name": "stdout",
     "output_type": "stream",
     "text": [
      "open states considered 570\n",
      "CPU times: total: 3.36 s\n",
      "Wall time: 3.36 s\n"
     ]
    },
    {
     "data": {
      "text/plain": [
       "9147"
      ]
     },
     "execution_count": 67,
     "metadata": {},
     "output_type": "execute_result"
    }
   ],
   "source": [
    "%%time\n",
    "branch_and_bound_dd(dp_kp, min, kp_instance_small, 0, 0, -1, 100)"
   ]
  },
  {
   "cell_type": "code",
   "execution_count": 68,
   "metadata": {},
   "outputs": [
    {
     "name": "stdout",
     "output_type": "stream",
     "text": [
      "Size of exact DD: 8660\n",
      "CPU times: total: 344 ms\n",
      "Wall time: 334 ms\n"
     ]
    },
    {
     "data": {
      "text/plain": [
       "9147"
      ]
     },
     "execution_count": 68,
     "metadata": {},
     "output_type": "execute_result"
    }
   ],
   "source": [
    "%%time\n",
    "dd = build_exact_dd(dp_kp, kp_instance_small, 0, 0,-1)\n",
    "print(\"Size of exact DD:\", get_number_of_nodes(dd))\n",
    "get_best_objective(dd)"
   ]
  }
 ],
 "metadata": {
  "celltoolbar": "Slideshow",
  "kernelspec": {
   "display_name": ".venv",
   "language": "python",
   "name": "python3"
  },
  "language_info": {
   "codemirror_mode": {
    "name": "ipython",
    "version": 3
   },
   "file_extension": ".py",
   "mimetype": "text/x-python",
   "name": "python",
   "nbconvert_exporter": "python",
   "pygments_lexer": "ipython3",
   "version": "3.12.1"
  },
  "toc": {
   "base_numbering": 1,
   "nav_menu": {},
   "number_sections": false,
   "sideBar": true,
   "skip_h1_title": false,
   "title_cell": "Table of Contents",
   "title_sidebar": "Contents",
   "toc_cell": false,
   "toc_position": {},
   "toc_section_display": true,
   "toc_window_display": false
  },
  "varInspector": {
   "cols": {
    "lenName": 16,
    "lenType": 16,
    "lenVar": 40
   },
   "kernels_config": {
    "python": {
     "delete_cmd_postfix": "",
     "delete_cmd_prefix": "del ",
     "library": "var_list.py",
     "varRefreshCmd": "print(var_dic_list())"
    },
    "r": {
     "delete_cmd_postfix": ") ",
     "delete_cmd_prefix": "rm(",
     "library": "var_list.r",
     "varRefreshCmd": "cat(var_dic_list()) "
    }
   },
   "types_to_exclude": [
    "module",
    "function",
    "builtin_function_or_method",
    "instance",
    "_Feature"
   ],
   "window_display": false
  }
 },
 "nbformat": 4,
 "nbformat_minor": 4
}
