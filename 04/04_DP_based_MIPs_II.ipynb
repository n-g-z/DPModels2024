{
 "cells": [
  {
   "cell_type": "markdown",
   "metadata": {
    "slideshow": {
     "slide_type": "slide"
    }
   },
   "source": [
    "<img src=\"img/bigsem.png\" width=\"40%\" align=\"right\">\n",
    "<img src=\"img/logo_wiwi.png\" width=\"20%\" align=\"left\">\n",
    "\n",
    "\n",
    "\n",
    "\n",
    "\n",
    "<br><br><br><br>\n",
    "\n",
    "# Dynamic Programming Models in Combinatorial Optimization\n",
    "**Winter Term 2024/25**\n",
    "\n",
    "\n",
    "# 4. DP Models within MIP Formulations II: State-Expanded Networks\n",
    "<img src=\"img/decision_analytics_logo.png\" width=\"17%\" align=\"right\">\n",
    "\n",
    "\n",
    "<br>\n",
    "\n",
    "<br>\n",
    "<br>\n",
    "\n",
    "**J-Prof. Dr. Michael Römer |  Decision Analytics Group**\n",
    "                                                    \n"
   ]
  },
  {
   "cell_type": "code",
   "execution_count": 1,
   "metadata": {
    "slideshow": {
     "slide_type": "skip"
    }
   },
   "outputs": [],
   "source": [
    "import matplotlib.pyplot as plt\n",
    "import numpy as np\n",
    "import pandas as pd\n",
    "from numba import njit, typeof\n",
    "from typing import NamedTuple, Callable, Any\n",
    "from dataclasses import dataclass, field\n",
    "from numba.experimental import jitclass\n",
    "import networkx as nx\n",
    "from collections import deque\n",
    "import gurobipy as gp\n",
    "from gurobipy import GRB\n"
   ]
  },
  {
   "cell_type": "markdown",
   "metadata": {
    "slideshow": {
     "slide_type": "slide"
    }
   },
   "source": [
    "# Overview\n",
    "- DP Models / DDs as basis of flow-based MIPs\n",
    "  - example: Knapsack Problem\n",
    "- The Multiple Knapsack Problem\n",
    "  - standard MIP model\n",
    "  - as DP Model\n",
    "  - as DP model with multiple flow units\n"
   ]
  },
  {
   "cell_type": "markdown",
   "metadata": {
    "slideshow": {
     "slide_type": "slide"
    }
   },
   "source": [
    "## Example: the 0/1 knapsack problem\n",
    "\n",
    "Given \n",
    "- a knapsack with a capacity $W$ \n",
    "- and a set of items, each with a weight $w_i$ and a value $p_i$\n",
    "- determine the the subset of the items to put in the knapsack such that\n",
    "  - the total value of the items in the knapsack is maximal and\n",
    "  - the total weight of the items in the knapsack does not exceed $W$"
   ]
  },
  {
   "cell_type": "markdown",
   "metadata": {
    "slideshow": {
     "slide_type": "slide"
    }
   },
   "source": [
    "**Example:**\n",
    "\n",
    "<img src=\"./img/greedy/07.png\" width=\"20%\" align=\"right\">\n",
    "\n",
    "Assume you are a thief and you are about to steal the three items depicted below from an appartment. However, your backpack can only fit 35 lbs. Which items should you take?\n",
    "\n",
    "\n",
    "\n",
    "<img src=\"./img/greedy/08.png\" width=\"40%\" align=\"left \">"
   ]
  },
  {
   "cell_type": "code",
   "execution_count": 2,
   "metadata": {},
   "outputs": [],
   "source": [
    "class DP(NamedTuple):\n",
    "    feasible_decisions : Callable\n",
    "    transition_function : Callable\n",
    "    cost_function : Callable\n",
    "    direction : str # 'max' or 'min'"
   ]
  },
  {
   "cell_type": "markdown",
   "metadata": {
    "slideshow": {
     "slide_type": "slide"
    }
   },
   "source": [
    "## Generic helper functions to deal with maximization and minimization"
   ]
  },
  {
   "cell_type": "code",
   "execution_count": 3,
   "metadata": {
    "slideshow": {
     "slide_type": "-"
    }
   },
   "outputs": [],
   "source": [
    "@njit \n",
    "def better(value1, value2, direction):\n",
    "    if direction == \"min\":\n",
    "        return value1 < value2\n",
    "    else:\n",
    "        return value1 > value2"
   ]
  },
  {
   "cell_type": "code",
   "execution_count": 4,
   "metadata": {
    "slideshow": {
     "slide_type": "fragment"
    }
   },
   "outputs": [],
   "source": [
    "@njit\n",
    "def best_element_and_value(elements, values, direction):\n",
    "    if direction == \"min\":\n",
    "        best_index = np.argmin(values)\n",
    "    else:\n",
    "        best_index = np.argmax(values)\n",
    "    return elements[best_index], values[best_index]"
   ]
  },
  {
   "cell_type": "code",
   "execution_count": 5,
   "metadata": {
    "slideshow": {
     "slide_type": "fragment"
    }
   },
   "outputs": [],
   "source": [
    "@njit\n",
    "def get_n_best_elements_and_values(n, elements, values, direction):\n",
    "    \n",
    "    if direction == \"min\":\n",
    "        sorted_indexes = np.argsort(values)\n",
    "    else:\n",
    "        sorted_indexes = np.argsort(-values)\n",
    "    return elements[sorted_indexes[:n]], values[sorted_indexes[:n]]\n"
   ]
  },
  {
   "cell_type": "code",
   "execution_count": 6,
   "metadata": {
    "slideshow": {
     "slide_type": "fragment"
    }
   },
   "outputs": [
    {
     "data": {
      "text/plain": [
       "(array([1, 2]), array([2, 3]))"
      ]
     },
     "execution_count": 6,
     "metadata": {},
     "output_type": "execute_result"
    }
   ],
   "source": [
    "get_n_best_elements_and_values(2, np.array([1,2,3]), np.array([2,3,5]), 'min')"
   ]
  },
  {
   "cell_type": "markdown",
   "metadata": {
    "slideshow": {
     "slide_type": "slide"
    }
   },
   "source": [
    "## Example: A DP model for the Knapsack Problem\n",
    "- given a  knapsack instance with $N$ items with weights $w_k$ and profits $p_k$ (zero-indexed) and capacity $W$ \n",
    "\n",
    "- state $x_k$: accumulated weight after adding the first $k-1$ items, $x_0 = 0$\n",
    "- decision $u_k \\in \\{0, 1\\}$ (0: do not add item $k$ to the knapsack; 1: add item $k$)\n",
    "- $U_k(x_k) = \\begin{cases} \n",
    "                \\{0,1\\} \\quad \\mathrm{if} \\quad x_k + w_k \\leq W \\\\\n",
    "                \\{0 \\} \\quad \\mathrm{else}\n",
    "\\end{cases}$\n",
    "\n",
    "- $f(x_k, u_k) = x_k + w_k u_k $\n",
    "\n",
    "- $g(x_k, u_k) = p_k u_k$\n",
    "\n",
    "We have a maximization-objective:\n",
    "\n",
    "$$\\max_{u_0,..,u_k,..u_{N-1}} \\sum_{k=0}^{N-1} g_k(x_k,u_k)$$"
   ]
  },
  {
   "cell_type": "markdown",
   "metadata": {
    "slideshow": {
     "slide_type": "slide"
    }
   },
   "source": [
    "## The Knapsack DP Model in Python"
   ]
  },
  {
   "cell_type": "code",
   "execution_count": 7,
   "metadata": {
    "slideshow": {
     "slide_type": "fragment"
    }
   },
   "outputs": [],
   "source": [
    "class  KPInstance(NamedTuple):\n",
    "    values:np.array\n",
    "    weights:np.array\n",
    "    capacity:int\n",
    "    N:int   \n",
    "\n",
    "@njit\n",
    "def feasible_decisions_kp(instance, k, acc_weight):    \n",
    "    if acc_weight + instance.weights[k] <= instance.capacity: return np.array([0,1])\n",
    "    else: return np.array([0])\n",
    "\n",
    "@njit\n",
    "def transition_function_kp(instance, k, acc_weight, put):\n",
    "    return acc_weight + put*instance.weights[k]\n",
    "\n",
    "@njit\n",
    "def cost_function_kp(instance, k, acc_weight, put):\n",
    "      return put*instance.values[k]"
   ]
  },
  {
   "cell_type": "markdown",
   "metadata": {
    "slideshow": {
     "slide_type": "fragment"
    }
   },
   "source": [
    "Putting all together, and stating that we have a maximization objective"
   ]
  },
  {
   "cell_type": "code",
   "execution_count": 8,
   "metadata": {
    "slideshow": {
     "slide_type": "-"
    }
   },
   "outputs": [],
   "source": [
    "dp_kp = DP(feasible_decisions_kp, transition_function_kp,  cost_function_kp, \"max\")"
   ]
  },
  {
   "cell_type": "markdown",
   "metadata": {
    "slideshow": {
     "slide_type": "slide"
    }
   },
   "source": [
    "## An instance reader function for the Knapsack Problem"
   ]
  },
  {
   "cell_type": "code",
   "execution_count": 9,
   "metadata": {},
   "outputs": [],
   "source": [
    "\n",
    "def read_kp_instance(filename, sorted=True):\n",
    "    weights=[]\n",
    "    values=[]\n",
    "    with open(filename) as f: # open the file\n",
    "        line = f.readline().split()  # split first row\n",
    "        number_of_items = int(line[0]) # read number of items\n",
    "        capacity = int(line[1]) # read capacity\n",
    "        for i in range(number_of_items): # read rows for the items\n",
    "            line = f.readline().split() # split row\n",
    "            values.append(int(line[0])) # read value\n",
    "            weights.append(int(line[1])) # read weight\n",
    "            \n",
    "    values = np.array(values)\n",
    "    weights = np.array(weights)    \n",
    "    \n",
    "    \n",
    "    if sorted:\n",
    "        sorted_indexes = np.argsort(-1* values/weights)\n",
    "    values = values[sorted_indexes]\n",
    "    weights = weights[sorted_indexes]\n",
    "     \n",
    "        \n",
    "    return KPInstance(values, weights, capacity, number_of_items)\n",
    "\n"
   ]
  },
  {
   "cell_type": "code",
   "execution_count": 10,
   "metadata": {},
   "outputs": [],
   "source": [
    "#filename = \"./../problems/knapsack/instances/knapPI_1_5000_1000_1\"\n",
    "filename = \"./../problems/knapsack/instances/knapPI_1_100_1000_1\"\n",
    "kp_instance = read_kp_instance(filename)"
   ]
  },
  {
   "cell_type": "markdown",
   "metadata": {
    "slideshow": {
     "slide_type": "slide"
    }
   },
   "source": [
    "## Exact Decision Diagrams"
   ]
  },
  {
   "cell_type": "markdown",
   "metadata": {
    "slideshow": {
     "slide_type": "-"
    }
   },
   "source": [
    "- given a DP model, we can view an exact DD as a state-transition-graph, with one exception:\n",
    "  - we introduce a terminal node that forms the target of all arcs emanating from layer $N-1$\n",
    "- just as in the DP by reaching algorithm, we can construct the exact DD by \n"
   ]
  },
  {
   "cell_type": "markdown",
   "metadata": {
    "slideshow": {
     "slide_type": "slide"
    }
   },
   "source": [
    "## A Decision Diagram data structure\n",
    "\n",
    "We will introduce a class `DecisionDiagram` that represents a DD\n",
    "- consisting of $N$ + 1 layers indexed from 0 to $N$\n",
    "    - each layer is a dictionary where the key is a state and the value is a `NodeInfo` object\n",
    "  - (problem-specific) state values representing the start (source) state and the sink state\n",
    "  "
   ]
  },
  {
   "cell_type": "code",
   "execution_count": 11,
   "metadata": {
    "slideshow": {
     "slide_type": "-"
    }
   },
   "outputs": [],
   "source": [
    "\n",
    "\n",
    "class DecisionDiagram:        \n",
    "    def __init__(self, number_of_layers, source_layer, source_state, sink_state, direction = 'max'):\n",
    "        self.g = nx.MultiDiGraph()\n",
    "        self.number_of_layers = number_of_layers\n",
    "        self.layers = [set() for l in range(0, number_of_layers)]\n",
    "        self.source_state = source_state\n",
    "        self.sink_state = sink_state\n",
    "        self.layers[source_layer].add(source_state)\n",
    "        self.g.add_node((source_layer, source_state), best_dist = 0, best_in_edge = None)\n",
    "        self.direction = direction\n",
    "        self.last_exact_layer = source_layer"
   ]
  },
  {
   "cell_type": "markdown",
   "metadata": {
    "slideshow": {
     "slide_type": "slide"
    }
   },
   "source": [
    "## Building an exact DD by top-down-compilation\n",
    "- building an exact DD is basically the same as building the DP by reaching: states are \"discovered\" layer per layer\n",
    "- by applying the transition function to each feasible decision in each state in the layer under consideration\n",
    "- in the following algorithm, we store the best distance from the source / root node as well as the preceding node in each node\n",
    "- this means that the best path in the DD is computed \"in passing\""
   ]
  },
  {
   "cell_type": "markdown",
   "metadata": {
    "slideshow": {
     "slide_type": "slide"
    }
   },
   "source": [
    "## Building an exact DD by top-down-compilation in Python\n",
    "- observe: here, we introduce a sink state as a \"dummy\" state (that is otherwise not reachable)"
   ]
  },
  {
   "cell_type": "code",
   "execution_count": 12,
   "metadata": {},
   "outputs": [],
   "source": [
    "def build_exact_dd(dp, instance, start_layer, start_state, sink_state):\n",
    "    \n",
    "    dd = DecisionDiagram(instance.N+1, start_layer, start_state, sink_state, dp.direction)\n",
    "    \n",
    "    state = start_state\n",
    "    total_cost = 0\n",
    "    \n",
    "    for k in range(0,instance.N):\n",
    "        \n",
    "        for state in dd.layers[k]:\n",
    "            decisions = dp.feasible_decisions(instance, k, state)\n",
    "            \n",
    "            for decision in decisions:\n",
    "                if k < instance.N -1: # if we are the final layer, point to the \"sink state\"\n",
    "                    next_state = dp.transition_function(instance,k,state, decision)\n",
    "                else:\n",
    "                    next_state = sink_state\n",
    "                \n",
    "                add_transition_dd(dd, k, state, decision, next_state, dp.cost_function(instance, k, state, decision))\n",
    "   \n",
    "    k = instance.N-1\n",
    "    \n",
    "    return dd"
   ]
  },
  {
   "cell_type": "markdown",
   "metadata": {
    "slideshow": {
     "slide_type": "slide"
    }
   },
   "source": [
    "## Creating new nodes: adding the result of a transition"
   ]
  },
  {
   "cell_type": "code",
   "execution_count": 13,
   "metadata": {},
   "outputs": [],
   "source": [
    "def add_transition_dd(dd, layer_index, state, decision, result_state, cost):\n",
    "    \n",
    "    layer = dd.layers[layer_index]\n",
    "    result_layer = dd.layers[layer_index+1] \n",
    "    \n",
    "    node = (layer_index, state)\n",
    "    \n",
    "    result_node = (layer_index+1, result_state)\n",
    " \n",
    "    result_dist = dd.g.nodes[node][\"best_dist\"] + cost  \n",
    "\n",
    "    if result_state not in result_layer:\n",
    "        result_layer.add(result_state)\n",
    "        dd.g.add_node(result_node, best_dist=result_dist, best_in_edge=(node,result_node,decision))\n",
    "        \n",
    "    elif better(result_dist, dd.g.nodes[result_node][\"best_dist\"], dd.direction): \n",
    "        dd.g.nodes[result_node][\"best_dist\"] = result_dist\n",
    "        dd.g.nodes[result_node][\"best_in_edge\"]=(node,result_node,decision)\n",
    "    \n",
    "    dd.g.add_edge(node, result_node, decision, cost=cost)\n"
   ]
  },
  {
   "cell_type": "markdown",
   "metadata": {
    "slideshow": {
     "slide_type": "slide"
    }
   },
   "source": [
    "## Trying it out, and some utility functions:"
   ]
  },
  {
   "cell_type": "code",
   "execution_count": 14,
   "metadata": {
    "slideshow": {
     "slide_type": "-"
    }
   },
   "outputs": [],
   "source": [
    "dd = build_exact_dd(dp_kp, kp_instance, 0, 0,-1)\n"
   ]
  },
  {
   "cell_type": "markdown",
   "metadata": {
    "slideshow": {
     "slide_type": "fragment"
    }
   },
   "source": [
    "..getting the best objective"
   ]
  },
  {
   "cell_type": "code",
   "execution_count": 15,
   "metadata": {
    "slideshow": {
     "slide_type": "-"
    }
   },
   "outputs": [],
   "source": [
    "def get_best_objective (dd):\n",
    "    return dd.g.nodes[(dd.number_of_layers-1,dd.sink_state)][\"best_dist\"]"
   ]
  },
  {
   "cell_type": "code",
   "execution_count": 16,
   "metadata": {
    "slideshow": {
     "slide_type": "-"
    }
   },
   "outputs": [
    {
     "data": {
      "text/plain": [
       "9147"
      ]
     },
     "execution_count": 16,
     "metadata": {},
     "output_type": "execute_result"
    }
   ],
   "source": [
    "get_best_objective (dd)"
   ]
  },
  {
   "cell_type": "markdown",
   "metadata": {
    "slideshow": {
     "slide_type": "-"
    }
   },
   "source": [
    "..getting the best path"
   ]
  },
  {
   "cell_type": "code",
   "execution_count": 17,
   "metadata": {
    "slideshow": {
     "slide_type": "-"
    }
   },
   "outputs": [],
   "source": [
    "\n",
    "def get_best_path(dd):\n",
    "    \n",
    "    decisions = []\n",
    "    \n",
    "    state =  dd.sink_state\n",
    "    k = dd.number_of_layers - 1\n",
    "        \n",
    "    while k > 0:\n",
    "       # print(k)\n",
    "        node,  next_node, decision = dd.g.nodes[(k,state)][\"best_in_edge\"]\n",
    "        #print (dd.layers[k+1])\n",
    "        decisions.append(decision)\n",
    "        k, state = node\n",
    "        \n",
    "        \n",
    "\n",
    "    return  dd.g.nodes[(dd.number_of_layers-1,dd.sink_state)][\"best_dist\"], list(reversed(decisions))\n"
   ]
  },
  {
   "cell_type": "code",
   "execution_count": 18,
   "metadata": {
    "scrolled": true,
    "slideshow": {
     "slide_type": "-"
    }
   },
   "outputs": [
    {
     "data": {
      "text/plain": [
       "[np.int64(1),\n",
       " np.int64(1),\n",
       " np.int64(1),\n",
       " np.int64(1),\n",
       " np.int64(1),\n",
       " np.int64(1),\n",
       " np.int64(1),\n",
       " np.int64(1),\n",
       " np.int64(1),\n",
       " np.int64(1)]"
      ]
     },
     "execution_count": 18,
     "metadata": {},
     "output_type": "execute_result"
    }
   ],
   "source": [
    "get_best_path(dd)[1][:10] ## first 10 nodes"
   ]
  },
  {
   "cell_type": "markdown",
   "metadata": {
    "slideshow": {
     "slide_type": "fragment"
    }
   },
   "source": [
    "..getting the number of nodes"
   ]
  },
  {
   "cell_type": "code",
   "execution_count": 19,
   "metadata": {
    "slideshow": {
     "slide_type": "-"
    }
   },
   "outputs": [],
   "source": [
    "def get_number_of_nodes(dd):\n",
    "    return dd.g.number_of_nodes()\n"
   ]
  },
  {
   "cell_type": "code",
   "execution_count": 20,
   "metadata": {},
   "outputs": [
    {
     "data": {
      "text/plain": [
       "80725"
      ]
     },
     "execution_count": 20,
     "metadata": {},
     "output_type": "execute_result"
    }
   ],
   "source": [
    "get_number_of_nodes(dd)"
   ]
  },
  {
   "cell_type": "markdown",
   "metadata": {
    "slideshow": {
     "slide_type": "slide"
    }
   },
   "source": [
    "## Reducing an exact DD\n",
    "\n",
    "One of the key ideas from DDs is that very often, a DD can be compressed / reduced by merging nodes \n",
    "that \n",
    "- do not have identical (top-down) states\n",
    "- but are nonetheless **equivalent** in the sense that they have the same *completions*, that is, the same set of partial solutions until the end (the solution sets of their tail subproblems are identical)"
   ]
  },
  {
   "cell_type": "markdown",
   "metadata": {
    "slideshow": {
     "slide_type": "slide"
    }
   },
   "source": [
    "This type of equivalence can be identified by an upward-pass starting from the bottom layer $N$ to layer $0$\n",
    "\n",
    "- in each layer $k$, two nodes are equivalent (are in the same equivalence class) if \n",
    "  - they have the same set of feasible decisions \n",
    "  - these decisions have the same costs\n",
    "  - the corresponding arcs point to the same set of nodes in the subsequent layer $k+1$\n",
    "- for each equivalence class, merge all nodes in that class into a single node\n",
    "\n",
    "**Attention:** The following implementation assumes that the decision costs are state-independent. If the decision costs (the arc costs) are state-dependent, then we need to add a check for identical costs, too"
   ]
  },
  {
   "cell_type": "markdown",
   "metadata": {
    "slideshow": {
     "slide_type": "slide"
    }
   },
   "source": [
    "## Implementing the DD reduction"
   ]
  },
  {
   "cell_type": "code",
   "execution_count": 21,
   "metadata": {},
   "outputs": [],
   "source": [
    "def reduce_exact_dd(dd):\n",
    "    \n",
    "    #proceed from the bottom (last layer) to the top\n",
    "    k = len(dd.layers)-1\n",
    "    while k > 0:\n",
    "        \n",
    "        # a dict with key: decisions and resulting nodes (forming an equivalence class)\n",
    "        #       and value: list of states falling into that class\n",
    "        eq_classes = {}\n",
    "    \n",
    "        #1. collect equivalence classes and states/nodes in each class\n",
    "        for state in dd.layers[k]:\n",
    "            \n",
    "            out_arc_info = []\n",
    "            \n",
    "            for u,v,decision,data in dd.g.out_edges((k,state),keys=True, data=True):\n",
    "                out_arc_info.append((decision,v,data[\"cost\"]))\n",
    "                \n",
    "            eq_class = tuple(sorted(out_arc_info))\n",
    "            \n",
    "            if eq_class not in eq_classes:\n",
    "                eq_classes[eq_class] = [state]                \n",
    "            else:\n",
    "                eq_classes[eq_class].append(state)\n",
    "        \n",
    "        # 2. merge all states in each class into a single node\n",
    "        for eq_class, states in eq_classes.items():            \n",
    "            while len(states) > 1:\n",
    "                state_remove = states.pop()\n",
    "                merge_nodes(dd, k, states[0], state_remove)\n",
    "                \n",
    "        k=k-1"
   ]
  },
  {
   "cell_type": "markdown",
   "metadata": {
    "slideshow": {
     "slide_type": "slide"
    }
   },
   "source": [
    "## Merging two nodes"
   ]
  },
  {
   "cell_type": "code",
   "execution_count": 22,
   "metadata": {
    "slideshow": {
     "slide_type": "-"
    }
   },
   "outputs": [],
   "source": [
    "def merge_nodes(dd, layer_index, state_orig, state_remove):\n",
    "    \n",
    "    node_orig = (layer_index, state_orig)\n",
    "    node_remove = (layer_index, state_remove)\n",
    "    \n",
    "    layer = dd.layers[layer_index]\n",
    "\n",
    "    \n",
    "\n",
    "    # 1. Keep the best distance to from the source\n",
    "    if better(dd.g.nodes[node_remove][\"best_dist\"], dd.g.nodes[node_orig][\"best_dist\"], dd.direction):        \n",
    "        (u,v,d) = dd.g.nodes[node_remove][\"best_in_edge\"]\n",
    "        dd.g.nodes[node_orig][\"best_in_edge\"] = (u,node_orig,d)\n",
    "        dd.g.nodes[node_orig][\"best_dist\"] = dd.g.nodes[node_remove][\"best_dist\"]\n",
    "\n",
    "    \n",
    "    # update best stuff\n",
    "    \n",
    "    for u, v, decision,data in dd.g.out_edges(node_remove, keys=True, data=True):\n",
    "        if dd.g.nodes[v][\"best_in_edge\"] == (u,v,decision):\n",
    "            dd.g.nodes[v][\"best_in_edge\"] = (node_orig, decision, v)\n",
    "            \n",
    "\n",
    "    # 3. redirect the in-arcs from the removed node to the node to be kept\n",
    "    \n",
    "    arcs_to_add = []\n",
    "    for u,v,decision,data in dd.g.in_edges(node_remove, keys = True, data=True):\n",
    "        arcs_to_add.append((u,node_orig, decision, data))\n",
    "                           \n",
    "    dd.g.remove_node(node_remove)\n",
    "    layer.remove(state_remove)\n",
    "    \n",
    "    dd.g.add_edges_from(arcs_to_add)\n"
   ]
  },
  {
   "cell_type": "markdown",
   "metadata": {
    "slideshow": {
     "slide_type": "slide"
    }
   },
   "source": [
    "## Trying it  out"
   ]
  },
  {
   "cell_type": "code",
   "execution_count": 23,
   "metadata": {
    "slideshow": {
     "slide_type": "-"
    }
   },
   "outputs": [
    {
     "name": "stdout",
     "output_type": "stream",
     "text": [
      "reduced nodes 19957\n"
     ]
    }
   ],
   "source": [
    "reduce_exact_dd(dd)\n",
    "\n",
    "print (\"reduced nodes\", get_number_of_nodes(dd))"
   ]
  },
  {
   "cell_type": "markdown",
   "metadata": {
    "slideshow": {
     "slide_type": "slide"
    }
   },
   "source": [
    "# DP Models within MIPs\n",
    "\n",
    "\n"
   ]
  },
  {
   "cell_type": "markdown",
   "metadata": {
    "slideshow": {
     "slide_type": "slide"
    }
   },
   "source": [
    "## Observation:  DDs and optimal paths\n",
    "\n",
    "- instead of computing the optimal path \"on the fly\", we could simply compute the longest path in the DD from the source to the sink (terminal node)\n",
    "- since we have a directed acyclic graph, this can even be done in linear time\n",
    "- we can simply use the function `dag_longest_path_length` from NetworkX\n"
   ]
  },
  {
   "cell_type": "code",
   "execution_count": 24,
   "metadata": {
    "slideshow": {
     "slide_type": "-"
    }
   },
   "outputs": [
    {
     "name": "stdout",
     "output_type": "stream",
     "text": [
      "CPU times: user 1.29 s, sys: 19.7 ms, total: 1.31 s\n",
      "Wall time: 1.35 s\n"
     ]
    }
   ],
   "source": [
    "%%time\n",
    "dd = build_exact_dd(dp_kp, kp_instance, 0, 0,-1)"
   ]
  },
  {
   "cell_type": "code",
   "execution_count": 25,
   "metadata": {
    "slideshow": {
     "slide_type": "-"
    }
   },
   "outputs": [
    {
     "name": "stdout",
     "output_type": "stream",
     "text": [
      "CPU times: user 3 μs, sys: 0 ns, total: 3 μs\n",
      "Wall time: 5.01 μs\n"
     ]
    },
    {
     "data": {
      "text/plain": [
       "100"
      ]
     },
     "execution_count": 25,
     "metadata": {},
     "output_type": "execute_result"
    }
   ],
   "source": [
    "%time\n",
    "nx.dag_longest_path_length(dd.g, weight=\"cost\")\n",
    "\n",
    "#reduce_exact_dd(dd)"
   ]
  },
  {
   "cell_type": "markdown",
   "metadata": {
    "slideshow": {
     "slide_type": "slide"
    }
   },
   "source": [
    "### Optimal Paths using a MIP solver\n",
    "\n",
    "- as you may know, instead of calling a shortest path algorithm we may just formulate the shortest path problem as a **min-cost-flow problem** that can can, in turn, be solved by a MIP\n",
    "\n",
    "The mathematical model would look as follows (assuming that we have a circulation arc $e^\\mathrm{circ}$ from source to sink node):\n",
    "\n",
    "- let the graph be defined as $G(N,E)$\n",
    "- let us denote the flow variables with $x$ (we're back in the MIP world ;-))\n",
    "\n",
    "\n",
    "$$\\min \\sum_{e \\in E}c_e x_e$$\n",
    "\n",
    "s.t.\n",
    "$$\n",
    " \\sum_{e \\in v^-} x_e = \\sum_{e \\in v^+} x_e \\quad \\forall v \\in N \\\\\n",
    " x_e^\\mathrm{circ} = 1 \\\\\n",
    " x_e \\in \\{0, 1\\} \\quad \\forall e \\in E $$"
   ]
  },
  {
   "cell_type": "code",
   "execution_count": 26,
   "metadata": {
    "slideshow": {
     "slide_type": "slide"
    }
   },
   "outputs": [],
   "source": [
    "def build_network_flow_component(m, dd, flow_size = 1):    \n",
    "    \n",
    "    ## add flow vars    \n",
    "    edge_to_flow_var = {}  \n",
    "\n",
    "    for e, data in dd.g.edges.items():\n",
    "            edge_to_flow_var[e] = m.addVar(vtype=GRB.INTEGER, obj = data[\"cost\"] )\n",
    "    \n",
    "    ## if not existing yet, add circulation arc\n",
    "    if dd.g.out_degree ( (dd.number_of_layers-1, dd.sink_state) ) == 0:  \n",
    "        dd.g.add_edge( (dd.number_of_layers-1, dd.sink_state),  (0, dd.source_state), key=-1, cost=0)      \n",
    "\n",
    "    ## add flow var for circulation arc and fix flow\n",
    "    edge_to_flow_var[((dd.number_of_layers-1, dd.sink_state),  (0, dd.source_state), -1)] = m.addVar(vtype=GRB.INTEGER, lb=flow_size, ub=flow_size)\n",
    "    \n",
    "    ## add flow balance constraints\n",
    "            \n",
    "    for v in dd.g.nodes():\n",
    "        m.addConstr(gp.quicksum(edge_to_flow_var[e] for e in dd.g.in_edges(v,keys=True)) == gp.quicksum(edge_to_flow_var[e] for e in dd.g.out_edges(v, keys=True) ))\n",
    "\n",
    "    return edge_to_flow_var\n",
    "            \n",
    "        \n",
    "    \n",
    "    "
   ]
  },
  {
   "cell_type": "markdown",
   "metadata": {
    "slideshow": {
     "slide_type": "slide"
    }
   },
   "source": [
    "## Optimal Paths using a MIP solver: Trying it Out\n",
    "\n",
    "Read instance\n"
   ]
  },
  {
   "cell_type": "code",
   "execution_count": 27,
   "metadata": {
    "slideshow": {
     "slide_type": "-"
    }
   },
   "outputs": [],
   "source": [
    "\n",
    "filename = \"./../problems/knapsack/instances/knapPI_1_100_1000_1\"\n",
    "kp_instance = read_kp_instance(filename)"
   ]
  },
  {
   "cell_type": "markdown",
   "metadata": {
    "slideshow": {
     "slide_type": "fragment"
    }
   },
   "source": [
    "Build DD"
   ]
  },
  {
   "cell_type": "code",
   "execution_count": 28,
   "metadata": {
    "scrolled": true,
    "slideshow": {
     "slide_type": "-"
    }
   },
   "outputs": [
    {
     "data": {
      "text/plain": [
       "80725"
      ]
     },
     "execution_count": 28,
     "metadata": {},
     "output_type": "execute_result"
    }
   ],
   "source": [
    "dd = build_exact_dd(dp_kp, kp_instance, 0, 0,-1)\n",
    "get_number_of_nodes(dd)"
   ]
  },
  {
   "cell_type": "markdown",
   "metadata": {
    "slideshow": {
     "slide_type": "fragment"
    }
   },
   "source": [
    "Build MIP model"
   ]
  },
  {
   "cell_type": "code",
   "execution_count": 30,
   "metadata": {
    "slideshow": {
     "slide_type": "-"
    }
   },
   "outputs": [
    {
     "name": "stdout",
     "output_type": "stream",
     "text": [
      "Set parameter Username\n",
      "Set parameter LicenseID to value 2618071\n",
      "Academic license - for non-commercial use only - expires 2026-02-04\n"
     ]
    }
   ],
   "source": [
    "m = gp.Model(\"knapsack_dd\")\n",
    "m.ModelSense = GRB.MAXIMIZE\n",
    "edge_to_flow_var = build_network_flow_component(m, dd)"
   ]
  },
  {
   "cell_type": "markdown",
   "metadata": {
    "slideshow": {
     "slide_type": "fragment"
    }
   },
   "source": [
    "Solve it"
   ]
  },
  {
   "cell_type": "code",
   "execution_count": 32,
   "metadata": {
    "slideshow": {
     "slide_type": "-"
    }
   },
   "outputs": [
    {
     "name": "stdout",
     "output_type": "stream",
     "text": [
      "Gurobi Optimizer version 12.0.1 build v12.0.1rc0 (mac64[arm] - Darwin 24.1.0 24B91)\n",
      "\n",
      "CPU model: Apple M2\n",
      "Thread count: 8 physical cores, 8 logical processors, using up to 8 threads\n",
      "\n",
      "Optimize a model with 80725 rows, 112812 columns and 225624 nonzeros\n",
      "Model fingerprint: 0x1b40e880\n",
      "Variable types: 0 continuous, 112812 integer (0 binary)\n",
      "Coefficient statistics:\n",
      "  Matrix range     [1e+00, 1e+00]\n",
      "  Objective range  [7e+00, 1e+03]\n",
      "  Bounds range     [1e+00, 1e+00]\n",
      "  RHS range        [0e+00, 0e+00]\n",
      "Presolved: 5872 rows, 17907 columns, 35814 nonzeros\n",
      "\n",
      "Continuing optimization...\n",
      "\n",
      "\n",
      "Explored 1 nodes (0 simplex iterations) in 0.04 seconds (0.03 work units)\n",
      "Thread count was 8 (of 8 available processors)\n",
      "\n",
      "Solution count 3: 9147 3367 2869 \n",
      "\n",
      "Optimal solution found (tolerance 1.00e-04)\n",
      "Best objective 9.147000000000e+03, best bound 9.147000000000e+03, gap 0.0000%\n",
      "CPU times: user 33 ms, sys: 7.35 ms, total: 40.3 ms\n",
      "Wall time: 42.3 ms\n"
     ]
    }
   ],
   "source": [
    "%%time\n",
    "m.optimize()"
   ]
  },
  {
   "cell_type": "code",
   "execution_count": 33,
   "metadata": {},
   "outputs": [
    {
     "name": "stdout",
     "output_type": "stream",
     "text": [
      "9147.0\n"
     ]
    }
   ],
   "source": [
    "print(m.ObjVal)"
   ]
  },
  {
   "cell_type": "markdown",
   "metadata": {
    "slideshow": {
     "slide_type": "slide"
    }
   },
   "source": [
    "## Extracting the solution\n",
    "\n",
    "- to get the solution path, we can just \"follow\" the flow variables with value 1:"
   ]
  },
  {
   "cell_type": "code",
   "execution_count": 34,
   "metadata": {
    "slideshow": {
     "slide_type": "-"
    }
   },
   "outputs": [
    {
     "data": {
      "text/plain": [
       "[np.int64(1),\n",
       " np.int64(1),\n",
       " np.int64(1),\n",
       " np.int64(1),\n",
       " np.int64(1),\n",
       " np.int64(1),\n",
       " np.int64(1),\n",
       " np.int64(1),\n",
       " np.int64(1),\n",
       " np.int64(1)]"
      ]
     },
     "execution_count": 34,
     "metadata": {},
     "output_type": "execute_result"
    }
   ],
   "source": [
    "def get_solution_path(edge_to_flow_var, dd):\n",
    "    \n",
    "    decisions = []\n",
    "    \n",
    "    \n",
    "    node = (0, dd.source_state)    \n",
    "    while node[1] != dd.sink_state:\n",
    "        for node, target_node, decision in dd.g.out_edges(node, keys=True):\n",
    "            if edge_to_flow_var[node, target_node, decision].x > 0.1:\n",
    "                decisions.append(decision)                \n",
    "                node = target_node\n",
    "                break\n",
    "                \n",
    "    return decisions     \n",
    " \n",
    "decisions = get_solution_path(edge_to_flow_var, dd)\n",
    "decisions[:10]"
   ]
  },
  {
   "cell_type": "markdown",
   "metadata": {
    "slideshow": {
     "slide_type": "fragment"
    }
   },
   "source": [
    "- we can then turn this into a \"readable solution\""
   ]
  },
  {
   "cell_type": "code",
   "execution_count": 35,
   "metadata": {
    "slideshow": {
     "slide_type": "-"
    }
   },
   "outputs": [],
   "source": [
    "def get_items_from_path(decisions):\n",
    "    solution_items =  []\n",
    "    for i, dec in enumerate(decisions):\n",
    "        if dec == 1:\n",
    "            solution_items.append(i)\n",
    "            \n",
    "    return solution_items"
   ]
  },
  {
   "cell_type": "code",
   "execution_count": 36,
   "metadata": {
    "slideshow": {
     "slide_type": "-"
    }
   },
   "outputs": [
    {
     "data": {
      "text/plain": [
       "[0, 1, 2, 3, 4, 5, 6, 7, 8, 9, 10, 13]"
      ]
     },
     "execution_count": 36,
     "metadata": {},
     "output_type": "execute_result"
    }
   ],
   "source": [
    "get_items_from_path(decisions)"
   ]
  },
  {
   "cell_type": "markdown",
   "metadata": {
    "slideshow": {
     "slide_type": "slide"
    }
   },
   "source": [
    "## Of course, we can benefit from the DD reduction!"
   ]
  },
  {
   "cell_type": "code",
   "execution_count": 37,
   "metadata": {},
   "outputs": [],
   "source": [
    "reduce_exact_dd(dd)"
   ]
  },
  {
   "cell_type": "code",
   "execution_count": 38,
   "metadata": {},
   "outputs": [
    {
     "data": {
      "text/plain": [
       "19957"
      ]
     },
     "execution_count": 38,
     "metadata": {},
     "output_type": "execute_result"
    }
   ],
   "source": [
    "get_number_of_nodes(dd)"
   ]
  },
  {
   "cell_type": "markdown",
   "metadata": {
    "slideshow": {
     "slide_type": "fragment"
    }
   },
   "source": [
    "..once again, building and solving the model:"
   ]
  },
  {
   "cell_type": "code",
   "execution_count": 39,
   "metadata": {},
   "outputs": [],
   "source": [
    "\n",
    "m = gp.Model(\"knapsack_dd\")\n",
    "m.ModelSense = GRB.MAXIMIZE\n",
    "\n",
    "edge_to_flow_var = build_network_flow_component(m, dd)"
   ]
  },
  {
   "cell_type": "code",
   "execution_count": 40,
   "metadata": {},
   "outputs": [
    {
     "name": "stdout",
     "output_type": "stream",
     "text": [
      "Gurobi Optimizer version 12.0.1 build v12.0.1rc0 (mac64[arm] - Darwin 24.1.0 24B91)\n",
      "\n",
      "CPU model: Apple M2\n",
      "Thread count: 8 physical cores, 8 logical processors, using up to 8 threads\n",
      "\n",
      "Optimize a model with 19957 rows, 36235 columns and 72468 nonzeros\n",
      "Model fingerprint: 0x1dc41a19\n",
      "Variable types: 0 continuous, 36235 integer (0 binary)\n",
      "Coefficient statistics:\n",
      "  Matrix range     [1e+00, 1e+00]\n",
      "  Objective range  [7e+00, 1e+03]\n",
      "  Bounds range     [1e+00, 1e+00]\n",
      "  RHS range        [0e+00, 0e+00]\n",
      "Presolve removed 19957 rows and 36235 columns\n",
      "Presolve time: 0.23s\n",
      "Presolve: All rows and columns removed\n",
      "\n",
      "Explored 0 nodes (0 simplex iterations) in 0.25 seconds (0.27 work units)\n",
      "Thread count was 1 (of 8 available processors)\n",
      "\n",
      "Solution count 1: 9147 \n",
      "\n",
      "Optimal solution found (tolerance 1.00e-04)\n",
      "Best objective 9.147000000000e+03, best bound 9.147000000000e+03, gap 0.0000%\n",
      "CPU times: user 252 ms, sys: 17.2 ms, total: 269 ms\n",
      "Wall time: 303 ms\n"
     ]
    }
   ],
   "source": [
    "%%time\n",
    "m.optimize()\n",
    "\n"
   ]
  },
  {
   "cell_type": "markdown",
   "metadata": {
    "slideshow": {
     "slide_type": "slide"
    }
   },
   "source": [
    "## An Observation for the 0/1 KP Model\n",
    "\n",
    "- let us re-examine the size of the DD before and after the reduction"
   ]
  },
  {
   "cell_type": "code",
   "execution_count": 41,
   "metadata": {},
   "outputs": [
    {
     "name": "stdout",
     "output_type": "stream",
     "text": [
      "nodes before reduction 80725\n",
      "nodes after reduction 19957\n"
     ]
    }
   ],
   "source": [
    "\n",
    "filename = \"./../problems/knapsack/instances/knapPI_1_100_1000_1\"\n",
    "kp_instance = read_kp_instance(filename)\n",
    "dd = build_exact_dd(dp_kp, kp_instance, 0, 0,-1)\n",
    "print(\"nodes before reduction\", get_number_of_nodes(dd))\n",
    "reduce_exact_dd(dd)\n",
    "print(\"nodes after reduction\", get_number_of_nodes(dd))"
   ]
  },
  {
   "cell_type": "markdown",
   "metadata": {
    "slideshow": {
     "slide_type": "-"
    }
   },
   "source": [
    "**Remember:** when reading the instance, we sorted the items according to value/weight, because this yielded the best result for the greedy heuristic\n",
    "\n",
    "- when creating an exact DD, is this still the best sorting / variable ordering?"
   ]
  },
  {
   "cell_type": "markdown",
   "metadata": {
    "slideshow": {
     "slide_type": "fragment"
    }
   },
   "source": [
    "- turns out not: it is much better to sort according to weight in descending order since this leads to a **smaller** network!"
   ]
  },
  {
   "cell_type": "code",
   "execution_count": 42,
   "metadata": {},
   "outputs": [
    {
     "name": "stdout",
     "output_type": "stream",
     "text": [
      "100\n"
     ]
    }
   ],
   "source": [
    "sorted_indexes = np.argsort(-1* kp_instance.weights)\n",
    "kp_instance = KPInstance(kp_instance.values[sorted_indexes], kp_instance.weights[sorted_indexes], kp_instance.capacity, kp_instance.N)\n",
    "\n",
    "print (kp_instance.N)"
   ]
  },
  {
   "cell_type": "code",
   "execution_count": 43,
   "metadata": {},
   "outputs": [
    {
     "name": "stdout",
     "output_type": "stream",
     "text": [
      "nodes before reduction 21618\n",
      "nodes after reduction 12218\n"
     ]
    }
   ],
   "source": [
    "dd = build_exact_dd(dp_kp, kp_instance, 0, 0,-1)\n",
    "print(\"nodes before reduction\", get_number_of_nodes(dd))\n",
    "reduce_exact_dd(dd)\n",
    "print(\"nodes after reduction\", get_number_of_nodes(dd))"
   ]
  },
  {
   "cell_type": "markdown",
   "metadata": {
    "slideshow": {
     "slide_type": "slide"
    }
   },
   "source": [
    "## Is this any better than a standard MIP model?\n",
    "\n",
    "The standard MIP formulation for the 0/1 KP looks as follows:\n",
    "- let $I$ be the set of items, and $W$ be the capacity\n",
    "\n",
    "\n",
    "$$\\max \\sum_{i \\in I}p_i x_i$$\n",
    "\n",
    "s.t.\n",
    "$$\n",
    " \\sum_{i \\in I} x_i \\leq W \\\\\n",
    " x_i \\in \\{0, 1\\} \\quad \\forall i \\in I $$\n",
    "\n"
   ]
  },
  {
   "cell_type": "markdown",
   "metadata": {
    "slideshow": {
     "slide_type": "slide"
    }
   },
   "source": [
    "##  In Python"
   ]
  },
  {
   "cell_type": "code",
   "execution_count": 44,
   "metadata": {
    "slideshow": {
     "slide_type": "-"
    }
   },
   "outputs": [
    {
     "data": {
      "text/plain": [
       "<gurobi.Constr *Awaiting Model Update*>"
      ]
     },
     "execution_count": 44,
     "metadata": {},
     "output_type": "execute_result"
    }
   ],
   "source": [
    "m = gp.Model(\"knapsack\")\n",
    "\n",
    "m.ModelSense = GRB.MAXIMIZE\n",
    "\n",
    "x = [m.addVar(vtype=GRB.BINARY) for i in range(kp_instance.N)]\n",
    "\n",
    "\n",
    "m.setObjective(gp.quicksum(kp_instance.values[i] * x[i] for i in range(kp_instance.N)))\n",
    "\n",
    "m.addConstr(gp.quicksum(kp_instance.weights[i] * x[i] for i in range(kp_instance.N)) <= kp_instance.capacity)"
   ]
  },
  {
   "cell_type": "code",
   "execution_count": 45,
   "metadata": {
    "slideshow": {
     "slide_type": "fragment"
    }
   },
   "outputs": [
    {
     "name": "stdout",
     "output_type": "stream",
     "text": [
      "Gurobi Optimizer version 12.0.1 build v12.0.1rc0 (mac64[arm] - Darwin 24.1.0 24B91)\n",
      "\n",
      "CPU model: Apple M2\n",
      "Thread count: 8 physical cores, 8 logical processors, using up to 8 threads\n",
      "\n",
      "Optimize a model with 1 rows, 100 columns and 100 nonzeros\n",
      "Model fingerprint: 0xaedb2f4c\n",
      "Variable types: 0 continuous, 100 integer (100 binary)\n",
      "Coefficient statistics:\n",
      "  Matrix range     [9e+00, 1e+03]\n",
      "  Objective range  [7e+00, 1e+03]\n",
      "  Bounds range     [1e+00, 1e+00]\n",
      "  RHS range        [1e+03, 1e+03]\n",
      "Found heuristic solution: objective 794.0000000\n",
      "Presolve removed 1 rows and 100 columns\n",
      "Presolve time: 0.00s\n",
      "Presolve: All rows and columns removed\n",
      "\n",
      "Explored 0 nodes (0 simplex iterations) in 0.00 seconds (0.00 work units)\n",
      "Thread count was 1 (of 8 available processors)\n",
      "\n",
      "Solution count 2: 9147 794 \n",
      "\n",
      "Optimal solution found (tolerance 1.00e-04)\n",
      "Best objective 9.147000000000e+03, best bound 9.147000000000e+03, gap 0.0000%\n",
      "9147.0\n",
      "selected items: [77, 84, 89, 90, 91, 92, 94, 95, 96, 97, 98, 99]\n",
      "CPU times: user 7.21 ms, sys: 4.1 ms, total: 11.3 ms\n",
      "Wall time: 9.24 ms\n"
     ]
    }
   ],
   "source": [
    "%%time\n",
    "m.optimize()\n",
    "print(m.objVal)\n",
    "selected = [i for i in range(kp_instance.N) if x[i].x >= 0.99]\n",
    "print(\"selected items: {}\".format(selected))\n"
   ]
  },
  {
   "cell_type": "markdown",
   "metadata": {
    "slideshow": {
     "slide_type": "fragment"
    }
   },
   "source": [
    ".. this was not a big success for DD, acutually... let's see what comes next"
   ]
  },
  {
   "cell_type": "markdown",
   "metadata": {
    "slideshow": {
     "slide_type": "slide"
    }
   },
   "source": [
    "## The Multiple Knapsack Problem\n",
    "\n",
    "- the multiple knapsack problem is an extension of the 0/1 KP where we do not have a single, but multiple knapsacks\n",
    "- in general, the knapsacks can have different capacities\n",
    "- **but here**, for the sake of simplicity, we assume that all knapsacks have the same capacity"
   ]
  },
  {
   "cell_type": "markdown",
   "metadata": {
    "slideshow": {
     "slide_type": "fragment"
    }
   },
   "source": [
    "..let us first define an instance type"
   ]
  },
  {
   "cell_type": "code",
   "execution_count": 46,
   "metadata": {},
   "outputs": [],
   "source": [
    "class  MKPInstance(NamedTuple):\n",
    "    values:np.array\n",
    "    weights:np.array\n",
    "    capacity:int\n",
    "    number_of_knapsacks:int\n",
    "    N:int\n",
    "        "
   ]
  },
  {
   "cell_type": "markdown",
   "metadata": {
    "slideshow": {
     "slide_type": "fragment"
    }
   },
   "source": [
    "..and an instance creation function that uses the KP instance format to create an MKP instance "
   ]
  },
  {
   "cell_type": "code",
   "execution_count": 47,
   "metadata": {},
   "outputs": [],
   "source": [
    "       \n",
    "def create_mkp_instance_from_kp(kp_instance, number_of_knapsacks, weight_factor = 0.5):\n",
    "    \n",
    "    cap = int(weight_factor *np.sum(kp_instance.weights) / number_of_knapsacks)    \n",
    "        \n",
    "    return MKPInstance(kp_instance.values, kp_instance.weights, cap, number_of_knapsacks, kp_instance.N)"
   ]
  },
  {
   "cell_type": "code",
   "execution_count": 48,
   "metadata": {},
   "outputs": [],
   "source": [
    "mkp_instance = create_mkp_instance_from_kp(kp_instance, 20)"
   ]
  },
  {
   "cell_type": "markdown",
   "metadata": {
    "slideshow": {
     "slide_type": "slide"
    }
   },
   "source": [
    "## The Multiple Knapsack Problem: Standard MIP formulation\n",
    "\n",
    "\n",
    "- let $I$ be the set of items, let $J$ be the set of knapsacks and $W$ be the capacity\n",
    "- once again, we assume here (as opposed to standard MKP) that $W$ is the same for all $j \\in J$\n",
    "\n",
    "\n",
    "$$\\max \\sum_{i \\in I}\\sum_{j \\in j}  p_i x_{ij} $$\n",
    "\n",
    "s.t.\n",
    "$$\n",
    " \\sum_{i \\in I} x_{ij} \\leq W  \\quad \\forall j \\in J \\\\\n",
    "  \\sum_{j \\in J} x_{ij} \\leq 1  \\quad \\forall i \\in I \\\\\n",
    " x_{ij} \\in \\{0, 1\\} \\quad \\forall i \\in I, j \\in J $$"
   ]
  },
  {
   "cell_type": "markdown",
   "metadata": {
    "slideshow": {
     "slide_type": "slide"
    }
   },
   "source": [
    "## The Multiple Knapsack Problem: Solving the standard MIP formulation in Python\n",
    "\n"
   ]
  },
  {
   "cell_type": "code",
   "execution_count": 49,
   "metadata": {},
   "outputs": [],
   "source": [
    "m = gp.Model(\"multiple_knapsack\")\n",
    "\n",
    "\n",
    "x = [[m.addVar(vtype=GRB.BINARY) for k in range(mkp_instance.number_of_knapsacks)] for i in range(mkp_instance.N)]\n",
    "\n",
    "\n",
    "m.ModelSense = GRB.MAXIMIZE\n",
    "\n",
    "m.setObjective (gp.quicksum(mkp_instance.values[i] * x[i][k] for i in range(mkp_instance.N)  for k in range(mkp_instance.number_of_knapsacks) ))\n",
    "\n",
    "for k in range(mkp_instance.number_of_knapsacks):\n",
    "    \n",
    "    m.addConstr(gp.quicksum(mkp_instance.weights[i] * x[i][k] for i in range(mkp_instance.N)) <= mkp_instance.capacity)\n",
    "    \n",
    "for i in range(mkp_instance.N):\n",
    "        m.addConstr(gp.quicksum(x[i][k] for k in range(mkp_instance.number_of_knapsacks)) <= 1)"
   ]
  },
  {
   "cell_type": "markdown",
   "metadata": {
    "slideshow": {
     "slide_type": "fragment"
    }
   },
   "source": [
    "..solving it"
   ]
  },
  {
   "cell_type": "code",
   "execution_count": 50,
   "metadata": {
    "scrolled": true
   },
   "outputs": [
    {
     "name": "stdout",
     "output_type": "stream",
     "text": [
      "Set parameter TimeLimit to value 120\n",
      "Gurobi Optimizer version 12.0.1 build v12.0.1rc0 (mac64[arm] - Darwin 24.1.0 24B91)\n",
      "\n",
      "CPU model: Apple M2\n",
      "Thread count: 8 physical cores, 8 logical processors, using up to 8 threads\n",
      "\n",
      "Non-default parameters:\n",
      "TimeLimit  120\n",
      "\n",
      "Optimize a model with 120 rows, 2000 columns and 4000 nonzeros\n",
      "Model fingerprint: 0xe984c34f\n",
      "Variable types: 0 continuous, 2000 integer (2000 binary)\n",
      "Coefficient statistics:\n",
      "  Matrix range     [1e+00, 1e+03]\n",
      "  Objective range  [7e+00, 1e+03]\n",
      "  Bounds range     [1e+00, 1e+00]\n",
      "  RHS range        [1e+00, 1e+03]\n",
      "Found heuristic solution: objective 26870.000000\n",
      "Presolve time: 0.01s\n",
      "Presolved: 120 rows, 2000 columns, 4000 nonzeros\n",
      "Variable types: 0 continuous, 2000 integer (2000 binary)\n",
      "\n",
      "Root relaxation: objective 4.039576e+04, 310 iterations, 0.00 seconds (0.00 work units)\n",
      "\n",
      "    Nodes    |    Current Node    |     Objective Bounds      |     Work\n",
      " Expl Unexpl |  Obj  Depth IntInf | Incumbent    BestBd   Gap | It/Node Time\n",
      "\n",
      "     0     0 40395.7571    0   30 26870.0000 40395.7571  50.3%     -    0s\n",
      "H    0     0                    32492.000000 40395.7571  24.3%     -    0s\n",
      "H    0     0                    34766.000000 40395.7571  16.2%     -    0s\n",
      "H    0     0                    38350.000000 40395.7571  5.33%     -    0s\n",
      "H    0     0                    38391.000000 40395.7571  5.22%     -    0s\n",
      "H    0     0                    38630.000000 40395.7571  4.57%     -    0s\n",
      "H    0     0                    38736.000000 40395.7571  4.28%     -    0s\n",
      "H    0     0                    38742.000000 40395.7571  4.27%     -    0s\n",
      "H    0     0                    38800.000000 40395.7571  4.11%     -    0s\n",
      "H    0     0                    38837.000000 40395.7571  4.01%     -    0s\n",
      "H    0     0                    38895.000000 40395.7571  3.86%     -    0s\n",
      "H    0     0                    38947.000000 40395.7571  3.72%     -    0s\n",
      "H    0     0                    39108.000000 40395.7571  3.29%     -    0s\n",
      "H    0     0                    39166.000000 40395.7571  3.14%     -    0s\n",
      "H    0     0                    39241.000000 40395.7571  2.94%     -    0s\n",
      "H    0     0                    39258.000000 40395.7571  2.90%     -    0s\n",
      "H    0     0                    39339.000000 40395.7571  2.69%     -    0s\n",
      "     0     0 40395.7571    0   56 39339.0000 40395.7571  2.69%     -    0s\n",
      "H    0     0                    39353.000000 40395.7571  2.65%     -    0s\n",
      "H    0     0                    39497.000000 40395.7571  2.28%     -    0s\n",
      "H    0     0                    39514.000000 40395.7571  2.23%     -    0s\n",
      "H    0     0                    39559.000000 40395.7571  2.12%     -    0s\n",
      "H    0     0                    39689.000000 40395.7571  1.78%     -    0s\n",
      "H    0     0                    39865.000000 40395.7571  1.33%     -    0s\n",
      "     0     0 40395.7571    0   54 39865.0000 40395.7571  1.33%     -    0s\n",
      "     0     0 40395.7571    0   34 39865.0000 40395.7571  1.33%     -    0s\n",
      "     0     0 40395.7571    0   34 39865.0000 40395.7571  1.33%     -    0s\n",
      "     0     2 40395.7571    0   34 39865.0000 40395.7571  1.33%     -    0s\n",
      "H   35    44                    39885.000000 40395.7571  1.28%  46.7    0s\n",
      "H   60    51                    39969.000000 40395.7571  1.07%  39.5    0s\n",
      "H  137   183                    40006.000000 40395.7571  0.97%  29.2    0s\n",
      "H 1019   767                    40066.000000 40395.7571  0.82%  11.8    0s\n",
      "H 1024   929                    40076.000000 40395.7571  0.80%  11.8    0s\n",
      "H 1878  1473                    40109.000000 40395.7571  0.71%  13.5    1s\n",
      "H 1902  1497                    40117.000000 40395.7571  0.69%  13.4    1s\n",
      "H 2092  1483                    40129.000000 40395.7571  0.66%  13.1    1s\n",
      "H 9478  6449                    40167.000000 40395.7571  0.57%   8.6    3s\n",
      " 18712 12866 40392.4203  104   34 40167.0000 40395.7571  0.57%   7.6    5s\n",
      " 44265 24630 40275.0013  186   42 40167.0000 40390.0000  0.56%   6.6   10s\n",
      " 47924 27423 40247.8531  174   32 40167.0000 40390.0000  0.56%   7.3   15s\n",
      " 73911 37359 40390.0000  200   24 40167.0000 40390.0000  0.56%   8.8   20s\n",
      "H86444 37806                    40176.000000 40390.0000  0.53%   9.5   21s\n",
      "H88633 25986                    40277.000000 40390.0000  0.28%   9.7   21s\n",
      " 100505 27975 40362.3144  217   31 40277.0000 40390.0000  0.28%  10.3   25s\n",
      " 103379 28738 40390.0000  255   43 40277.0000 40390.0000  0.28%  10.6   30s\n",
      " 114256 34482 40279.0000  120   14 40277.0000 40390.0000  0.28%  11.2   35s\n",
      " 138945 45168 40284.3040  208   29 40277.0000 40390.0000  0.28%  12.8   40s\n",
      " 161509 54771 40385.6742  167   56 40277.0000 40390.0000  0.28%  13.8   45s\n",
      " 173511 60474 40390.0000  146   53 40277.0000 40390.0000  0.28%  14.7   50s\n",
      " 190869 66660 40390.0000  165   66 40277.0000 40390.0000  0.28%  16.2   55s\n",
      " 207895 78826 40389.9760  169   82 40277.0000 40390.0000  0.28%  17.4   60s\n",
      " 223409 90188 40354.6299  169   40 40277.0000 40390.0000  0.28%  18.3   65s\n",
      " 236717 99388 40352.6548  178   44 40277.0000 40390.0000  0.28%  19.1   70s\n",
      " 246878 105796 40372.6050  198   41 40277.0000 40390.0000  0.28%  19.8   75s\n",
      " 254310 111562 40310.4578  162   50 40277.0000 40390.0000  0.28%  20.2   80s\n",
      " 271631 123474 40367.9512  179   26 40277.0000 40390.0000  0.28%  21.1   85s\n",
      " 285779 132977 40390.0000  150   58 40277.0000 40390.0000  0.28%  21.7   90s\n",
      " 296685 140364 40390.0000  139   50 40277.0000 40390.0000  0.28%  22.5   95s\n",
      " 311606 149879 40365.4869  146   53 40277.0000 40390.0000  0.28%  22.8  100s\n",
      " 322930 157869 40386.2015  214   65 40277.0000 40390.0000  0.28%  23.3  105s\n",
      " 332749 164925 40387.0139  202   57 40277.0000 40390.0000  0.28%  23.7  110s\n",
      " 347444 174531 40295.5591  155   58 40277.0000 40390.0000  0.28%  24.1  115s\n",
      " 360119 182573 40390.0000  167   70 40277.0000 40390.0000  0.28%  24.5  120s\n",
      "\n",
      "Cutting planes:\n",
      "  Gomory: 14\n",
      "  Cover: 111\n",
      "  Clique: 18\n",
      "  MIR: 125\n",
      "  Mixing: 1\n",
      "  StrongCG: 120\n",
      "  Flow cover: 51\n",
      "  RLT: 4\n",
      "\n",
      "Explored 360201 nodes (8819970 simplex iterations) in 120.02 seconds (98.20 work units)\n",
      "Thread count was 8 (of 8 available processors)\n",
      "\n",
      "Solution count 10: 40277 40176 40167 ... 39969\n",
      "\n",
      "Time limit reached\n",
      "Best objective 4.027700000000e+04, best bound 4.039000000000e+04, gap 0.2806%\n",
      "CPU times: user 8min 45s, sys: 1min 18s, total: 10min 4s\n",
      "Wall time: 2min\n"
     ]
    }
   ],
   "source": [
    "%%time\n",
    "\n",
    "m.params.TimeLimit = 2*60 #just to make sure, we'r in class!\n",
    "\n",
    "m.optimize()"
   ]
  },
  {
   "cell_type": "code",
   "execution_count": 51,
   "metadata": {},
   "outputs": [
    {
     "name": "stdout",
     "output_type": "stream",
     "text": [
      "objective 40277.0 upper bound 40389.99999999999 gap %  0.281\n"
     ]
    }
   ],
   "source": [
    "print(\"objective\", m.ObjVal, \"upper bound\", m.ObjBound, f\"gap %  {100*(m.ObjBound - m.ObjVal) / m.ObjVal:0.3f}\")"
   ]
  },
  {
   "cell_type": "markdown",
   "metadata": {
    "slideshow": {
     "slide_type": "slide"
    }
   },
   "source": [
    "## A DP Model for the MKP?\n",
    "\n",
    "How would a DP model look like for the MKP?"
   ]
  },
  {
   "cell_type": "markdown",
   "metadata": {
    "slideshow": {
     "slide_type": "slide"
    }
   },
   "source": [
    "You can use this 0/1 KP model as starting point:\n",
    "\n",
    "- state $x_k$: accumulated weight after adding the first $k-1$ items, $x_0 = 0$\n",
    "- decision $u_k \\in \\{0, 1\\}$ (0: do not add item $k$ to the knapsack; 1: add item $k$)\n",
    "- $U_k(x_k) = \\begin{cases} \n",
    "                \\{0,1\\} \\quad \\mathrm{if} \\quad x_k + w_k \\leq W \\\\\n",
    "                \\{0 \\} \\quad \\mathrm{else}\n",
    "\\end{cases}$\n",
    "\n",
    "- $f(x_k, u_k) = x_k + w_k u_k $\n",
    "\n",
    "- $g(x_k, u_k) = p_k u_k$\n",
    "\n",
    "We have a maximization-objective:\n",
    "\n",
    "$$\\max_{u_0,..,u_k,..u_{N-1}} \\sum_{k=0}^{N-1} g_k(x_k,u_k)$$"
   ]
  },
  {
   "cell_type": "markdown",
   "metadata": {
    "slideshow": {
     "slide_type": "slide"
    }
   },
   "source": [
    "## DP Model for the MKP: In Python"
   ]
  },
  {
   "cell_type": "code",
   "execution_count": 52,
   "metadata": {},
   "outputs": [],
   "source": [
    "@njit\n",
    "def feasible_decisions_mkp(instance, k, acc_weight):    \n",
    "    #if acc_weight + instance.weights[k] <= instance.capacity: return np.array([0,1])\n",
    "    #else: return np.array([0])\n",
    "    return\n",
    "\n",
    "@njit\n",
    "def transition_function_mkp(instance, k, acc_weight, put):\n",
    "    #return acc_weight + put*instance.weights[k]\n",
    "    return\n",
    "\n",
    "@njit\n",
    "def cost_function_mkp(instance, k, acc_weight, put):\n",
    "      #return put*instance.values[k]\n",
    "    return"
   ]
  },
  {
   "cell_type": "code",
   "execution_count": 53,
   "metadata": {},
   "outputs": [],
   "source": [
    "dp_mkp = DP(feasible_decisions_mkp, transition_function_mkp,  cost_function_mkp, \"max\")"
   ]
  },
  {
   "cell_type": "code",
   "execution_count": 54,
   "metadata": {},
   "outputs": [],
   "source": [
    "N = 20\n",
    "kp_instance_small = KPInstance(kp_instance.values[:N], kp_instance.weights[:N],kp_instance.capacity,  N)\n",
    "mkp_instance_small = create_mkp_instance_from_kp(kp_instance_small, 4)"
   ]
  },
  {
   "cell_type": "code",
   "execution_count": 55,
   "metadata": {},
   "outputs": [],
   "source": [
    "#start_state = \n",
    "# sink_state\n",
    "#dd = build_exact_dd(dp_mkp, mkp_instance_small, 0, start_state, sink_state)"
   ]
  },
  {
   "cell_type": "markdown",
   "metadata": {
    "slideshow": {
     "slide_type": "slide"
    }
   },
   "source": [
    "## Key idea: Multiple flow units through a single-knapsack DD\n",
    "\n",
    "\n",
    "**Observe the following:**\n",
    "- in the MKP that we consider here (identical capacities), the set of feasible solutions for each knapsack with capacity $W$ is identical to the set of solutions of a single 0/1-KP with capactiy $W$\n",
    "- each item can only be assigned to a **single knapsack**"
   ]
  },
  {
   "cell_type": "markdown",
   "metadata": {
    "slideshow": {
     "slide_type": "fragment"
    }
   },
   "source": [
    "Now let us dicuss a **key idea** useful in many cases, not only for 0/1 KP:\n",
    "- if we are looking for a solution that can be represented as a set of multiple paths within the same network\n",
    "  - **we can model this as a (multi-unit) flow through a single network**\n",
    "  - that can be modeled as part of a MIP model#\n",
    "  - which gives us the opportunity to add **additional constraints** not represented in the network\n",
    "  "
   ]
  },
  {
   "cell_type": "markdown",
   "metadata": {
    "slideshow": {
     "slide_type": "fragment"
    }
   },
   "source": [
    "- after solving such a model, we can obtain feasible solutions via **flow decomposition**"
   ]
  },
  {
   "cell_type": "markdown",
   "metadata": {
    "slideshow": {
     "slide_type": "slide"
    }
   },
   "source": [
    "## Formulating the MKP using a DD-based flow component\n",
    "\n",
    "- let $I$ be the set of items, let $J$ be the set of knapsacks and $W$ be the capacity\n",
    "-  we assume here (as opposed to standard MKP) that $W$ is the same for all $j \\in J$\n",
    "\n",
    "- assume that we have a graph $G=(V,E)$ that is the graph underlying a DD, augmented with a flow circulation arc $e^\\mathrm{circ}$\n",
    "\n",
    "- let $E^i$ be the set of items representing the set edges picking item $i$\n",
    "\n",
    "Then, we can formulate the MKP as follows:\n",
    "\n",
    "$$\\min \\sum_{e \\in E} c_e x_e$$\n",
    "\n",
    "s.t.\n",
    "$$\n",
    " \\sum_{e \\in v^-} x_e = \\sum_{e \\in v^+} x_e \\quad \\forall v \\in N \\\\\n",
    " x_e^\\mathrm{circ} = |J| \\\\ \n",
    " \\sum_{e \\in E^i} x_e \\leq 1 \\quad \\forall i \\in I \\\\ \n",
    " x_e \\in \\{0, 1\\} \\quad \\forall e \\in E $$"
   ]
  },
  {
   "cell_type": "markdown",
   "metadata": {
    "slideshow": {
     "slide_type": "fragment"
    }
   },
   "source": [
    "..what is \"surprising\" / different to the standard MKP formulation here?"
   ]
  },
  {
   "cell_type": "markdown",
   "metadata": {
    "slideshow": {
     "slide_type": "slide"
    }
   },
   "source": [
    "## Formulating the MKP using a DD-based flow component: In Python\n",
    "..building reduced DD"
   ]
  },
  {
   "cell_type": "code",
   "execution_count": 56,
   "metadata": {},
   "outputs": [
    {
     "name": "stdout",
     "output_type": "stream",
     "text": [
      "nodes before reduction 33696\n",
      "nodes after reduction 20262\n"
     ]
    }
   ],
   "source": [
    "dd = build_exact_dd(dp_kp, mkp_instance, 0, 0,-1)\n",
    "print (\"nodes before reduction\", get_number_of_nodes(dd))\n",
    "reduce_exact_dd(dd)\n",
    "print (\"nodes after reduction\", get_number_of_nodes(dd))"
   ]
  },
  {
   "cell_type": "markdown",
   "metadata": {
    "slideshow": {
     "slide_type": "fragment"
    }
   },
   "source": [
    "..creating the model"
   ]
  },
  {
   "cell_type": "code",
   "execution_count": 57,
   "metadata": {},
   "outputs": [],
   "source": [
    "m = gp.Model(\"mk_knapsack_dd\")\n",
    "\n",
    "m.ModelSense = GRB.MAXIMIZE\n",
    "\n",
    "# network flow component\n",
    "edge_to_flow_var = build_network_flow_component(m, dd, mkp_instance.number_of_knapsacks)\n",
    "\n",
    "# create the sets of edges per item\n",
    "item_variables = [[] for i in range(mkp_instance.N)]\n",
    "for e, var in edge_to_flow_var.items():    \n",
    "    if e[2]==1:\n",
    "        item_variables[e[0][0]].append(var)        \n",
    "\n",
    "# create the constraints forcing every item to be picked at most onces     \n",
    "for i, item_vars in enumerate(item_variables): \n",
    "    m.addConstr(gp.quicksum(item_var for item_var in item_vars)  <= 1 )                    "
   ]
  },
  {
   "cell_type": "markdown",
   "metadata": {
    "slideshow": {
     "slide_type": "fragment"
    }
   },
   "source": [
    "..solving the model"
   ]
  },
  {
   "cell_type": "code",
   "execution_count": 58,
   "metadata": {},
   "outputs": [
    {
     "name": "stdout",
     "output_type": "stream",
     "text": [
      "Set parameter TimeLimit to value 120\n",
      "Gurobi Optimizer version 12.0.1 build v12.0.1rc0 (mac64[arm] - Darwin 24.1.0 24B91)\n",
      "\n",
      "CPU model: Apple M2\n",
      "Thread count: 8 physical cores, 8 logical processors, using up to 8 threads\n",
      "\n",
      "Non-default parameters:\n",
      "TimeLimit  120\n",
      "\n",
      "Optimize a model with 20362 rows, 34325 columns and 82713 nonzeros\n",
      "Model fingerprint: 0xb8c77b5b\n",
      "Variable types: 0 continuous, 34325 integer (0 binary)\n",
      "Coefficient statistics:\n",
      "  Matrix range     [1e+00, 1e+00]\n",
      "  Objective range  [7e+00, 1e+03]\n",
      "  Bounds range     [2e+01, 2e+01]\n",
      "  RHS range        [1e+00, 1e+00]\n",
      "Presolve removed 11926 rows and 11885 columns\n",
      "Presolve time: 0.40s\n",
      "Presolved: 8436 rows, 22440 columns, 59189 nonzeros\n",
      "Variable types: 0 continuous, 22440 integer (14492 binary)\n",
      "Found heuristic solution: objective 29853.000000\n",
      "\n",
      "Root simplex log...\n",
      "\n",
      "Iteration    Objective       Primal Inf.    Dual Inf.      Time\n",
      "   22705    4.0607960e+04   3.772671e+03   0.000000e+00      5s\n",
      "   35585    4.0388364e+04   3.923715e+00   0.000000e+00     10s\n",
      "   35909    4.0388284e+04   0.000000e+00   0.000000e+00     10s\n",
      "\n",
      "Root relaxation: objective 4.038828e+04, 35909 iterations, 9.85 seconds (10.38 work units)\n",
      "\n",
      "    Nodes    |    Current Node    |     Objective Bounds      |     Work\n",
      " Expl Unexpl |  Obj  Depth IntInf | Incumbent    BestBd   Gap | It/Node Time\n",
      "\n",
      "     0     0 40388.2835    0  233 29853.0000 40388.2835  35.3%     -   10s\n",
      "H    0     0                    39323.000000 40388.2835  2.71%     -   10s\n",
      "H    0     0                    40042.000000 40388.2835  0.86%     -   10s\n",
      "H    0     0                    40051.000000 40388.2835  0.84%     -   10s\n",
      "H    0     0                    40083.000000 40388.2835  0.76%     -   11s\n",
      "H    0     0                    40277.000000 40388.2835  0.28%     -   11s\n",
      "H    0     0                    40279.000000 40388.2835  0.27%     -   11s\n",
      "H    0     0                    40289.000000 40388.2835  0.25%     -   11s\n",
      "H    0     0                    40299.000010 40388.2835  0.22%     -   12s\n",
      "     0     0 40388.2652    0  247 40299.0000 40388.2652  0.22%     -   13s\n",
      "     0     0 40388.1733    0  260 40299.0000 40388.1733  0.22%     -   14s\n",
      "     0     0 40388.1034    0  262 40299.0000 40388.1034  0.22%     -   15s\n",
      "     0     0 40387.8975    0  274 40299.0000 40387.8975  0.22%     -   16s\n",
      "     0     0 40387.8975    0  274 40299.0000 40387.8975  0.22%     -   17s\n",
      "     0     0 40387.8975    0  296 40299.0000 40387.8975  0.22%     -   17s\n",
      "     0     0 40387.8975    0  282 40299.0000 40387.8975  0.22%     -   18s\n",
      "     0     0 40386.7344    0  217 40299.0000 40386.7344  0.22%     -   27s\n",
      "H    0     0                    40377.000000 40386.7344  0.02%     -   27s\n",
      "     0     0 40386.7344    0  242 40377.0000 40386.7344  0.02%     -   28s\n",
      "     0     0 40386.7344    0  248 40377.0000 40386.7344  0.02%     -   28s\n",
      "     0     0 40386.7344    0  264 40377.0000 40386.7344  0.02%     -   29s\n",
      "     0     0 40386.7344    0  248 40377.0000 40386.7344  0.02%     -   30s\n",
      "     0     0 40386.7344    0  237 40377.0000 40386.7344  0.02%     -   30s\n",
      "     0     0 40386.7344    0  257 40377.0000 40386.7344  0.02%     -   31s\n",
      "     0     0 40383.2136    0  238 40377.0000 40383.2136  0.02%     -   31s\n",
      "     0     0 40383.2136    0  238 40377.0000 40383.2136  0.02%     -   31s\n",
      "     0     0 40383.2136    0  190 40377.0000 40383.2136  0.02%     -   38s\n",
      "     0     0 40383.2136    0  218 40377.0000 40383.2136  0.02%     -   39s\n",
      "     0     0 40383.2136    0  223 40377.0000 40383.2136  0.02%     -   40s\n",
      "     0     0 40383.2136    0  243 40377.0000 40383.2136  0.02%     -   40s\n",
      "     0     0 40383.2136    0  197 40377.0000 40383.2136  0.02%     -   41s\n",
      "     0     0 40383.2136    0  188 40377.0000 40383.2136  0.02%     -   41s\n",
      "     0     0 40383.2136    0  202 40377.0000 40383.2136  0.02%     -   41s\n",
      "     0     0 40383.2136    0  206 40377.0000 40383.2136  0.02%     -   41s\n",
      "     0     0 40383.2136    0  211 40377.0000 40383.2136  0.02%     -   41s\n",
      "     0     0 40383.2136    0  215 40377.0000 40383.2136  0.02%     -   42s\n",
      "     0     0 40383.2136    0  170 40377.0000 40383.2136  0.02%     -   42s\n",
      "     0     2 40383.2136    0  170 40377.0000 40383.2136  0.02%     -   44s\n",
      "     3     3 40382.6498    2  189 40377.0000 40382.6498  0.01%   962   45s\n",
      "   152   166 40381.3912   16  185 40377.0000 40382.1192  0.01%   238   50s\n",
      "\n",
      "Cutting planes:\n",
      "  Gomory: 2\n",
      "\n",
      "Explored 257 nodes (160714 simplex iterations) in 50.79 seconds (53.68 work units)\n",
      "Thread count was 8 (of 8 available processors)\n",
      "\n",
      "Solution count 10: 40377 40299 40289 ... 29853\n",
      "\n",
      "Optimal solution found (tolerance 1.00e-04)\n",
      "Best objective 4.037700000000e+04, best bound 4.038100000000e+04, gap 0.0099%\n",
      "objective 40377.0 upper bound 40381.0 gap %  0.010\n",
      "CPU times: user 1min 52s, sys: 13.8 s, total: 2min 6s\n",
      "Wall time: 50.9 s\n"
     ]
    }
   ],
   "source": [
    "%%time\n",
    "m.params.TimeLimit = 2*60\n",
    "m.optimize()\n",
    "\n",
    "print(\"objective\", m.ObjVal, \"upper bound\", m.ObjBound, f\"gap %  {100*(m.ObjBound - m.ObjVal) / m.ObjVal:0.3f}\")"
   ]
  },
  {
   "cell_type": "markdown",
   "metadata": {
    "slideshow": {
     "slide_type": "slide"
    }
   },
   "source": [
    "## Obtaining Paths via Flow Decomposition\n",
    ".. now let us see how to obtain the solution for each of the knapsacks:\n",
    "- the core idea here is to \"walk through the DD\" from source to sink $|J|$ times\n",
    "- we start by initiating a dict stores the remaining flow through each edge\n",
    "  - initialized by the flow solution\n",
    "- then we extract one path by following a \"non-zero\" path from source to sink, reducing the remaining flow on each visited edge\n",
    "- until there is no more flow\n",
    "\n",
    "**Observe:**\n",
    "\n",
    "In general, such a flow decomposition is not unique!\n"
   ]
  },
  {
   "cell_type": "code",
   "execution_count": 59,
   "metadata": {},
   "outputs": [],
   "source": [
    "def decompose_flow_to_solution_paths(edge_to_flow_var, dd):\n",
    "    \n",
    "    paths = []\n",
    "    \n",
    "    ## inoit    \n",
    "    edge_to_remaining_flow = {}    \n",
    "    for e, flow_var in edge_to_flow_var.items():\n",
    "        edge_to_remaining_flow[e]  = round(flow_var.x)        \n",
    "    \n",
    "    circ_edge = ((dd.number_of_layers - 1, dd.sink_state), (0,dd.source_state), -1)   \n",
    "    \n",
    "    while edge_to_remaining_flow[circ_edge] > 0:\n",
    "\n",
    "        edge_to_remaining_flow[circ_edge] -= 1\n",
    "        \n",
    "        decisions = []\n",
    "        node = (0, dd.source_state)\n",
    "\n",
    "        while node[1] != dd.sink_state:\n",
    "            for node, target_node, decision in dd.g.out_edges(node, keys=True):\n",
    "                if edge_to_remaining_flow[(node, target_node, decision)]  > 0:\n",
    "                    decisions.append(decision)\n",
    "                    edge_to_remaining_flow[(node, target_node, decision)] -= 1  \n",
    "                    \n",
    "                    node = target_node \n",
    "                    break\n",
    "                    \n",
    "        paths.append(decisions)\n",
    "                \n",
    "    return paths\n",
    "    \n",
    "    \n"
   ]
  },
  {
   "cell_type": "markdown",
   "metadata": {
    "slideshow": {
     "slide_type": "slide"
    }
   },
   "source": [
    "## Obtaining Paths via Flow Decomposition: Trying it out\n"
   ]
  },
  {
   "cell_type": "code",
   "execution_count": 60,
   "metadata": {
    "scrolled": true
   },
   "outputs": [
    {
     "data": {
      "text/plain": [
       "[[43, 57, 73],\n",
       " [41, 46, 90, 99],\n",
       " [40, 59, 74],\n",
       " [39, 44, 96],\n",
       " [38, 58, 79],\n",
       " [37, 61, 70],\n",
       " [35, 64, 71],\n",
       " [34, 53, 91],\n",
       " [30, 48],\n",
       " [28, 65, 84, 89],\n",
       " [27, 66, 83, 92],\n",
       " [19, 63, 93],\n",
       " [17, 60, 97],\n",
       " [15, 67, 88],\n",
       " [14, 62, 95],\n",
       " [11, 78, 82],\n",
       " [9, 75, 86],\n",
       " [3, 85, 87, 98],\n",
       " [2, 77, 94],\n",
       " [0, 72]]"
      ]
     },
     "execution_count": 60,
     "metadata": {},
     "output_type": "execute_result"
    }
   ],
   "source": [
    "paths = decompose_flow_to_solution_paths(edge_to_flow_var, dd)\n",
    "\n",
    "def get_items_from_path(decisions):\n",
    "    solution_items =  []\n",
    "    for i, dec in enumerate(decisions):\n",
    "        if dec == 1:\n",
    "            solution_items.append(i)\n",
    "            \n",
    "    return solution_items\n",
    "\n",
    "knapsack_items = [ get_items_from_path(path) for path in paths]\n",
    "knapsack_items"
   ]
  },
  {
   "cell_type": "markdown",
   "metadata": {
    "slideshow": {
     "slide_type": "slide"
    }
   },
   "source": [
    "## Concluding Remarks\n",
    "\n",
    "- we created our first DD-based MIPs \n",
    "- these MIPs are often large (although the DD reduction generally helps)\n",
    "- but a key advantage is that they can model the flow corresponding to multiple identical objects (e.g. knapsacks, workers with identical skills) in a single network which typically reduces symmetry\n",
    "- and: these models usually have a stronger LP relaxation than \"standard formulations\""
   ]
  },
  {
   "cell_type": "markdown",
   "metadata": {
    "slideshow": {
     "slide_type": "slide"
    }
   },
   "source": [
    "## A more generic DP model\n",
    "\n",
    "- up to now, a key assumption was the state-wise (layer-wise) structure of the DP model\n",
    "- ...Let us now get rid of that assumption!\n",
    "\n",
    "**A more generic DP model (without explicit stage structure)** has the following components:\n",
    "- state $x$, decision $u$\n",
    "- $U(x)$, the set of feasible decisions given state $x$\n",
    "- $f(x, u)$, the state transition function given state $x$ and decision $u$\n",
    "- $g(x, u)$, the cost function given state $x$ and decision $u$"
   ]
  },
  {
   "cell_type": "markdown",
   "metadata": {
    "slideshow": {
     "slide_type": "fragment"
    }
   },
   "source": [
    "..furthermore, we use:\n",
    "- $X^\\mathrm{start}$ the set of start states (there may be multiple start states)\n",
    "- $e(x)$ a function determining whether a given state is a possible end state (final state in a feasible path)"
   ]
  },
  {
   "cell_type": "markdown",
   "metadata": {
    "slideshow": {
     "slide_type": "fragment"
    }
   },
   "source": [
    "..and, for the purpose of later generating the (circular flow) network:\n",
    "- the source state $x^\\mathrm{source}$: the source state (there will be one arc from $x^\\mathrm{source}$ to each node representing a start state)\n",
    "- the sink state $x^\\mathrm{sink}$: the sink state (there will be one arc from each node corresponding to a possible end state to the node associated with $x^\\mathrm{sink}$)"
   ]
  },
  {
   "cell_type": "markdown",
   "metadata": {
    "slideshow": {
     "slide_type": "slide"
    }
   },
   "source": [
    "## The generic DP Model in Python"
   ]
  },
  {
   "cell_type": "code",
   "execution_count": 61,
   "metadata": {},
   "outputs": [],
   "source": [
    "class DPG(NamedTuple):\n",
    "    feasible_decisions : Callable\n",
    "    transition_function : Callable\n",
    "    cost_function : Callable\n",
    "    start_states : Callable\n",
    "    is_end_state : Callable\n",
    "    source_state : Any\n",
    "    sink_state : Any\n",
    "    direction : str # 'max' or 'min'"
   ]
  },
  {
   "cell_type": "markdown",
   "metadata": {
    "slideshow": {
     "slide_type": "slide"
    }
   },
   "source": [
    "## Example: A generic DP model for the Knapsack Problem\n",
    "\n",
    "- given a  knapsack instance with $N$ items with weights $w_k$ and profits $p_k$ (zero-indexed) and capacity $W$ \n",
    "\n",
    "- state $x$: tuple: $(k, w)$ where $k$ is the item to consider next and $w$ is the weight accumulated so far\n",
    "- decision $u \\in \\{0, 1\\}$ (0: do not add item to the knapsack; 1: add item to the knapsack)\n",
    "- $U(x) = U(k,w) = \\begin{cases} \n",
    "                \\{0,1\\} \\quad \\mathrm{if} \\quad x + w_k \\leq W \\\\\n",
    "                \\{0 \\} \\quad \\mathrm{else}\n",
    "\\end{cases}$\n",
    "\n",
    "- $f(x, u) = f( (k, w), u) =  w + w_k u $\n",
    "\n",
    "- $g(x, u) = g ( (k, w), u)  = p_k u$\n",
    "\n",
    "-  $X^\\mathrm{start} = \\{(0,0)\\}$\n",
    "- $e(x) = e(k,w) = \\begin{cases} \n",
    "                \\mathrm{True} \\quad \\mathrm{if} \\quad k = N  \\\\\n",
    "                \\mathrm{False} \\quad \\mathrm{else}\n",
    "\\end{cases}$\n"
   ]
  },
  {
   "cell_type": "code",
   "execution_count": 62,
   "metadata": {
    "slideshow": {
     "slide_type": "slide"
    }
   },
   "outputs": [],
   "source": [
    "\n",
    "class KPState(NamedTuple):\n",
    "    item : int\n",
    "    weight : int\n",
    "\n",
    "def feasible_decisions_kp_dpg(instance, kp_state):\n",
    "    if kp_state.item >= instance.N:\n",
    "        return []\n",
    "    \n",
    "    if kp_state.weight + instance.weights[kp_state.item] <= instance.capacity: \n",
    "        return [0, 1]\n",
    "    \n",
    "    return [0]\n",
    "\n",
    "\n",
    "def transition_function_kp_dpg(instance, kp_state, decision):\n",
    "    return KPState(kp_state.item + 1, kp_state.weight + decision * instance.weights[kp_state.item])\n",
    "\n",
    "\n",
    "def cost_function_kp_dpg(instance, kp_state, decision):\n",
    "      return decision * instance.values[kp_state.item]\n",
    "    \n",
    "\n",
    "def start_states_kp_dpg(instance):\n",
    "      return [KPState(0,0)]\n",
    "    \n",
    "    \n",
    "\n",
    "def is_end_state_kp_dpg(instance, kp_state):\n",
    "      return kp_state.item == instance.N\n",
    "    \n",
    "\n",
    "source_state_kp = KPState(0,0)\n",
    "sink_state_kp = KPState(-1,-1)"
   ]
  },
  {
   "cell_type": "code",
   "execution_count": 63,
   "metadata": {},
   "outputs": [],
   "source": [
    "dpg_kp = DPG(feasible_decisions_kp_dpg, transition_function_kp_dpg,  cost_function_kp_dpg, start_states_kp_dpg, is_end_state_kp_dpg, source_state_kp, sink_state_kp, \"max\")"
   ]
  },
  {
   "cell_type": "markdown",
   "metadata": {
    "slideshow": {
     "slide_type": "slide"
    }
   },
   "source": [
    "## Generating the (circular) state-transition graph (state-expanded network)\n",
    "\n",
    "- the network creation occurs once again by a DP-by reaching-style approach\n",
    "- we maintain a queue of open states\n",
    "  - initialized by the start states\n",
    "  - once a state is \"discovered\" first, it is added to the queue\n",
    "- observe: the following implementation relies on the fact that:\n",
    "  - we can use a state as node key in the graph\n",
    "  - we can use the decision as edge key in the multi-digraph (to distinguish arcs with same start and end node)"
   ]
  },
  {
   "cell_type": "code",
   "execution_count": 64,
   "metadata": {
    "slideshow": {
     "slide_type": "slide"
    }
   },
   "outputs": [],
   "source": [
    "def build_network_dpg(dpg, instance):\n",
    "    \n",
    "    \n",
    "    g = nx.MultiDiGraph()    \n",
    "    # source node, sink node, and circulation edge\n",
    "    g.add_edge(dpg.sink_state, dpg.source_state, -1)  \n",
    "    \n",
    "    # start states and link from source to start state\n",
    "    for start_state in dpg.start_states(instance):\n",
    "        g.add_edge(dpg.source_state, start_state, -1)  \n",
    "        \n",
    "    # initialize the queue of open states\n",
    "    open_states = deque( dpg.start_states(instance) )\n",
    "    \n",
    "    # as long as there are open states, pick the first one (FIFO)\n",
    "    while len(open_states):        \n",
    "        state = open_states.popleft()           \n",
    "        # get feasible decisions, resulting state and cost\n",
    "        decisions = dpg.feasible_decisions(instance, state)             \n",
    "        for decision in decisions:\n",
    "            next_state = dpg.transition_function(instance, state, decision)\n",
    "            cost = dpg.cost_function(instance, state, decision)\n",
    "            \n",
    "            # add state to open states if this is first discovery\n",
    "            if next_state not in g:\n",
    "                open_states.append(next_state)                \n",
    "            \n",
    "            # add edge to graph, using decision as key, and add cost as edge attibute\n",
    "            g.add_edge(state, next_state, decision, cost=cost)   \n",
    "\n",
    "        # if the state is a possible end state, add link to sink\n",
    "        if dpg.is_end_state(instance, state):\n",
    "            g.add_edge(state, dpg.sink_state, -1) \n",
    "        \n",
    "        elif len(decisions) == 0: # if the state is not a possible end state and has no out-arcs\n",
    "            g.remove_node(state)\n",
    "    \n",
    "    return g"
   ]
  },
  {
   "cell_type": "markdown",
   "metadata": {
    "slideshow": {
     "slide_type": "slide"
    }
   },
   "source": [
    "## Generating the network flow model component"
   ]
  },
  {
   "cell_type": "code",
   "execution_count": 65,
   "metadata": {},
   "outputs": [],
   "source": [
    "def build_network_flow_component_dpg(m, dpg, g, flow_size = 1):    \n",
    "    \n",
    "    edge_to_flow_var = {}\n",
    "    \n",
    "    ## add flow var for each edge\n",
    "    for e, data in g.edges.items():\n",
    "        \n",
    "        # add cost if needed (only arcs with cost data)\n",
    "        if \"cost\" in data:\n",
    "            edge_to_flow_var[e] = m.addVar(vtype=GRB.INTEGER, obj = data[\"cost\"] )\n",
    "\n",
    "        else:       \n",
    "            edge_to_flow_var[e] = m.addVar(vtype=GRB.INTEGER)\n",
    "    \n",
    "    \n",
    "    \n",
    "    ## fix sink-source (circulation) flow (<0 means variable flow)\n",
    "    if flow_size > 0:\n",
    "        edge_to_flow_var[ (dpg.sink_state, dpg.source_state, -1)].lb = flow_size\n",
    "        edge_to_flow_var[ (dpg.sink_state, dpg.source_state, -1)].ub = flow_size\n",
    "    \n",
    "            \n",
    "    for v in g.nodes():\n",
    "        m.addConstr(gp.quicksum(edge_to_flow_var[e] for e in g.in_edges(v,keys=True)) == gp.quicksum(edge_to_flow_var[e] for e in g.out_edges(v, keys=True) ))\n",
    "\n",
    "    return edge_to_flow_var\n",
    "\n",
    "\n",
    "        "
   ]
  },
  {
   "cell_type": "markdown",
   "metadata": {
    "slideshow": {
     "slide_type": "slide"
    }
   },
   "source": [
    "## Trying it out: 0/1 KP"
   ]
  },
  {
   "cell_type": "code",
   "execution_count": 66,
   "metadata": {},
   "outputs": [],
   "source": [
    "m = gp.Model(\"knapsack_dpg\")\n",
    "m.ModelSense = GRB.MAXIMIZE\n",
    "g = build_network_dpg (dpg_kp, kp_instance)"
   ]
  },
  {
   "cell_type": "code",
   "execution_count": 67,
   "metadata": {},
   "outputs": [],
   "source": [
    "edge_to_flow_var = build_network_flow_component_dpg(m, dpg_kp, g)"
   ]
  },
  {
   "cell_type": "code",
   "execution_count": 68,
   "metadata": {},
   "outputs": [
    {
     "name": "stdout",
     "output_type": "stream",
     "text": [
      "Gurobi Optimizer version 12.0.1 build v12.0.1rc0 (mac64[arm] - Darwin 24.1.0 24B91)\n",
      "\n",
      "CPU model: Apple M2\n",
      "Thread count: 8 physical cores, 8 logical processors, using up to 8 threads\n",
      "\n",
      "Optimize a model with 22519 rows, 36621 columns and 73240 nonzeros\n",
      "Model fingerprint: 0xe6bb47e5\n",
      "Variable types: 0 continuous, 36621 integer (0 binary)\n",
      "Coefficient statistics:\n",
      "  Matrix range     [1e+00, 1e+00]\n",
      "  Objective range  [7e+00, 1e+03]\n",
      "  Bounds range     [1e+00, 1e+00]\n",
      "  RHS range        [0e+00, 0e+00]\n",
      "Presolve removed 22519 rows and 36621 columns\n",
      "Presolve time: 0.16s\n",
      "Presolve: All rows and columns removed\n",
      "\n",
      "Explored 0 nodes (0 simplex iterations) in 0.18 seconds (0.21 work units)\n",
      "Thread count was 1 (of 8 available processors)\n",
      "\n",
      "Solution count 1: 9147 \n",
      "\n",
      "Optimal solution found (tolerance 1.00e-04)\n",
      "Best objective 9.147000000000e+03, best bound 9.147000000000e+03, gap 0.0000%\n",
      "CPU times: user 183 ms, sys: 24.4 ms, total: 208 ms\n",
      "Wall time: 245 ms\n"
     ]
    },
    {
     "data": {
      "text/plain": [
       "9147.0"
      ]
     },
     "execution_count": 68,
     "metadata": {},
     "output_type": "execute_result"
    }
   ],
   "source": [
    "%%time\n",
    "m.optimize()\n",
    "m.ObjVal"
   ]
  },
  {
   "cell_type": "markdown",
   "metadata": {
    "slideshow": {
     "slide_type": "slide"
    }
   },
   "source": [
    "## Flow Decomposition\n",
    "\n",
    ".. of course, we can also decompose the flow here:"
   ]
  },
  {
   "cell_type": "code",
   "execution_count": 69,
   "metadata": {},
   "outputs": [
    {
     "data": {
      "text/plain": [
       "36621"
      ]
     },
     "execution_count": 69,
     "metadata": {},
     "output_type": "execute_result"
    }
   ],
   "source": [
    "#edge_to_flow_var[((0, 0), (1, 0), np.int64(0))].x\n",
    "\n",
    "len(edge_to_flow_var)\n",
    "\n",
    "#g.number_of_edges()"
   ]
  },
  {
   "cell_type": "code",
   "execution_count": 70,
   "metadata": {},
   "outputs": [],
   "source": [
    "def decompose_flow_to_solution_paths_dpg(edge_to_flow_var, g, dpg):\n",
    "    \n",
    "    paths = []    \n",
    "    ## inoit    \n",
    "    edge_to_remaining_flow = {}    \n",
    "    for e, flow_var in edge_to_flow_var.items():\n",
    "\n",
    "        edge_to_remaining_flow[e]  = round(flow_var.x)        \n",
    "    \n",
    "    circ_edge = (dpg.sink_state, dpg.source_state, -1)   \n",
    "    \n",
    "    while edge_to_remaining_flow[circ_edge] > 0:\n",
    "        edge_to_remaining_flow[circ_edge] -= 1\n",
    "        \n",
    "        decisions = []\n",
    "        node = dpg.source_state\n",
    "        while node != dpg.sink_state:\n",
    "            for node, target_node, decision in g.out_edges(node, keys=True):\n",
    "                if edge_to_remaining_flow[(node, target_node, decision)]  > 0:\n",
    "                    if decision != -1:\n",
    "                        decisions.append(decision)\n",
    "                    edge_to_remaining_flow[(node, target_node, decision)] -= 1                      \n",
    "                    node = target_node \n",
    "                    break                    \n",
    "        paths.append(decisions)                \n",
    "    return paths\n",
    "    \n",
    "    "
   ]
  },
  {
   "cell_type": "code",
   "execution_count": 71,
   "metadata": {},
   "outputs": [
    {
     "data": {
      "text/plain": [
       "[[77, 84, 89, 90, 91, 92, 94, 95, 96, 97, 98, 99]]"
      ]
     },
     "execution_count": 71,
     "metadata": {},
     "output_type": "execute_result"
    }
   ],
   "source": [
    "paths = decompose_flow_to_solution_paths_dpg(edge_to_flow_var, g, dpg_kp)\n",
    "[get_items_from_path(path) for path in paths]"
   ]
  },
  {
   "cell_type": "markdown",
   "metadata": {
    "slideshow": {
     "slide_type": "slide"
    }
   },
   "source": [
    "## Trying it out: Multiple Knapsack Problem"
   ]
  },
  {
   "cell_type": "markdown",
   "metadata": {
    "slideshow": {
     "slide_type": "-"
    }
   },
   "source": [
    "... building a graph for the underlying single-dimensional KP "
   ]
  },
  {
   "cell_type": "code",
   "execution_count": 72,
   "metadata": {
    "slideshow": {
     "slide_type": "-"
    }
   },
   "outputs": [],
   "source": [
    "g = build_network_dpg (dpg_kp, mkp_instance)"
   ]
  },
  {
   "cell_type": "markdown",
   "metadata": {
    "slideshow": {
     "slide_type": "fragment"
    }
   },
   "source": [
    ".. building the MIP model"
   ]
  },
  {
   "cell_type": "code",
   "execution_count": 73,
   "metadata": {
    "slideshow": {
     "slide_type": "-"
    }
   },
   "outputs": [],
   "source": [
    "m = gp.Model(\"knapsack_dpg\")\n",
    "m.ModelSense = GRB.MAXIMIZE\n",
    "g = build_network_dpg (dpg_kp, mkp_instance)\n",
    "\n",
    "# network flow component\n",
    "edge_to_flow_var = build_network_flow_component_dpg(m, dpg_kp, g, mkp_instance.number_of_knapsacks)\n",
    "\n",
    "# create the sets of edges per item\n",
    "item_variables = [[] for i in range(mkp_instance.N)]\n",
    "for e, var in edge_to_flow_var.items():    \n",
    "    if e[2]==1:\n",
    "        item_variables[e[0].item].append(var)        \n",
    "\n",
    "# create the constraints forcing every item to be picked at most onces     \n",
    "for i, item_vars in enumerate(item_variables): \n",
    "    m.addConstr(gp.quicksum(item_var for item_var in item_vars)  <= 1 )                "
   ]
  },
  {
   "cell_type": "markdown",
   "metadata": {
    "slideshow": {
     "slide_type": "fragment"
    }
   },
   "source": [
    "..solving the model"
   ]
  },
  {
   "cell_type": "code",
   "execution_count": 75,
   "metadata": {
    "slideshow": {
     "slide_type": "-"
    }
   },
   "outputs": [
    {
     "name": "stdout",
     "output_type": "stream",
     "text": [
      "Set parameter TimeLimit to value 120\n",
      "Gurobi Optimizer version 12.0.1 build v12.0.1rc0 (mac64[arm] - Darwin 24.1.0 24B91)\n",
      "\n",
      "CPU model: Apple M2\n",
      "Thread count: 8 physical cores, 8 logical processors, using up to 8 threads\n",
      "\n",
      "Non-default parameters:\n",
      "TimeLimit  120\n",
      "\n",
      "Optimize a model with 34961 rows, 58271 columns and 139949 nonzeros\n",
      "Model fingerprint: 0x8657fad7\n",
      "Variable types: 0 continuous, 58271 integer (0 binary)\n",
      "Coefficient statistics:\n",
      "  Matrix range     [1e+00, 1e+00]\n",
      "  Objective range  [7e+00, 1e+03]\n",
      "  Bounds range     [2e+01, 2e+01]\n",
      "  RHS range        [1e+00, 1e+00]\n",
      "Presolved: 16415 rows, 39764 columns, 103363 nonzeros\n",
      "\n",
      "Continuing optimization...\n",
      "\n",
      "   585   303     cutoff   57      40377.0000 40384.2250  0.02%   445  127s\n",
      "   706   424 40380.6230   13  235 40377.0000 40382.2154  0.01%   418  141s\n",
      "\n",
      "Cutting planes:\n",
      "  Gomory: 2\n",
      "  MIR: 4\n",
      "  Zero half: 14\n",
      "\n",
      "Explored 1170 nodes (467041 simplex iterations) in 21.14 seconds (17.14 work units)\n",
      "Thread count was 8 (of 8 available processors)\n",
      "\n",
      "Solution count 10: 40377 40366 40299 ... 37080\n",
      "\n",
      "Optimal solution found (tolerance 1.00e-04)\n",
      "Best objective 4.037700000000e+04, best bound 4.038000000000e+04, gap 0.0074%\n",
      "objective 40377.0 upper bound 40380.0 gap %  0.007\n",
      "CPU times: user 1min 24s, sys: 3.72 s, total: 1min 28s\n",
      "Wall time: 21.1 s\n"
     ]
    }
   ],
   "source": [
    "%%time\n",
    "m.params.TimeLimit = 2*60\n",
    "m.optimize()\n",
    "\n",
    "print(\"objective\", m.ObjVal, \"upper bound\", m.ObjBound, f\"gap %  {100*(m.ObjBound - m.ObjVal) / m.ObjVal:0.3f}\")"
   ]
  },
  {
   "cell_type": "markdown",
   "metadata": {
    "slideshow": {
     "slide_type": "slide"
    }
   },
   "source": [
    "# And now, something completely different"
   ]
  },
  {
   "cell_type": "markdown",
   "metadata": {
    "slideshow": {
     "slide_type": "slide"
    }
   },
   "source": [
    "## Shift Scheduling Problems\n",
    "\n",
    "\n",
    "\n",
    "Given:\n",
    "- a planning horizon (e.g. a day) consisting of time periods $p \\in P$, e.g. 15-min intervals\n",
    "- demand $d_p$: a number of employees needed in period $p$\n",
    "- a (maybe fixed) number of employees / shifts\n",
    "\n",
    "..create a set of shifts $S$ (with possibly fixed cardinality $|S|$) covering that demand in each period\n",
    "\n",
    "- in more complex variants, there may exists multiple types of demands (*multi-activity* case)"
   ]
  },
  {
   "cell_type": "markdown",
   "metadata": {
    "slideshow": {
     "slide_type": "fragment"
    }
   },
   "source": [
    "A shift $s$ \n",
    "- has a start and and end period\n",
    "- needs to respect certaint **rules** such as:\n",
    "  - a given numberof breaks (maybe of different types)\n",
    "  - a minimum and maximum number of consecutive work periods\n",
    "  -  minimum and maximum number of total work periods\n",
    "  \n",
    "  \n",
    "..and there may be different types of shifts (e.g. short and long ones) with different rules"
   ]
  },
  {
   "cell_type": "markdown",
   "metadata": {
    "slideshow": {
     "slide_type": "fragment"
    }
   },
   "source": [
    "Typical objectives / components of objectives:\n",
    "- minimize number of shifts (if not fixed)\n",
    "- minimimize number of work periods\n",
    "- minimize penalty incurred by under- or overcovering of demand"
   ]
  },
  {
   "cell_type": "markdown",
   "metadata": {
    "slideshow": {
     "slide_type": "slide"
    }
   },
   "source": [
    "## An example shift schedule"
   ]
  },
  {
   "attachments": {
    "grafik.png": {
     "image/png": "[encoded data removed]"
    }
   },
   "cell_type": "markdown",
   "metadata": {},
   "source": [
    "![grafik.png](attachment:grafik.png)"
   ]
  },
  {
   "cell_type": "markdown",
   "metadata": {},
   "source": [
    ".. we will start with a simple shift scheduling problem and then become more complex\n",
    "- Variant 1: single activity type, one shift type\n",
    "- Variant 2: single activity type, two shift types\n",
    "- Variant 3: multiple activity types, two shift types\n",
    "\n",
    "We will use a well-known instance set, the \"Demassey instances\" for multi-activity shift scheduling"
   ]
  },
  {
   "cell_type": "markdown",
   "metadata": {
    "slideshow": {
     "slide_type": "slide"
    }
   },
   "source": [
    "## Shift Scheduling, Variant 1\n",
    "\n",
    "#### Given are:\n",
    "- the number of planning periods $|P|$ (15 min per period)\n",
    "- the number of employees / shifts to create $|S|$\n",
    "- demands per period\n",
    "- penalties for under- and overcovering\n",
    "- cost for assigning a period of work\n",
    "\n",
    "#### The shift creation rules are:\n",
    "- every work block is at least 1 hour (4 periods) long\n",
    "- every shift contains a break of 1 period\n",
    "- every shift contains at least 3 hours of work and (strictly) less than 6 hours of work\n",
    "\n",
    "#### The objective is to minimize:\n",
    "- total assignment cost + penalties for under- and overcovering\n"
   ]
  },
  {
   "cell_type": "markdown",
   "metadata": {
    "slideshow": {
     "slide_type": "slide"
    }
   },
   "source": [
    "##  Let us first consider a toy example:\n",
    "\n",
    "\n",
    "<img src=\"img/shift_sen_small.png\" width=\"55%\" align=right >\n",
    "\n",
    "On the right: a state-transition graph (SEN) for this toy problem:\n",
    "\n",
    "- scheduling period: $[0;7]$\n",
    "- one break of 1 period\n",
    "- work block length either 2 or three periods\n",
    "- total work periods <= 5 periods\n",
    "\n",
    "\n",
    "\n",
    "The state contains the following elements:\n",
    "- $s^p$: period (time index) (int)\n",
    "- $s^{nWork}$: numer of periods worked (int)\n",
    "- $s^{hadBreak}$: did we  have a break? (bool)\n",
    "- $s^{prevWork}$: prev. assignment was work (bool)\n",
    "\n",
    "The decisions are **assignments** of work or break blocks\n",
    "\n",
    "\n"
   ]
  },
  {
   "cell_type": "markdown",
   "metadata": {
    "slideshow": {
     "slide_type": "slide"
    }
   },
   "source": [
    "## Shift Scheduling, Variant 1: Defining an instance"
   ]
  },
  {
   "cell_type": "code",
   "execution_count": 76,
   "metadata": {
    "slideshow": {
     "slide_type": "-"
    }
   },
   "outputs": [],
   "source": [
    "class InstanceShift_1(NamedTuple):\n",
    "    number_of_periods : int\n",
    "    number_of_employees : int\n",
    "    min_work_periods : int\n",
    "    max_work_periods : int\n",
    "    length_break : int\n",
    "    min_length_work_block : int\n",
    "    max_length_work_block : int\n",
    "    demands : Any\n",
    "    under_cover_costs : Any\n",
    "    over_cover_costs : Any\n",
    "    cost_assignment : int\n",
    "    "
   ]
  },
  {
   "cell_type": "markdown",
   "metadata": {
    "slideshow": {
     "slide_type": "slide"
    }
   },
   "source": [
    "## Shift Scheduling, Variant 1: Reading an instance"
   ]
  },
  {
   "cell_type": "markdown",
   "metadata": {},
   "source": [
    "...we use a certain well-known instance set from Demassey et. al.:"
   ]
  },
  {
   "cell_type": "code",
   "execution_count": 77,
   "metadata": {},
   "outputs": [],
   "source": [
    "def read_instance_shift_1(filename):\n",
    "    with open(filename) as f:\n",
    "        number_of_periods = int(f.readline())\n",
    "        max_work_periods_per_shift = int(f.readline())\n",
    "        number_of_days_in_horizon = int(f.readline())\n",
    "        is_continous = int(f.readline())\n",
    "        instance_version = int(f.readline())\n",
    "        meaningless_parameter = int(f.readline())\n",
    "        number_of_employees =int(f.readline()[5:])\n",
    "        skills = ([int(n) for n in f.readline()[:-1].split()])\n",
    "        number_of_activities = int(f.readline()[4:])\n",
    "\n",
    "        line_ints = [int(n) for n in f.readline()[:-1].split()]\n",
    "\n",
    "        min_cons = line_ints[0]\n",
    "        max_cons = line_ints[1]\n",
    "        cost_per_activity_assignment = line_ints[2]\n",
    "\n",
    "        activity_demands = []\n",
    "        activity_under_cover_costs = []\n",
    "        activity_over_cover_costs = []\n",
    "\n",
    "        for act in range(number_of_activities):\n",
    "            activity_demands.append([int(n) for n in f.readline()[:-1].split()])\n",
    "            activity_under_cover_costs.append([int(n) for n in f.readline()[:-1].split()])\n",
    "            activity_over_cover_costs.append([int(n) for n in f.readline()[:-1].split()])\n",
    "            f.readline()\n",
    "            f.readline()\n",
    "\n",
    "    return InstanceShift_1(number_of_periods, number_of_employees, 3*4, 8*4, 1, 4, 6*4, activity_demands[0], activity_under_cover_costs[0], activity_over_cover_costs[0], cost_per_activity_assignment  )"
   ]
  },
  {
   "cell_type": "markdown",
   "metadata": {
    "slideshow": {
     "slide_type": "slide"
    }
   },
   "source": [
    "## Creating a generic DP model: Decisions and states\n",
    "\n",
    ".. in this problem, we define a state as all the information we need to check the shift feasibility:"
   ]
  },
  {
   "cell_type": "code",
   "execution_count": 87,
   "metadata": {
    "slideshow": {
     "slide_type": "-"
    }
   },
   "outputs": [],
   "source": [
    "class StateShift_1(NamedTuple):\n",
    "    period : int\n",
    "    periods_worked : int\n",
    "    had_break : bool\n",
    "    prev_type : str\n",
    "        "
   ]
  },
  {
   "cell_type": "markdown",
   "metadata": {
    "slideshow": {
     "slide_type": "fragment"
    }
   },
   "source": [
    "..and a decision consists in assigning a (multi-period) block of work or break:"
   ]
  },
  {
   "cell_type": "code",
   "execution_count": 88,
   "metadata": {
    "slideshow": {
     "slide_type": "-"
    }
   },
   "outputs": [],
   "source": [
    "class Assignment(NamedTuple):\n",
    "    start : int\n",
    "    end : int\n",
    "    type : str\n",
    "        "
   ]
  },
  {
   "cell_type": "markdown",
   "metadata": {
    "slideshow": {
     "slide_type": "slide"
    }
   },
   "source": [
    "## Creating a generic DP model: Source, sink and start states\n",
    "\n",
    "- the source and the sink get \"dummy states\"\n",
    "\n",
    "- the start states all have \"off\" as prev_type (will be treated like a break) and 0 periods worked, and no break\n",
    "- there is one start state for very feasible start period"
   ]
  },
  {
   "cell_type": "code",
   "execution_count": 89,
   "metadata": {
    "slideshow": {
     "slide_type": "-"
    }
   },
   "outputs": [],
   "source": [
    "source_state_shift_1 = StateShift_1(-1, 0, False, \"source\")\n",
    "sink_state_shift_1 = StateShift_1(-1, 0 , False, \"sink\")\n",
    "\n",
    "def start_states_shift_1(instance):\n",
    "    \n",
    "    latest_start_period = instance.number_of_periods - (instance.min_work_periods + instance.length_break)\n",
    "    \n",
    "    return [StateShift_1(p, 0, False, \"off\") for p in range(latest_start_period)]\n",
    "    \n",
    "        "
   ]
  },
  {
   "cell_type": "markdown",
   "metadata": {
    "slideshow": {
     "slide_type": "slide"
    }
   },
   "source": [
    "## Creating a generic DP model: Feasible decisions\n",
    "\n",
    "Decisions are **assignments** of either:\n",
    "- work blocks (there may be multipe work blocks with different lengths starting from a given state)\n",
    "- break blocks (in case there was no break yet\n"
   ]
  },
  {
   "cell_type": "code",
   "execution_count": 90,
   "metadata": {
    "slideshow": {
     "slide_type": "-"
    }
   },
   "outputs": [],
   "source": [
    "def get_feasible_decisions_shift_1(instance, state):\n",
    "    \n",
    "    assignments = []\n",
    "    \n",
    "    ## we add work block arcs\n",
    "    if state.prev_type in [\"off\", \"break\"]:\n",
    "        for length in range(instance.min_length_work_block, instance.max_length_work_block + 1):\n",
    "\n",
    "            # do we exceed the planning period?            \n",
    "            if state.period + length -1 > instance.number_of_periods -1:\n",
    "                break\n",
    "                \n",
    "            if state.periods_worked + length > instance.max_work_periods:\n",
    "                break                \n",
    "            \n",
    "            assignments.append(Assignment(state.period, state.period + length -1, \"work\"))\n",
    "            \n",
    "    elif state.prev_type == \"work\":\n",
    "        \n",
    "        # if we did not have a long break, add one\n",
    "        if not state.had_break:\n",
    "            assignments.append(Assignment(state.period, state.period + instance.length_break -1, \"break\"))\n",
    "    \n",
    "    return assignments\n",
    "            "
   ]
  },
  {
   "cell_type": "markdown",
   "metadata": {
    "slideshow": {
     "slide_type": "slide"
    }
   },
   "source": [
    "## Creating a generic DP model: Transition function, cost function, is end state\n",
    "\n",
    "- a transition function for computing the next state resulting from the assignment and a cost function\n",
    "\n",
    "- a state is a possible end state if it has two work blocks separated by a break and the number of periods worked is feasible (between the min number of periods worked and the max number of periods worked)\n",
    "\n"
   ]
  },
  {
   "cell_type": "code",
   "execution_count": 91,
   "metadata": {
    "slideshow": {
     "slide_type": "-"
    }
   },
   "outputs": [],
   "source": [
    "def transition_function_shift_1(instance, state, assignment):\n",
    "    \n",
    "    length_assignment = assignment.end - assignment.start + 1\n",
    "    \n",
    "    \n",
    "    if assignment.type == \"work\":\n",
    "        return StateShift_1(assignment.end + 1, state.periods_worked + length_assignment, state.had_break, \"work\" )\n",
    "    else:\n",
    "        return StateShift_1(assignment.end + 1, state.periods_worked, True, \"break\" )\n",
    "    \n",
    "def cost_function_shift_1(instance, state, assignment):\n",
    "    if assignment.type == \"work\":\n",
    "        return (assignment.end + 1 - assignment.start) * instance.cost_assignment\n",
    "    return 0\n",
    "    \n",
    "        \n",
    "def is_possible_end_state_shift_1(instance, state):\n",
    "    return state.prev_type == \"work\" and state.had_break and instance.min_work_periods <= state.periods_worked <= instance.max_work_periods\n",
    "     \n",
    "\n",
    "    "
   ]
  },
  {
   "cell_type": "markdown",
   "metadata": {
    "slideshow": {
     "slide_type": "fragment"
    }
   },
   "source": [
    "..and here, the full DP:"
   ]
  },
  {
   "cell_type": "code",
   "execution_count": 92,
   "metadata": {},
   "outputs": [],
   "source": [
    "dpg_shift_1 = DPG(get_feasible_decisions_shift_1, transition_function_shift_1,  cost_function_shift_1, start_states_shift_1, is_possible_end_state_shift_1, source_state_shift_1, sink_state_shift_1, \"min\")\n"
   ]
  },
  {
   "cell_type": "markdown",
   "metadata": {
    "slideshow": {
     "slide_type": "slide"
    }
   },
   "source": [
    "## Shift Scheduling, Variant 1: Trying it out: Getting the instance and building the graph\n",
    "\n",
    "\n"
   ]
  },
  {
   "cell_type": "code",
   "execution_count": 93,
   "metadata": {},
   "outputs": [
    {
     "data": {
      "text/plain": [
       "2"
      ]
     },
     "execution_count": 93,
     "metadata": {},
     "output_type": "execute_result"
    }
   ],
   "source": [
    "\n",
    "filename_shift = \"./../problems/shift_scheduling/instances/shoe_1_1_1_1.txt\"\n",
    "shift_1_instance = read_instance_shift_1(filename_shift)\n",
    "shift_1_instance.number_of_employees"
   ]
  },
  {
   "cell_type": "code",
   "execution_count": 94,
   "metadata": {},
   "outputs": [],
   "source": [
    "g = build_network_dpg(dpg_shift_1, shift_1_instance)"
   ]
  },
  {
   "cell_type": "code",
   "execution_count": 95,
   "metadata": {},
   "outputs": [
    {
     "data": {
      "text/plain": [
       "4949"
      ]
     },
     "execution_count": 95,
     "metadata": {},
     "output_type": "execute_result"
    }
   ],
   "source": [
    "g.number_of_nodes()"
   ]
  },
  {
   "cell_type": "markdown",
   "metadata": {
    "slideshow": {
     "slide_type": "slide"
    }
   },
   "source": [
    "## Shift Scheduling, Variant 1: A MIP model using the DP flow component\n"
   ]
  },
  {
   "cell_type": "markdown",
   "metadata": {},
   "source": [
    "$$\n",
    "   \\mathrm{min} \\sum_{e \\in E}   c_e X_e +  \\sum_{p \\in P} \\bigl( c^\\mathrm{o} Y^\\mathrm{o}_{p} + c^\\mathrm{u} Y^\\mathrm{u}_{p} \\bigr)\n",
    "$$\n",
    "\n",
    "\\begin{align} \n",
    "  \\sum\\limits_{e \\in v^\\mathrm{in}} X_{e} &= \\sum\\limits_{e \\in v^\\mathrm{out}} X_{e} &\\forall v \\in N \\qquad  &\\text{flow balance} \\\\ %\\label{eq:flow_balance} \\\\\n",
    "    X_{e^\\mathrm{circ}}&=n  %\\label{eq:total_flow} \n",
    "    &\\qquad  &\\text{fix the numer of employees}\\\\\n",
    "  \\sum\\limits_{e \\in E^\\mathrm{cov}_{p}} X_{e} + Y^\\mathrm{u}_{p} - Y^\\mathrm{o}_{p} &= d_{p} &\\forall  p \\in P \\qquad  &\\text{demand covering} \\\\ %\\label{eq:cover}\\\\\n",
    "  X_e &\\in \\mathbb{Z}^+_0  &\\forall e \\in E %\\label{eq:flow_domains} \n",
    "  \\qquad  & \\\\ \n",
    "  Y^\\mathrm{o}_{p} \\geq 0, \\quad Y^\\mathrm{u}_{p} &\\geq 0 &\\forall p \\in P \\qquad  & %\\label{eq:cover_domains}\n",
    "\\end{align}\n",
    "\n"
   ]
  },
  {
   "cell_type": "markdown",
   "metadata": {},
   "source": [
    "\n",
    "**Observe:** The demand covering is a soft constraint, and we have two slack variables that are penalized in the objective"
   ]
  },
  {
   "cell_type": "markdown",
   "metadata": {
    "slideshow": {
     "slide_type": "slide"
    }
   },
   "source": [
    "## Shift Scheduling, Variant 1: Trying it out: Building the model\n",
    "\n",
    "\n",
    "..we can re-use the build network flow component stuff"
   ]
  },
  {
   "cell_type": "code",
   "execution_count": 97,
   "metadata": {},
   "outputs": [],
   "source": [
    "m = gp.Model(\"Shift_1\")\n",
    "\n",
    "edge_to_flow_var = build_network_flow_component_dpg(m, dpg_shift_1, g, flow_size = shift_1_instance.number_of_employees)"
   ]
  },
  {
   "cell_type": "markdown",
   "metadata": {},
   "source": [
    ".. now the cover constraints:"
   ]
  },
  {
   "cell_type": "code",
   "execution_count": 98,
   "metadata": {},
   "outputs": [],
   "source": [
    "## collect the edges covering the periods:\n",
    "period_cover_vars = [ [] for p in range(shift_1_instance.number_of_periods)]\n",
    "for e in g.edges(keys=True):\n",
    "    if type(e[2]) == Assignment and e[2].type == \"work\":\n",
    "        for p in range(e[2].start, e[2].end+1):\n",
    "            period_cover_vars[p].append(edge_to_flow_var[e])\n",
    "            \n",
    "## create the under- and overcovering variables and the cover constraints\n",
    "for p, cover_vars in enumerate(period_cover_vars):\n",
    "    under_cover_var = m.addVar(vtype=GRB.INTEGER, obj = shift_1_instance.under_cover_costs[p] ) \n",
    "    over_cover_var = m.addVar(vtype=GRB.INTEGER, obj = shift_1_instance.over_cover_costs[p] ) \n",
    "    \n",
    "    m.addConstr( gp.quicksum(cover_var for cover_var in cover_vars) + under_cover_var == shift_1_instance.demands[p] + over_cover_var )\n",
    "\n"
   ]
  },
  {
   "cell_type": "markdown",
   "metadata": {
    "slideshow": {
     "slide_type": "slide"
    }
   },
   "source": [
    "## Shift Scheduling, Variant 1: Solving the model\n",
    "\n"
   ]
  },
  {
   "cell_type": "code",
   "execution_count": 100,
   "metadata": {},
   "outputs": [
    {
     "name": "stdout",
     "output_type": "stream",
     "text": [
      "Gurobi Optimizer version 12.0.1 build v12.0.1rc0 (mac64[arm] - Darwin 24.1.0 24B91)\n",
      "\n",
      "CPU model: Apple M2\n",
      "Thread count: 8 physical cores, 8 logical processors, using up to 8 threads\n",
      "\n",
      "Optimize a model with 5045 rows, 26375 columns and 326290 nonzeros\n",
      "Model fingerprint: 0x89f17031\n",
      "Variable types: 0 continuous, 26375 integer (0 binary)\n",
      "Coefficient statistics:\n",
      "  Matrix range     [1e+00, 1e+00]\n",
      "  Objective range  [2e+01, 4e+02]\n",
      "  Bounds range     [2e+00, 2e+00]\n",
      "  RHS range        [1e+00, 2e+00]\n",
      "Presolved: 688 rows, 6327 columns, 58334 nonzeros\n",
      "\n",
      "Continuing optimization...\n",
      "\n",
      "\n",
      "Cutting planes:\n",
      "  Gomory: 1\n",
      "  MIR: 3\n",
      "\n",
      "Explored 1 nodes (391 simplex iterations) in 0.01 seconds (0.00 work units)\n",
      "Thread count was 8 (of 8 available processors)\n",
      "\n",
      "Solution count 3: 825 830 3400 \n",
      "\n",
      "Optimal solution found (tolerance 1.00e-04)\n",
      "Best objective 8.250000000000e+02, best bound 8.250000000000e+02, gap 0.0000%\n",
      "CPU times: user 12.2 ms, sys: 5.93 ms, total: 18.1 ms\n",
      "Wall time: 15 ms\n"
     ]
    },
    {
     "data": {
      "text/plain": [
       "825.0"
      ]
     },
     "execution_count": 100,
     "metadata": {},
     "output_type": "execute_result"
    }
   ],
   "source": [
    "%%time\n",
    "m.optimize()\n",
    "m.ObjVal"
   ]
  },
  {
   "cell_type": "code",
   "execution_count": 101,
   "metadata": {},
   "outputs": [
    {
     "data": {
      "text/plain": [
       "[[Assignment(start=36, end=50, type='work'),\n",
       "  Assignment(start=51, end=51, type='break'),\n",
       "  Assignment(start=52, end=55, type='work')],\n",
       " [Assignment(start=51, end=55, type='work'),\n",
       "  Assignment(start=56, end=56, type='break'),\n",
       "  Assignment(start=57, end=67, type='work')]]"
      ]
     },
     "execution_count": 101,
     "metadata": {},
     "output_type": "execute_result"
    }
   ],
   "source": [
    "decompose_flow_to_solution_paths_dpg(edge_to_flow_var, g, dpg_shift_1)"
   ]
  },
  {
   "cell_type": "markdown",
   "metadata": {
    "slideshow": {
     "slide_type": "slide"
    }
   },
   "source": [
    "## Shift Scheduling, Variant 2\n",
    "\n",
    "#### Given are:\n",
    "- the number of planning periods $|P|$ (15 min per period)\n",
    "- the number of employees / shifts to create $|S|$\n",
    "- demands per period\n",
    "- penalties for under- and overcovering\n",
    "- cost for assigning a period of work\n",
    "\n",
    "#### There are two shift types.\n",
    "- every work block is at least 1 hour (4 periods) long\n",
    "\n",
    "Shift type 1 (short shift) is defined as in variant 1\n",
    "- every shift contains a break of 1 period\n",
    "- every shift contains at least 3 hours of work and (strictly) less than 6 hours of work\n",
    "\n",
    "Shift type 2 (long shift) is defined as follows:\n",
    "- every work block is at least 1 hour (4 periods) long\n",
    "- every shift contains two short breaks of 1 period and one long break of 1 hour (4 periods)\n",
    "- every shift contains at least 6 hours of work and at most 8 hours of work\n",
    "\n",
    "#### The objective is to minimize:\n",
    "- total assignment cost + penalties for under- and overcovering\n"
   ]
  },
  {
   "cell_type": "markdown",
   "metadata": {
    "slideshow": {
     "slide_type": "slide"
    }
   },
   "source": [
    "## Shift Scheduling, Variant 2: Defining an instance"
   ]
  },
  {
   "cell_type": "code",
   "execution_count": 102,
   "metadata": {},
   "outputs": [],
   "source": [
    "class InstanceShift_2(NamedTuple):\n",
    "    number_of_periods : int\n",
    "    number_of_employees : int\n",
    "    min_work_periods_short : int # new\n",
    "    min_work_periods_long: int # new\n",
    "    max_work_periods_short : int # new\n",
    "    max_work_periods_long : int # new\n",
    "    length_break_short : int # new\n",
    "    length_break_long : int # new\n",
    "    min_length_work_block : int\n",
    "    max_length_work_block : int\n",
    "    demands : Any\n",
    "    under_cover_costs : Any\n",
    "    over_cover_costs : Any\n",
    "    cost_assignment : int"
   ]
  },
  {
   "cell_type": "markdown",
   "metadata": {
    "slideshow": {
     "slide_type": "slide"
    }
   },
   "source": [
    "## Shift Scheduling, Variant 2: Reading an instance"
   ]
  },
  {
   "cell_type": "code",
   "execution_count": 103,
   "metadata": {},
   "outputs": [],
   "source": [
    "def read_instance_shift_2(filename):\n",
    "    with open(filename) as f:\n",
    "        number_of_periods = int(f.readline())\n",
    "        max_work_periods_per_shift = int(f.readline())\n",
    "        number_of_days_in_horizon = int(f.readline())\n",
    "        is_continous = int(f.readline())\n",
    "        instance_version = int(f.readline())\n",
    "        meaningless_parameter = int(f.readline())\n",
    "        number_of_employees =int(f.readline()[5:])\n",
    "        skills = ([int(n) for n in f.readline()[:-1].split()])\n",
    "        number_of_activities = int(f.readline()[4:])\n",
    "\n",
    "        line_ints = [int(n) for n in f.readline()[:-1].split()]\n",
    "\n",
    "        min_cons = line_ints[0]\n",
    "        max_cons = line_ints[1]\n",
    "        cost_per_activity_assignment = line_ints[2]\n",
    "\n",
    "        activity_demands = []\n",
    "        activity_under_cover_costs = []\n",
    "        activity_over_cover_costs = []\n",
    "\n",
    "        for act in range(number_of_activities):\n",
    "            activity_demands.append([int(n) for n in f.readline()[:-1].split()])\n",
    "            activity_under_cover_costs.append([int(n) for n in f.readline()[:-1].split()])\n",
    "            activity_over_cover_costs.append([int(n) for n in f.readline()[:-1].split()])\n",
    "            f.readline()\n",
    "            f.readline()\n",
    "\n",
    "    return InstanceShift_2(number_of_periods, number_of_employees, 3*4, 6*4, 6*4-1, 8*4, 1, 4, 4, 6*4, activity_demands[0], activity_under_cover_costs[0], activity_over_cover_costs[0], cost_per_activity_assignment  )"
   ]
  },
  {
   "cell_type": "code",
   "execution_count": 104,
   "metadata": {},
   "outputs": [],
   "source": [
    "filename_shift = \"./../problems/shift_scheduling/instances/shoe_1_1_1_1.txt\"\n",
    "shift_2_instance = read_instance_shift_2(filename_shift)\n"
   ]
  },
  {
   "cell_type": "markdown",
   "metadata": {
    "slideshow": {
     "slide_type": "slide"
    }
   },
   "source": [
    "## Shift Scheduling, Variant 2: Defining the state and source, sink and start states\n",
    ".. assignment object stays the same\n",
    "\n",
    "but we augment the state variable by:\n",
    "\n",
    "- had_long_break\n",
    "- number_of_short_breaks\n",
    "\n",
    "Observe: using the augmented state information, we can distinguish short and long shifts:\n",
    "- we automatically have a long shift if we had one long break\n",
    "- we have a short shift if we have a single short break\n",
    "\n"
   ]
  },
  {
   "cell_type": "code",
   "execution_count": 105,
   "metadata": {},
   "outputs": [],
   "source": [
    "class StateShift_2(NamedTuple):\n",
    "    period : int\n",
    "    periods_worked : int\n",
    "    number_short_breaks : int # new\n",
    "    had_long_break : bool # new\n",
    "    prev_type : str"
   ]
  },
  {
   "cell_type": "markdown",
   "metadata": {
    "slideshow": {
     "slide_type": "fragment"
    }
   },
   "source": [
    "..source and sink state"
   ]
  },
  {
   "cell_type": "code",
   "execution_count": 106,
   "metadata": {},
   "outputs": [],
   "source": [
    "source_state_shift_2 = StateShift_2(-1, 0, 0, False, \"source\")\n",
    "sink_state_shift_2 = StateShift_2(-1, 0, 0, False, \"sink\")\n"
   ]
  },
  {
   "cell_type": "markdown",
   "metadata": {
    "slideshow": {
     "slide_type": "fragment"
    }
   },
   "source": [
    "..start states"
   ]
  },
  {
   "cell_type": "code",
   "execution_count": 107,
   "metadata": {},
   "outputs": [],
   "source": [
    "def start_states_shift_2(instance):\n",
    "    \n",
    "    latest_start_period = instance.number_of_periods - (instance.min_work_periods_short + instance.length_break_short +1)\n",
    "    \n",
    "    return [StateShift_2(p, 0, 0, False, \"off\") for p in range(latest_start_period)]\n",
    "    \n",
    "        "
   ]
  },
  {
   "cell_type": "markdown",
   "metadata": {
    "slideshow": {
     "slide_type": "slide"
    }
   },
   "source": [
    "## Creating a generic DP model: Feasible decisions\n",
    "- now, we have more break options!"
   ]
  },
  {
   "cell_type": "code",
   "execution_count": 100,
   "metadata": {},
   "outputs": [],
   "source": [
    "def get_feasible_decisions_shift_2(instance, state):\n",
    "    \n",
    "    assignments = []\n",
    "    \n",
    "    ## we add work block arcs\n",
    "    if state.prev_type in [\"off\", \"break\"]:\n",
    "        for length in range(instance.min_length_work_block, instance.max_length_work_block+1):\n",
    "            \n",
    "            # do we exceed the planning period?            \n",
    "            if state.period + length -1 > instance.number_of_periods -1:\n",
    "                break\n",
    "            \n",
    "            ## maximum work periods            \n",
    "            if state.periods_worked + length > instance.max_work_periods_long:\n",
    "                break            \n",
    "\n",
    "            assignments.append(Assignment(state.period, state.period + length -1, \"work\"))\n",
    "            \n",
    "    elif state.prev_type == \"work\":        \n",
    "        # if we did not have a long break, add one\n",
    "        if not state.had_long_break:\n",
    "            assignments.append(Assignment(state.period, state.period + instance.length_break_long -1, \"break_long\"))\n",
    "            \n",
    "        # if we had less than 2 short breaks, add one\n",
    "        if state.number_short_breaks < 2:\n",
    "            assignments.append(Assignment(state.period, state.period + instance.length_break_short -1, \"break_short\"))\n",
    "            \n",
    "    return assignments\n",
    "\n",
    "\n",
    "     "
   ]
  },
  {
   "cell_type": "markdown",
   "metadata": {
    "slideshow": {
     "slide_type": "slide"
    }
   },
   "source": [
    "## Creating a generic DP model: Transition function, cost function, is end state\n",
    "\n",
    "- for the possible end states, we now need to recognize if we are in a short or long shift and check the "
   ]
  },
  {
   "cell_type": "code",
   "execution_count": 101,
   "metadata": {},
   "outputs": [],
   "source": [
    "def transition_function_shift_2(instance, state, assignment):\n",
    "    \n",
    "    length_assignment = assignment.end - assignment.start +1\n",
    "    \n",
    "    if assignment.type == \"work\":\n",
    "        return StateShift_2(assignment.end + 1, state.periods_worked + length_assignment, state.number_short_breaks, state.had_long_break, \"work\" )\n",
    "    \n",
    "    elif assignment.type == \"break_short\":\n",
    "        return StateShift_2(assignment.end + 1, state.periods_worked, state.number_short_breaks +1, state.had_long_break, \"break\" )\n",
    "    \n",
    "    else: # assignment.type == \"break_long\":\n",
    "        return StateShift_2(assignment.end + 1, state.periods_worked, state.number_short_breaks, True, \"break\" )\n",
    "   \n",
    "\n",
    "def cost_function_shift_2(instance, state, assignment):\n",
    "    if assignment.type == \"work\":\n",
    "        return (assignment.end + 1 - assignment.start) * instance.cost_assignment\n",
    "    return 0   \n",
    "        \n",
    "\n",
    "def is_possible_end_state_shift_2(instance, state):\n",
    "    \n",
    "    if not state.prev_type == \"work\":\n",
    "        return False\n",
    "    \n",
    "    # check if feasible long shift\n",
    "    if state.had_long_break:    \n",
    "        return (state.number_short_breaks == 2) and ( instance.min_work_periods_long <= state.periods_worked <= instance.max_work_periods_long )\n",
    "        \n",
    "    else:\n",
    "        return (state.number_short_breaks == 1) and ( instance.min_work_periods_short <= state.periods_worked <= instance.max_work_periods_short )\n",
    "        \n",
    "    "
   ]
  },
  {
   "cell_type": "markdown",
   "metadata": {
    "slideshow": {
     "slide_type": "fragment"
    }
   },
   "source": [
    "..and now, the full dpg object"
   ]
  },
  {
   "cell_type": "code",
   "execution_count": 102,
   "metadata": {},
   "outputs": [],
   "source": [
    "dpg_shift_2 = DPG(get_feasible_decisions_shift_2, transition_function_shift_2,  cost_function_shift_2, start_states_shift_2, is_possible_end_state_shift_2, source_state_shift_2, sink_state_shift_2, \"min\")"
   ]
  },
  {
   "cell_type": "markdown",
   "metadata": {
    "slideshow": {
     "slide_type": "slide"
    }
   },
   "source": [
    "## Shift Scheduling, Variant 2: Trying it out: Getting the instance and building the graph\n"
   ]
  },
  {
   "cell_type": "code",
   "execution_count": 103,
   "metadata": {},
   "outputs": [
    {
     "data": {
      "text/plain": [
       "2"
      ]
     },
     "execution_count": 103,
     "metadata": {},
     "output_type": "execute_result"
    }
   ],
   "source": [
    "filename_shift = \"./../problems/shift_scheduling/instances/shoe_1_1_1_1.txt\"\n",
    "shift_2_instance = read_instance_shift_2(filename_shift)\n",
    "shift_2_instance.number_of_employees"
   ]
  },
  {
   "cell_type": "markdown",
   "metadata": {
    "slideshow": {
     "slide_type": "fragment"
    }
   },
   "source": [
    "..building the graph"
   ]
  },
  {
   "cell_type": "code",
   "execution_count": 104,
   "metadata": {},
   "outputs": [],
   "source": [
    "g = build_network_dpg(dpg_shift_2, shift_2_instance)"
   ]
  },
  {
   "cell_type": "code",
   "execution_count": 105,
   "metadata": {},
   "outputs": [
    {
     "data": {
      "text/plain": [
       "16355"
      ]
     },
     "execution_count": 105,
     "metadata": {},
     "output_type": "execute_result"
    }
   ],
   "source": [
    "g.number_of_nodes()"
   ]
  },
  {
   "cell_type": "markdown",
   "metadata": {
    "slideshow": {
     "slide_type": "slide"
    }
   },
   "source": [
    "## Shift Scheduling, Variant 2: Building the mathematical model\n",
    "\n"
   ]
  },
  {
   "cell_type": "code",
   "execution_count": 106,
   "metadata": {},
   "outputs": [],
   "source": [
    "m = gp.Model(\"shift_2\")\n",
    "\n",
    "edge_to_flow_var = build_network_flow_component_dpg(m, dpg_shift_2, g, flow_size = shift_2_instance.number_of_employees)"
   ]
  },
  {
   "cell_type": "markdown",
   "metadata": {},
   "source": [
    "...cover constraints"
   ]
  },
  {
   "cell_type": "code",
   "execution_count": 107,
   "metadata": {},
   "outputs": [],
   "source": [
    "## collect the edges covering the periods\n",
    "\n",
    "period_cover_vars = [ [] for p in range(shift_2_instance.number_of_periods)]\n",
    "\n",
    "for e in g.edges(keys=True):\n",
    "    if type(e[2]) == Assignment and e[2].type == \"work\":\n",
    "        for p in range(e[2].start, e[2].end+1):\n",
    "            period_cover_vars[p].append(edge_to_flow_var[e])            \n",
    "\n",
    "## create the under- and overcovering variables and the cover constraints\n",
    "for p, cover_vars in enumerate(period_cover_vars):\n",
    "    under_cover_var = m.addVar(vtype=GRB.INTEGER, obj = shift_2_instance.under_cover_costs[p] ) \n",
    "    over_cover_var = m.addVar(vtype=GRB.INTEGER, obj = shift_2_instance.over_cover_costs[p] ) \n",
    "    \n",
    "    m.addConstr( gp.quicksum(cover_var for cover_var in cover_vars) + under_cover_var == shift_2_instance.demands[p] + over_cover_var )\n",
    "\n"
   ]
  },
  {
   "cell_type": "markdown",
   "metadata": {},
   "source": [
    "## Shift Scheduling, Variant 2: Solving the model"
   ]
  },
  {
   "cell_type": "code",
   "execution_count": 108,
   "metadata": {},
   "outputs": [
    {
     "name": "stdout",
     "output_type": "stream",
     "text": [
      "Gurobi Optimizer version 12.0.0 build v12.0.0rc1 (win64 - Windows 10.0 (19045.2))\n",
      "\n",
      "CPU model: Intel(R) Core(TM) i7-10750H CPU @ 2.60GHz, instruction set [SSE2|AVX|AVX2]\n",
      "Thread count: 6 physical cores, 12 logical processors, using up to 12 threads\n",
      "\n",
      "Optimize a model with 16451 rows, 95416 columns and 1116927 nonzeros\n",
      "Model fingerprint: 0x4007c32f\n",
      "Variable types: 0 continuous, 95416 integer (0 binary)\n",
      "Coefficient statistics:\n",
      "  Matrix range     [1e+00, 1e+00]\n",
      "  Objective range  [2e+01, 4e+02]\n",
      "  Bounds range     [2e+00, 2e+00]\n",
      "  RHS range        [1e+00, 2e+00]\n",
      "Found heuristic solution: objective 6160.0000000\n",
      "Presolve removed 14363 rows and 76364 columns\n",
      "Presolve time: 0.74s\n",
      "Presolved: 2088 rows, 19052 columns, 162340 nonzeros\n",
      "Found heuristic solution: objective 3400.0000000\n",
      "Variable types: 0 continuous, 19052 integer (0 binary)\n",
      "Deterministic concurrent LP optimizer: primal and dual simplex\n",
      "Showing primal log only...\n",
      "\n",
      "Concurrent spin time: 0.01s\n",
      "\n",
      "Solved with primal simplex\n",
      "\n",
      "Root relaxation: objective 7.437500e+02, 4253 iterations, 0.20 seconds (0.28 work units)\n",
      "\n",
      "    Nodes    |    Current Node    |     Objective Bounds      |     Work\n",
      " Expl Unexpl |  Obj  Depth IntInf | Incumbent    BestBd   Gap | It/Node Time\n",
      "\n",
      "     0     0  743.75000    0   21 3400.00000  743.75000  78.1%     -    1s\n",
      "H    0     0                     830.0000000  743.75000  10.4%     -    1s\n",
      "*    0     0               0     825.0000000  825.00000  0.00%     -    1s\n",
      "\n",
      "Cutting planes:\n",
      "  Gomory: 1\n",
      "  MIR: 1\n",
      "  StrongCG: 2\n",
      "  Zero half: 1\n",
      "\n",
      "Explored 1 nodes (4623 simplex iterations) in 1.29 seconds (2.88 work units)\n",
      "Thread count was 12 (of 12 available processors)\n",
      "\n",
      "Solution count 4: 825 830 3400 6160 \n",
      "\n",
      "Optimal solution found (tolerance 1.00e-04)\n",
      "Best objective 8.250000000000e+02, best bound 8.250000000000e+02, gap 0.0000%\n",
      "CPU times: total: 2 s\n",
      "Wall time: 1.34 s\n"
     ]
    },
    {
     "data": {
      "text/plain": [
       "825.0"
      ]
     },
     "execution_count": 108,
     "metadata": {},
     "output_type": "execute_result"
    }
   ],
   "source": [
    "%%time\n",
    "m.optimize()\n",
    "\n",
    "m.ObjVal"
   ]
  },
  {
   "cell_type": "code",
   "execution_count": 109,
   "metadata": {},
   "outputs": [
    {
     "data": {
      "text/plain": [
       "[[Assignment(start=36, end=50, type='work'),\n",
       "  Assignment(start=51, end=51, type='break_short'),\n",
       "  Assignment(start=52, end=55, type='work')],\n",
       " [Assignment(start=51, end=56, type='work'),\n",
       "  Assignment(start=57, end=57, type='break_short'),\n",
       "  Assignment(start=58, end=67, type='work')]]"
      ]
     },
     "execution_count": 109,
     "metadata": {},
     "output_type": "execute_result"
    }
   ],
   "source": [
    "decompose_flow_to_solution_paths_dpg(edge_to_flow_var, g, dpg_shift_2)"
   ]
  },
  {
   "attachments": {
    "grafik.png": {
     "image/png": "[encoded data removed]"
    }
   },
   "cell_type": "markdown",
   "metadata": {},
   "source": [
    "## Shift Scheduling, Variant 3: Two shift types, multiple activities\n",
    "\n",
    "So far, we do have a model for a single-activity problem.\n",
    "\n",
    "- now we consider different types of demand / activity types\n",
    "- every employee can cover every activity type\n",
    "- every block of work consists of a single activity type\n",
    "\n",
    "\n",
    "![grafik.png](attachment:grafik.png)\n",
    "\n",
    "\n",
    "- how can we change our model to adapt to this setting?"
   ]
  },
  {
   "cell_type": "markdown",
   "metadata": {
    "slideshow": {
     "slide_type": "slide"
    }
   },
   "source": [
    "## Shift Scheduling, Variant 3: Defining an instance"
   ]
  },
  {
   "cell_type": "code",
   "execution_count": 110,
   "metadata": {},
   "outputs": [],
   "source": [
    "class InstanceShift_3(NamedTuple):\n",
    "    number_of_periods : int\n",
    "    number_of_employees : int\n",
    "    number_of_activities : int\n",
    "    min_work_periods_short : int # new\n",
    "    min_work_periods_long: int # new\n",
    "    max_work_periods_short : int # new\n",
    "    max_work_periods_long : int # new\n",
    "    length_break_short : int # new\n",
    "    length_break_long : int # new\n",
    "    min_length_work_block : int\n",
    "    max_length_work_block : int\n",
    "    activity_demands : Any\n",
    "    activity_under_cover_costs : Any\n",
    "    activity_over_cover_costs : Any\n",
    "    cost_assignment : int"
   ]
  },
  {
   "cell_type": "markdown",
   "metadata": {
    "slideshow": {
     "slide_type": "slide"
    }
   },
   "source": [
    "## Shift Scheduling, Variant 3: Reading an instance"
   ]
  },
  {
   "cell_type": "code",
   "execution_count": 111,
   "metadata": {},
   "outputs": [],
   "source": [
    "def read_instance_shift_3(filename):\n",
    "    with open(filename) as f:\n",
    "        number_of_periods = int(f.readline())\n",
    "        max_work_periods_per_shift = int(f.readline())\n",
    "        number_of_days_in_horizon = int(f.readline())\n",
    "        is_continous = int(f.readline())\n",
    "        instance_version = int(f.readline())\n",
    "        meaningless_parameter = int(f.readline())\n",
    "        number_of_employees =int(f.readline()[5:])\n",
    "        skills = ([int(n) for n in f.readline()[:-1].split()])\n",
    "        number_of_activities = int(f.readline()[4:])\n",
    "\n",
    "        line_ints = [int(n) for n in f.readline()[:-1].split()]\n",
    "\n",
    "        min_cons = line_ints[0]\n",
    "        max_cons = line_ints[1]\n",
    "        cost_per_activity_assignment = line_ints[2]\n",
    "\n",
    "        activity_demands = []\n",
    "        activity_under_cover_costs = []\n",
    "        activity_over_cover_costs = []\n",
    "\n",
    "        for act in range(number_of_activities):\n",
    "            activity_demands.append([int(n) for n in f.readline()[:-1].split()])\n",
    "            activity_under_cover_costs.append([int(n) for n in f.readline()[:-1].split()])\n",
    "            activity_over_cover_costs.append([int(n) for n in f.readline()[:-1].split()])\n",
    "            f.readline()\n",
    "            f.readline()\n",
    "\n",
    "    return InstanceShift_3(number_of_periods, number_of_employees, number_of_activities, 3*4, 6*4, 6*4-1, 8*4, 1, 4, 4, 6*4, activity_demands, activity_under_cover_costs, activity_over_cover_costs, cost_per_activity_assignment  )"
   ]
  },
  {
   "cell_type": "code",
   "execution_count": 112,
   "metadata": {},
   "outputs": [
    {
     "data": {
      "text/plain": [
       "2"
      ]
     },
     "execution_count": 112,
     "metadata": {},
     "output_type": "execute_result"
    }
   ],
   "source": [
    "filename_shift = \"./../problems/shift_scheduling/instances/shoe_1_2_1_1.txt\"\n",
    "shift_3_instance = read_instance_shift_3(filename_shift)\n",
    "shift_3_instance.number_of_activities"
   ]
  },
  {
   "attachments": {
    "grafik.png": {
     "image/png": "[encoded data removed]"
    }
   },
   "cell_type": "markdown",
   "metadata": {
    "slideshow": {
     "slide_type": "slide"
    }
   },
   "source": [
    "## Shift Scheduling, Variant 3: A key modeling idea: Template Blocks\n",
    "\n",
    "![grafik.png](attachment:grafik.png)"
   ]
  },
  {
   "attachments": {
    "grafik.png": {
     "image/png": "[encoded data removed]"
    }
   },
   "cell_type": "markdown",
   "metadata": {
    "slideshow": {
     "slide_type": "slide"
    }
   },
   "source": [
    "## Shift Scheduling, Variant 3: A key modeling idea: Template Blocks\n",
    "![grafik.png](attachment:grafik.png)"
   ]
  },
  {
   "cell_type": "markdown",
   "metadata": {
    "slideshow": {
     "slide_type": "slide"
    }
   },
   "source": [
    "## The template block approach in more detail\n",
    "\n",
    "**Observe:**\n",
    "- each work block arises in several arcs in the network\n",
    "- separating each of them by activity introduces lots of symmetry\n",
    "\n",
    "**Model idea**\n",
    "- build a single-activity model and consider those work assignements as \"template blocks\"\n",
    "- then make sure that  block $b$ (defined by start- and end-time), the number of \"activity-specific\" blocks used for covering the activity-specific demand equals the total size of the  flow through an edge representing $b$ in the \"template network\"\n"
   ]
  },
  {
   "cell_type": "markdown",
   "metadata": {
    "slideshow": {
     "slide_type": "fragment"
    }
   },
   "source": [
    "\\begin{align} \n",
    "    \\sum\\limits_{e \\in E^{\\mathrm{\\square}}_{b}} X_{e} = \\sum\\limits_{a \\in A^b}  &X^\\square_{b,a}  &\\forall b \\in B_{\\square}  \\\\\n",
    "      \\sum\\limits_{b \\in B^\\mathrm{cov}_{a,p}} X^\\square_{b,a} + Y^\\mathrm{u}_{a,p} - Y^\\mathrm{o}_{a,p} &= d_{a,p} &\\forall a \\in A, p \\in P \\label{eq:cover-activity-blocks} \\\\\n",
    "  X^{\\square}_{b,a}  &\\in \\mathbb{Z}^{+}_{0} &\\forall a \\in A, B \\in B_a  \\label{eq:activity_block_domain}\n",
    "\\end{align}"
   ]
  },
  {
   "cell_type": "markdown",
   "metadata": {
    "slideshow": {
     "slide_type": "slide"
    }
   },
   "source": [
    "## Building the model: Single-Activity flow"
   ]
  },
  {
   "cell_type": "markdown",
   "metadata": {
    "slideshow": {
     "slide_type": "-"
    }
   },
   "source": [
    "- create the single-activity flow"
   ]
  },
  {
   "cell_type": "code",
   "execution_count": 113,
   "metadata": {
    "slideshow": {
     "slide_type": "-"
    }
   },
   "outputs": [],
   "source": [
    "g = build_network_dpg(dpg_shift_2, shift_3_instance)"
   ]
  },
  {
   "cell_type": "code",
   "execution_count": 114,
   "metadata": {},
   "outputs": [],
   "source": [
    "m=gp.Model(\"shift_3\")\n",
    "\n",
    "edge_to_flow_var = build_network_flow_component_dpg(m, dpg_shift_2, g, flow_size = shift_2_instance.number_of_employees)"
   ]
  },
  {
   "cell_type": "markdown",
   "metadata": {
    "slideshow": {
     "slide_type": "slide"
    }
   },
   "source": [
    "## Building the model: The additional constraints\n"
   ]
  },
  {
   "cell_type": "code",
   "execution_count": 115,
   "metadata": {},
   "outputs": [],
   "source": [
    "## cover constraints\n",
    "\n",
    "#collect work blocks\n",
    "work_block_to_vars = dict()\n",
    "\n",
    "for e in g.edges(keys=True):\n",
    "    if type(e[2]) == Assignment and e[2].type == \"work\":\n",
    "        if e[2] not in work_block_to_vars:\n",
    "            work_block_to_vars[e[2]] = []\n",
    "        work_block_to_vars[e[2]].append(edge_to_flow_var[e])\n",
    " \n",
    "\n",
    "## create activity blocks for each work block\n",
    "\n",
    "activity_period_cover_vars = []\n",
    "\n",
    "for activity in range(shift_3_instance.number_of_activities):\n",
    "    activity_period_cover_vars.append([])\n",
    "    for p in range(shift_3_instance.number_of_periods):\n",
    "        activity_period_cover_vars[activity].append([])\n",
    "\n",
    "for work_block, work_block_variables in work_block_to_vars.items():\n",
    "    act_block_vars =[]\n",
    "    for a in range(shift_3_instance.number_of_activities):\n",
    "\n",
    "        act_block_var = m.addVar(vtype=GRB.INTEGER)\n",
    "        act_block_vars.append(act_block_var)     \n",
    "        \n",
    "        for p in range(work_block.start, work_block.end+1):\n",
    "            activity_period_cover_vars[a][p].append(act_block_var)\n",
    "            \n",
    "        m.addConstr(gp.quicksum(act_block_var for act_block_var in act_block_vars) == gp.quicksum( work_block_var for work_block_var in work_block_variables  ))\n",
    "\n",
    "\n",
    "for a in range(shift_3_instance.number_of_activities):      \n",
    "\n",
    "    for p, cover_vars in enumerate(activity_period_cover_vars[a]):\n",
    "        under_cover_var = m.addVar(vtype=GRB.INTEGER, obj = shift_3_instance.activity_under_cover_costs[a][p] ) \n",
    "        over_cover_var = m.addVar(vtype=GRB.INTEGER, obj = shift_3_instance.activity_over_cover_costs[a][p] ) \n",
    "\n",
    "        m.addConstr(gp.quicksum(cover_var for cover_var in cover_vars) + under_cover_var == shift_3_instance.activity_demands[a][p] + over_cover_var)\n"
   ]
  },
  {
   "cell_type": "markdown",
   "metadata": {
    "slideshow": {
     "slide_type": "slide"
    }
   },
   "source": [
    "## Solving the model\n"
   ]
  },
  {
   "cell_type": "code",
   "execution_count": 116,
   "metadata": {},
   "outputs": [
    {
     "name": "stdout",
     "output_type": "stream",
     "text": [
      "Gurobi Optimizer version 12.0.0 build v12.0.0rc1 (win64 - Windows 10.0 (19045.2))\n",
      "\n",
      "CPU model: Intel(R) Core(TM) i7-10750H CPU @ 2.60GHz, instruction set [SSE2|AVX|AVX2]\n",
      "Thread count: 6 physical cores, 12 logical processors, using up to 12 threads\n",
      "\n",
      "Optimize a model with 20033 rows, 99094 columns and 410723 nonzeros\n",
      "Model fingerprint: 0xa18977b7\n",
      "Variable types: 0 continuous, 99094 integer (0 binary)\n",
      "Coefficient statistics:\n",
      "  Matrix range     [1e+00, 1e+00]\n",
      "  Objective range  [2e+01, 4e+02]\n",
      "  Bounds range     [2e+00, 2e+00]\n",
      "  RHS range        [1e+00, 2e+00]\n",
      "Presolve removed 18080 rows and 75929 columns\n",
      "Presolve time: 0.45s\n",
      "Presolved: 1953 rows, 23165 columns, 65852 nonzeros\n",
      "Variable types: 0 continuous, 23165 integer (0 binary)\n",
      "Found heuristic solution: objective 7280.0000000\n",
      "\n",
      "Root relaxation: objective 1.770000e+03, 4709 iterations, 0.75 seconds (1.65 work units)\n",
      "\n",
      "    Nodes    |    Current Node    |     Objective Bounds      |     Work\n",
      " Expl Unexpl |  Obj  Depth IntInf | Incumbent    BestBd   Gap | It/Node Time\n",
      "\n",
      "*    0     0               0    1770.0000000 1770.00000  0.00%     -    1s\n",
      "\n",
      "Explored 1 nodes (4709 simplex iterations) in 1.34 seconds (3.07 work units)\n",
      "Thread count was 12 (of 12 available processors)\n",
      "\n",
      "Solution count 2: 1770 7280 \n",
      "\n",
      "Optimal solution found (tolerance 1.00e-04)\n",
      "Best objective 1.770000000000e+03, best bound 1.770000000000e+03, gap 0.0000%\n"
     ]
    },
    {
     "data": {
      "text/plain": [
       "1770.0"
      ]
     },
     "execution_count": 116,
     "metadata": {},
     "output_type": "execute_result"
    }
   ],
   "source": [
    "\n",
    "m.optimize()\n",
    "m.objVal"
   ]
  },
  {
   "cell_type": "markdown",
   "metadata": {},
   "source": [
    "### Getting a solution\n",
    "- now, extracting a solution is a bit more intricate:\n",
    "  - if we decompose the flow, we only get the work blocks\n",
    "  - then, we need to assign every work block an activity block\n",
    "  \n",
    ".. we do not show this here.."
   ]
  },
  {
   "cell_type": "markdown",
   "metadata": {
    "slideshow": {
     "slide_type": "slide"
    }
   },
   "source": [
    "## Wrapping up\n",
    "\n",
    "- DP models are a (surprisingly?) versatile tool in combinatorial optimization\n",
    "- as part of MIP models, they can form the basis for highly efficient (extended) formulations\n",
    "- they also open a whole field of research topic that exploits their structure and benefits from combining different areas of research "
   ]
  },
  {
   "cell_type": "markdown",
   "metadata": {
    "slideshow": {
     "slide_type": "slide"
    }
   },
   "source": [
    "## Projects\n",
    "\n",
    "Ideally...\n",
    "- you form groups of 2-3 students\n",
    "- both the project involves aspects from this course with aspects of your own research\n",
    "- the project leads to a publication project\n",
    "\n",
    "As a starting point, I proposetwo projects \n",
    "- from the field of personnel scheduling \n",
    "- for which we have existing papers\n",
    "- and open instances\n",
    "- where I feel using the approaches can lead to new best known or even (unknown) optimal solutions\n"
   ]
  },
  {
   "cell_type": "markdown",
   "metadata": {
    "slideshow": {
     "slide_type": "slide"
    }
   },
   "source": [
    "## Project Proposal I\n",
    "\n",
    "#### Multi-Activity, Multi-Day Shift Scheduling \n",
    "\n",
    "- Problem Description: https://www.schedulingbenchmarks.org/matsp/ProblemDefinition.pdf\n",
    "- Paper proposing a Variable Neigborhood Search: https://nrl.northumbria.ac.uk/id/eprint/43314/1/ICORES_2020_42.pdf\n",
    "- Instances and best known solutions: https://www.schedulingbenchmarks.org/matsp/"
   ]
  },
  {
   "cell_type": "markdown",
   "metadata": {
    "slideshow": {
     "slide_type": "slide"
    }
   },
   "source": [
    "## Project Proposal II\n",
    "\n",
    "#### The shift design and break scheduling problem\n",
    "- Problem description, instances and best-known solutions: https://www.dbai.tuwien.ac.at/proj/SoftNet/Supervision/Benchmarks/\n",
    "- A (heuristic) two stage ILP Solution approach (Annals of OR): https://link.springer.com/article/10.1007/s10479-019-03487-6\n",
    "- A sub-problem is the shift design problem, which can be also tackled using our approaches (but: for this sub-problem,all instances already closed, I think)"
   ]
  },
  {
   "cell_type": "code",
   "execution_count": null,
   "metadata": {},
   "outputs": [],
   "source": []
  }
 ],
 "metadata": {
  "celltoolbar": "Slideshow",
  "kernelspec": {
   "display_name": ".venv",
   "language": "python",
   "name": "python3"
  },
  "language_info": {
   "codemirror_mode": {
    "name": "ipython",
    "version": 3
   },
   "file_extension": ".py",
   "mimetype": "text/x-python",
   "name": "python",
   "nbconvert_exporter": "python",
   "pygments_lexer": "ipython3",
   "version": "3.12.1"
  },
  "toc": {
   "base_numbering": 1,
   "nav_menu": {},
   "number_sections": false,
   "sideBar": true,
   "skip_h1_title": false,
   "title_cell": "Table of Contents",
   "title_sidebar": "Contents",
   "toc_cell": false,
   "toc_position": {},
   "toc_section_display": true,
   "toc_window_display": false
  },
  "varInspector": {
   "cols": {
    "lenName": 16,
    "lenType": 16,
    "lenVar": 40
   },
   "kernels_config": {
    "python": {
     "delete_cmd_postfix": "",
     "delete_cmd_prefix": "del ",
     "library": "var_list.py",
     "varRefreshCmd": "print(var_dic_list())"
    },
    "r": {
     "delete_cmd_postfix": ") ",
     "delete_cmd_prefix": "rm(",
     "library": "var_list.r",
     "varRefreshCmd": "cat(var_dic_list()) "
    }
   },
   "types_to_exclude": [
    "module",
    "function",
    "builtin_function_or_method",
    "instance",
    "_Feature"
   ],
   "window_display": false
  }
 },
 "nbformat": 4,
 "nbformat_minor": 4
}
